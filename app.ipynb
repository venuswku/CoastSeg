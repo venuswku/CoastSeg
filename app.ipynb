{
 "cells": [
  {
   "cell_type": "code",
   "execution_count": 1,
   "metadata": {},
   "outputs": [
    {
     "name": "stdout",
     "output_type": "stream",
     "text": [
      "Version:  2.9.1\n",
      "Eager mode:  True\n",
      "Version:  2.9.1\n",
      "Eager mode:  True\n",
      "GPU name:  []\n",
      "Num GPUs Available:  0\n"
     ]
    }
   ],
   "source": [
    "import warnings\n",
    "# External Imports\n",
    "from IPython.display import display, clear_output\n",
    "from tkinter import Tk,filedialog\n",
    "# import ipywidgets as widgets\n",
    "from ipywidgets import Button, HBox, VBox, Layout, DatePicker, HTML, RadioButtons, SelectMultiple, Output, Checkbox\n",
    "import os\n",
    "import datetime\n",
    "import glob\n",
    "import json\n",
    "import pandas as pd\n",
    "import geopandas as gpd\n",
    "\n",
    "# New imports for coastsat shoreline extraction\n",
    "import numpy as np\n",
    "# Local Imports \n",
    "from CoastSeg import download_roi, file_functions, zoo_model_module, coastseg_map_class\n",
    "from CoastSeg.CoastSat.coastsat import SDS_shoreline,SDS_download\n",
    "# suppress tensorflow warnings\n",
    "os.environ['TF_CPP_MIN_LOG_LEVEL'] = '3'\n",
    "root = Tk()"
   ]
  },
  {
   "cell_type": "code",
   "execution_count": 2,
   "metadata": {},
   "outputs": [
    {
     "data": {
      "application/vnd.jupyter.widget-view+json": {
       "model_id": "1c7b0ca107a041389987a36fa13e214c",
       "version_major": 2,
       "version_minor": 0
      },
      "text/plain": [
       "VBox(children=(VBox(children=(HTML(value='<b>Pick a date:</b>', layout=Layout(padding='10px')), HBox(children=…"
      ]
     },
     "metadata": {},
     "output_type": "display_data"
    }
   ],
   "source": [
    "# Date Widgets\n",
    "start_date=DatePicker(\n",
    "    description='Start Date',\n",
    "    value=datetime.date(2018, 12, 1),\n",
    "    disabled=False,\n",
    ")\n",
    "end_date=DatePicker(\n",
    "    description='End Date',\n",
    "    value=datetime.date(2019, 3, 1), #2019, 1, 1\n",
    "    disabled=False,\n",
    ")\n",
    "date_instr=HTML(\n",
    "    value=\"<b>Pick a date:</b>\",\n",
    "    layout=Layout(padding='10px')\n",
    ")\n",
    "dates_box=HBox([start_date,end_date])\n",
    "dates_vbox=VBox([date_instr,dates_box])\n",
    "\n",
    "\n",
    "collection_instr=HTML(\n",
    "    value=\"<b>Pick a collection</b>\\\n",
    "        <br> C01: LandSat Collection 1 \\\n",
    "        <br> C02: LandSat Collection 2  [2022/01/01 and beyond] \\\n",
    "        <br>      - Landsat 9 is only available in C02\",\n",
    "    layout=Layout(padding='10px')\n",
    ")\n",
    "collection_radio=RadioButtons(\n",
    "    options=['C01', 'C02'],\n",
    "    value='C01',\n",
    "    description='Collection:',\n",
    "    disabled=False\n",
    ")\n",
    "collection_vbox=VBox([collection_instr,collection_radio])\n",
    "\n",
    "sat_instr=HTML(\n",
    "    value=\"<b>Pick multiple satellites by holding the control key:</b> \\\n",
    "        <br> - images prior to 2022/01/01 will be downloaded from Collection 1 \\\n",
    "        <br> - images after 2022/01/01 will be automatically downloaded from Collection 2 \\\n",
    "        <br> C01: LandSat Collection 1 : All dates before 2022/01/01\\\n",
    "        <br> C02: LandSat Collection 2 : All dates after 2022/01/01 \\\n",
    "        <br> - Landsat 9 is only available in C02\",\n",
    "    layout=Layout(padding='10px')\n",
    ")\n",
    "\n",
    "\n",
    "satellite_selection=SelectMultiple(\n",
    "    options=['L5', 'L7', 'L8', 'S2'],\n",
    "    value=['L8'],\n",
    "    description='Satellites',\n",
    "    disabled=False\n",
    ")\n",
    "sat_vbox = VBox([sat_instr,satellite_selection])\n",
    "\n",
    "def handle_collection_change(change):\n",
    "    if change['new'] == 'C02':\n",
    "        satellite_selection.options=['L5', 'L7', 'L8', 'L9', 'S2']\n",
    "    else:\n",
    "        satellite_selection.options=['L5', 'L7', 'L8', 'S2']\n",
    "\n",
    "collection_radio.observe(handle_collection_change,\"value\")\n",
    "\n",
    "controls_vbox=VBox([dates_vbox, collection_vbox, sat_vbox])\n",
    "controls_vbox"
   ]
  },
  {
   "cell_type": "code",
   "execution_count": 3,
   "metadata": {
    "scrolled": true
   },
   "outputs": [
    {
     "name": "stdout",
     "output_type": "stream",
     "text": [
      "dates: ['2018-12-01', '2019-03-01']\n",
      "collection: C01\n",
      "sat_list: ['L8']\n"
     ]
    }
   ],
   "source": [
    "# CoastSat Download Variables\n",
    "# ------------------------------\n",
    "# Save the satellites selected to sat_list\n",
    "if satellite_selection.value:\n",
    "    sat_list = list(satellite_selection.value)\n",
    "elif not satellite_selection.value:\n",
    "    print(\"ERROR: You must select at least one satellite first\")\n",
    "# Save the dates selected by the user as well as the selected collection\n",
    "dates = [str(start_date.value),str(end_date.value)]\n",
    "collection = collection_radio.value\n",
    "print(f\"dates: {dates}\")\n",
    "print(f\"collection: {collection}\")\n",
    "print(f\"sat_list: {sat_list}\")"
   ]
  },
  {
   "cell_type": "code",
   "execution_count": 4,
   "metadata": {},
   "outputs": [],
   "source": [
    "pre_process_settings = { \n",
    "    # general parameters:\n",
    "    'cloud_thresh': 0.5,        # threshold on maximum cloud cover\n",
    "     'dist_clouds': 300,        # ditance around clouds where shoreline can't be mapped\n",
    "    'output_epsg': 3857,        # epsg code of spatial reference system desired for the output   \n",
    "    # quality control:\n",
    "    'check_detection': True,    # if True, shows each shoreline detection to the user for validation\n",
    "    'adjust_detection': False,  # if True, allows user to adjust the postion of each shoreline by changing the threhold\n",
    "    'save_figure': True,        # if True, saves a figure showing the mapped shoreline for each image\n",
    "    # [ONLY FOR ADVANCED USERS] shoreline detection parameters:\n",
    "    'min_beach_area': 4500,     # minimum area (in metres^2) for an object to be labelled as a beach\n",
    "    'buffer_size': 150,         # radius (in metres) of the buffer around sandy pixels considered in the shoreline detection\n",
    "    'min_length_sl': 200,       # minimum length (in metres) of shoreline perimeter to be valid\n",
    "    'cloud_mask_issue': False,  # switch this parameter to True if sand pixels are masked (in black) on many images  \n",
    "    'sand_color': 'default',    # 'default', 'dark' (for grey/black sand beaches) or 'bright' (for white sand beaches)\n",
    "    'pan_off':'False',          # if True, no pan-sharpening is performed on Landsat 7,8 and 9 imagery\n",
    "}\n",
    "\n",
    "# Output wdiget used to print messages and exceptions created by CoastSeg_Map\n",
    "debug_view = Output(layout={'border': '1px solid black'})"
   ]
  },
  {
   "cell_type": "markdown",
   "metadata": {},
   "source": [
    "# Create the Map\n",
    "- Create the map using the map settings set above"
   ]
  },
  {
   "cell_type": "code",
   "execution_count": 5,
   "metadata": {},
   "outputs": [],
   "source": [
    "coastseg_map=coastseg_map_class.CoastSeg_Map()"
   ]
  },
  {
   "cell_type": "markdown",
   "metadata": {},
   "source": [
    "# How to Use The Map\n",
    "---\n",
    "1. Use the rectangle tool to draw a bounding box along the coastline.\n",
    "2. Click `Generate ROI` to create ROI rectangles along the coastline in the bounding box. This may take some time.\n",
    "- You should see a coastline appear in yellow and some rectangles along it.\n",
    "3. Click 1 or more ROIs then click `Save ROI` to save these ROIs for downloading later\n",
    "4. You're ready to download the ROIs. Run the next block of code."
   ]
  },
  {
   "cell_type": "code",
   "execution_count": 6,
   "metadata": {},
   "outputs": [
    {
     "data": {
      "application/vnd.jupyter.widget-view+json": {
       "model_id": "1a087ee3e7a543468768f7efaea209dc",
       "version_major": 2,
       "version_minor": 0
      },
      "text/plain": [
       "Output(layout=Layout(border='1px solid black'))"
      ]
     },
     "metadata": {},
     "output_type": "display_data"
    },
    {
     "data": {
      "application/vnd.jupyter.widget-view+json": {
       "model_id": "cd3b3b003f2546fdaf6f08802884f24a",
       "version_major": 2,
       "version_minor": 0
      },
      "text/plain": [
       "HBox(children=(Button(description='Load Transects', style=ButtonStyle()), Button(description='Load Shoreline',…"
      ]
     },
     "metadata": {},
     "output_type": "display_data"
    },
    {
     "data": {
      "application/vnd.jupyter.widget-view+json": {
       "model_id": "c457677f56cb4d60b82f14704e91117d",
       "version_major": 2,
       "version_minor": 0
      },
      "text/plain": [
       "HBox(children=(Button(description='Remove all', style=ButtonStyle()), Button(description='Remove transects', s…"
      ]
     },
     "metadata": {},
     "output_type": "display_data"
    },
    {
     "data": {
      "application/vnd.jupyter.widget-view+json": {
       "model_id": "c833d9e3ffd64b52a3366441dad0776f",
       "version_major": 2,
       "version_minor": 0
      },
      "text/plain": [
       "Map(center=[36, -121.5], controls=(ZoomControl(options=['position', 'zoom_in_text', 'zoom_in_title', 'zoom_out…"
      ]
     },
     "metadata": {},
     "output_type": "display_data"
    }
   ],
   "source": [
    "transects_button = Button(description=\"Load Transects\")\n",
    "shoreline_button = Button(description=\"Load Shoreline\")\n",
    "gen_button =Button(description=\"Generate ROI\")\n",
    "save_button = Button(description=\"Save ROI\")\n",
    "clear_debug_button = Button(description=\"Clear TextBox\")\n",
    "\n",
    "remove_all_button = Button(description=\"Remove all\")\n",
    "remove_transects_button = Button(description=\"Remove transects\")\n",
    "remove_bbox_button = Button(description=\"Remove bbox\")\n",
    "remove_coastline_button = Button(description=\"Remove coastline\")\n",
    "remove_rois_button = Button(description=\"Remove ROIs\")\n",
    "remove_saved_roi_button = Button(description=\"Remove saved ROIs\")\n",
    "\n",
    "@debug_view.capture(clear_output=True)\n",
    "def on_shoreline_button_clicked(b):\n",
    "    if coastseg_map.shapes_list == [] :\n",
    "        print(\"Draw a bounding box on the coast first, then click Load Transects.\")\n",
    "    else:\n",
    "        debug_view.clear_output(wait=True)\n",
    "        print(\"Loading shoreline please wait.\") \n",
    "        # Add the transects to the map\n",
    "        coastseg_map.load_shoreline_on_map()\n",
    "        print(\"Shoreline loaded.\")\n",
    "\n",
    "@debug_view.capture(clear_output=True)\n",
    "def on_transects_button_clicked(b):\n",
    "    if coastseg_map.shapes_list == [] :\n",
    "        print(\"Draw a bounding box on the coast first, then click Load Transects.\")\n",
    "    else:\n",
    "        debug_view.clear_output(wait=True)\n",
    "        print(\"Loading transects please wait.\") \n",
    "        # Add the transects to the map\n",
    "        coastseg_map.load_transects_on_map()\n",
    "        print(\"Transects Loaded.\")\n",
    "\n",
    "        \n",
    "@debug_view.capture(clear_output=True)\n",
    "def on_gen_button_clicked(b):\n",
    "    if coastseg_map.shapes_list == [] :\n",
    "        print(\"Draw a bounding box on the coast first, then click Generate ROI.\")\n",
    "    else:\n",
    "        debug_view.clear_output(wait=True)\n",
    "        print(\"Generating ROIs please wait.\") \n",
    "        # Generate ROIs along the coastline within the bounding box\n",
    "        coastseg_map.generate_ROIS_fishnet(5000,0)\n",
    "        debug_view.clear_output(wait=True)\n",
    "        # Add the Clickable ROIs to the map\n",
    "        coastseg_map.add_geojson_layer_to_map()\n",
    "        print(\"ROIs generated. Please Select at least one ROI and click Save ROI.\")\n",
    "\n",
    "@debug_view.capture(clear_output=True)\n",
    "def on_save_button_clicked(b):\n",
    "    if coastseg_map.selected_set:\n",
    "        if len(coastseg_map.selected_set) == 0:\n",
    "             print(\"Must select at least 1 ROI first before you can save ROIs.\")\n",
    "        else:\n",
    "            debug_view.clear_output(wait=True)\n",
    "            coastseg_map.save_roi_fishnet(\"fishnet_rois.geojson\")\n",
    "            print(\"Saving ROIs\")\n",
    "            debug_view.clear_output(wait=True)\n",
    "            print(\"ROIs have been saved. Now click Download ROI to download the ROIs using CoastSat\")\n",
    "    else:\n",
    "        print(\"No ROIs were selected.\")\n",
    "\n",
    "\n",
    "def remove_all_from_map(b):\n",
    "    coastseg_map.remove_all()\n",
    "def remove_transects(b):\n",
    "    coastseg_map.remove_transects()\n",
    "def remove_bbox_from_map(b):\n",
    "    coastseg_map.remove_bbox()\n",
    "def remove_coastline_from_map(b):\n",
    "    coastseg_map.remove_shoreline()\n",
    "def remove_all_rois_from_map(b):\n",
    "    coastseg_map.remove_all_rois()\n",
    "def remove_saved_roi_clicked(b):\n",
    "    coastseg_map.remove_saved_roi()\n",
    "def clear_debug_view(b):\n",
    "    with debug_view:\n",
    "        clear_output()\n",
    "        \n",
    "\n",
    "transects_button.on_click(on_transects_button_clicked)    \n",
    "shoreline_button.on_click(on_shoreline_button_clicked) \n",
    "gen_button.on_click(on_gen_button_clicked)\n",
    "save_button.on_click(on_save_button_clicked)\n",
    "clear_debug_button.on_click(clear_debug_view)\n",
    "\n",
    "\n",
    "remove_all_button.on_click(remove_all_from_map)\n",
    "remove_transects_button.on_click(remove_transects)\n",
    "remove_bbox_button.on_click(remove_bbox_from_map)\n",
    "remove_coastline_button.on_click(remove_coastline_from_map)\n",
    "remove_rois_button.on_click(remove_all_rois_from_map)\n",
    "remove_saved_roi_button.on_click(remove_saved_roi_clicked)\n",
    "\n",
    "erase_buttons=HBox([remove_all_button, remove_transects_button, remove_bbox_button, remove_coastline_button, remove_rois_button, remove_saved_roi_button])\n",
    "\n",
    "display(debug_view,HBox([transects_button,shoreline_button, gen_button, save_button,clear_debug_button]),erase_buttons)\n",
    "# Display the map\n",
    "coastseg_map.m"
   ]
  },
  {
   "cell_type": "markdown",
   "metadata": {},
   "source": [
    "## Download the Selected ROIs\n",
    "- Download the satellite imagery for the ROIs using CoastSat.\n",
    "\n",
    "⚠️ Make sure you have clicked `Save ROI` before running the following code.\n",
    " \n",
    "### Parameters for download_imagery()\n",
    "1. `coastseg_map.selected_ROI` : geojson for the ROI clicked\n",
    "2. `pre_process_settings`: settings for downloading data using CoastSat\n",
    "3. `dates` : date range to download the imagery\n",
    "4. `sat_list` : list of satellites to download imagery from\n",
    "5. `collection` : LandSat Collection 1 (`C01`) or Collection 2 (`C02`)"
   ]
  },
  {
   "cell_type": "code",
   "execution_count": 7,
   "metadata": {},
   "outputs": [
    {
     "name": "stdout",
     "output_type": "stream",
     "text": [
      "Images available: \n",
      " [{'polygon': [[[-122.09380699999998, 36.940545], [-122.04889123579402, 36.940545], [-122.04889123579402, 36.97643589694986], [-122.09380699999998, 36.97643589694986], [-122.09380699999998, 36.940545]]], 'dates': ['2018-12-01', '2019-03-01'], 'sat_list': ['L8'], 'sitename': 'ID02022-08-22__15_hr_33_min06', 'filepath': 'C:\\\\Users\\\\Venuxk\\\\Projects\\\\CoastSeg\\\\data', 'roi_id': '0', 'landsat_collection': 'C01'}, {'polygon': [[[-122.04889123579402, 36.940545], [-122.00397547158803, 36.940545], [-122.00397547158803, 36.97643589694986], [-122.04889123579402, 36.97643589694986], [-122.04889123579402, 36.940545]]], 'dates': ['2018-12-01', '2019-03-01'], 'sat_list': ['L8'], 'sitename': 'ID12022-08-22__15_hr_33_min06', 'filepath': 'C:\\\\Users\\\\Venuxk\\\\Projects\\\\CoastSeg\\\\data', 'roi_id': '1', 'landsat_collection': 'C01'}, {'polygon': [[[-122.00397547158803, 36.940545], [-121.95905970738207, 36.940545], [-121.95905970738207, 36.97643589694986], [-122.00397547158803, 36.97643589694986], [-122.00397547158803, 36.940545]]], 'dates': ['2018-12-01', '2019-03-01'], 'sat_list': ['L8'], 'sitename': 'ID22022-08-22__15_hr_33_min06', 'filepath': 'C:\\\\Users\\\\Venuxk\\\\Projects\\\\CoastSeg\\\\data', 'roi_id': '2', 'landsat_collection': 'C01'}, {'polygon': [[[-121.95905970738207, 36.940545], [-121.91414394317609, 36.940545], [-121.91414394317609, 36.97643589694986], [-121.95905970738207, 36.97643589694986], [-121.95905970738207, 36.940545]]], 'dates': ['2018-12-01', '2019-03-01'], 'sat_list': ['L8'], 'sitename': 'ID32022-08-22__15_hr_33_min06', 'filepath': 'C:\\\\Users\\\\Venuxk\\\\Projects\\\\CoastSeg\\\\data', 'roi_id': '3', 'landsat_collection': 'C01'}]\n"
     ]
    },
    {
     "name": "stderr",
     "output_type": "stream",
     "text": [
      "\r",
      "Downloading ROIs:   0%|                                                                          | 0/4 [00:00<?, ?it/s]"
     ]
    },
    {
     "name": "stdout",
     "output_type": "stream",
     "text": [
      "Number of images available between 2018-12-01 and 2019-03-01:\n",
      "- In Landsat Tier 1 & Sentinel-2 Level-1C:\n",
      "     L8: 5 images\n",
      "  Total to download: 5 images\n",
      "- In Landsat Tier 2 (not suitable for time-series analysis):\n",
      "     L8: 5 images\n",
      "  Total Tier 2: 5 images\n",
      "\n",
      "Downloading images:\n",
      "L8: 5 images\n",
      "80%"
     ]
    },
    {
     "name": "stderr",
     "output_type": "stream",
     "text": [
      "\r",
      "Downloading ROIs:  25%|████████████████▌                                                 | 1/4 [00:17<00:52, 17.37s/it]"
     ]
    },
    {
     "name": "stdout",
     "output_type": "stream",
     "text": [
      "100%\n",
      "Satellite images downloaded from GEE and save in C:\\Users\\Venuxk\\Projects\\CoastSeg\\data\\ID02022-08-22__15_hr_33_min06\n",
      "Saving images as jpg:\n",
      "L8: 5 images\n",
      "100%\n",
      "Satellite images saved as .jpg in C:\\Users\\Venuxk\\Projects\\CoastSeg\\data\\ID02022-08-22__15_hr_33_min06\\jpg_files\\preprocessed\n",
      "Number of images available between 2018-12-01 and 2019-03-01:\n",
      "- In Landsat Tier 1 & Sentinel-2 Level-1C:\n",
      "     L8: 5 images\n",
      "  Total to download: 5 images\n",
      "- In Landsat Tier 2 (not suitable for time-series analysis):\n",
      "     L8: 5 images\n",
      "  Total Tier 2: 5 images\n",
      "\n",
      "Downloading images:\n",
      "L8: 5 images\n",
      "80%"
     ]
    },
    {
     "name": "stderr",
     "output_type": "stream",
     "text": [
      "\r",
      "Downloading ROIs:  50%|█████████████████████████████████                                 | 2/4 [00:33<00:33, 16.55s/it]"
     ]
    },
    {
     "name": "stdout",
     "output_type": "stream",
     "text": [
      "100%\n",
      "Satellite images downloaded from GEE and save in C:\\Users\\Venuxk\\Projects\\CoastSeg\\data\\ID12022-08-22__15_hr_33_min06\n",
      "Saving images as jpg:\n",
      "L8: 5 images\n",
      "100%\n",
      "Satellite images saved as .jpg in C:\\Users\\Venuxk\\Projects\\CoastSeg\\data\\ID12022-08-22__15_hr_33_min06\\jpg_files\\preprocessed\n",
      "Number of images available between 2018-12-01 and 2019-03-01:\n",
      "- In Landsat Tier 1 & Sentinel-2 Level-1C:\n",
      "     L8: 5 images\n",
      "  Total to download: 5 images\n",
      "- In Landsat Tier 2 (not suitable for time-series analysis):\n",
      "     L8: 5 images\n",
      "  Total Tier 2: 5 images\n",
      "\n",
      "Downloading images:\n",
      "L8: 5 images\n",
      "80%"
     ]
    },
    {
     "name": "stderr",
     "output_type": "stream",
     "text": [
      "\r",
      "Downloading ROIs:  75%|█████████████████████████████████████████████████▌                | 3/4 [00:48<00:15, 15.88s/it]"
     ]
    },
    {
     "name": "stdout",
     "output_type": "stream",
     "text": [
      "100%\n",
      "Satellite images downloaded from GEE and save in C:\\Users\\Venuxk\\Projects\\CoastSeg\\data\\ID22022-08-22__15_hr_33_min06\n",
      "Saving images as jpg:\n",
      "L8: 5 images\n",
      "100%\n",
      "Satellite images saved as .jpg in C:\\Users\\Venuxk\\Projects\\CoastSeg\\data\\ID22022-08-22__15_hr_33_min06\\jpg_files\\preprocessed\n",
      "Number of images available between 2018-12-01 and 2019-03-01:\n",
      "- In Landsat Tier 1 & Sentinel-2 Level-1C:\n",
      "     L8: 5 images\n",
      "  Total to download: 5 images\n",
      "- In Landsat Tier 2 (not suitable for time-series analysis):\n",
      "     L8: 5 images\n",
      "  Total Tier 2: 5 images\n",
      "\n",
      "Downloading images:\n",
      "L8: 5 images\n",
      "80%"
     ]
    },
    {
     "name": "stderr",
     "output_type": "stream",
     "text": [
      "Downloading ROIs: 100%|██████████████████████████████████████████████████████████████████| 4/4 [01:03<00:00, 15.96s/it]"
     ]
    },
    {
     "name": "stdout",
     "output_type": "stream",
     "text": [
      "\r",
      "100%\n",
      "Satellite images downloaded from GEE and save in C:\\Users\\Venuxk\\Projects\\CoastSeg\\data\\ID32022-08-22__15_hr_33_min06\n",
      "Saving images as jpg:\n",
      "L8: 5 images\n",
      "\r",
      "20%\r",
      "40%\r",
      "60%\r",
      "80%\r",
      "100%\n",
      "Satellite images saved as .jpg in C:\\Users\\Venuxk\\Projects\\CoastSeg\\data\\ID32022-08-22__15_hr_33_min06\\jpg_files\\preprocessed\n"
     ]
    },
    {
     "name": "stderr",
     "output_type": "stream",
     "text": [
      "\n"
     ]
    }
   ],
   "source": [
    "if coastseg_map.selected_ROI:\n",
    "    download_roi.download_imagery(coastseg_map.selected_ROI,pre_process_settings,dates,sat_list,collection)\n",
    "else:\n",
    "    print(\"No ROIs were selected. \\nPlease select at least one ROI and click 'Save ROI' to save these ROI for download.\")"
   ]
  },
  {
   "cell_type": "code",
   "execution_count": 8,
   "metadata": {},
   "outputs": [
    {
     "data": {
      "application/vnd.jupyter.widget-view+json": {
       "model_id": "705e5cd053c34bd6b149efae3ec8224f",
       "version_major": 2,
       "version_minor": 0
      },
      "text/plain": [
       "Checkbox(value=False, description='Use GPU?', indent=False)"
      ]
     },
     "metadata": {},
     "output_type": "display_data"
    },
    {
     "data": {
      "application/vnd.jupyter.widget-view+json": {
       "model_id": "e1a4b547efd549cfad145a4855b8eb9a",
       "version_major": 2,
       "version_minor": 0
      },
      "text/plain": [
       "Output()"
      ]
     },
     "metadata": {},
     "output_type": "display_data"
    },
    {
     "data": {
      "application/vnd.jupyter.widget-view+json": {
       "model_id": "6a7e71d559b44172aacff22e3503dfd5",
       "version_major": 2,
       "version_minor": 0
      },
      "text/plain": [
       "HBox(children=(RadioButtons(description='Select Model:', options=('landsat_6229071', 'landsat_6230083', 'SWED-…"
      ]
     },
     "metadata": {},
     "output_type": "display_data"
    },
    {
     "data": {
      "application/vnd.jupyter.widget-view+json": {
       "model_id": "0d43f92474664df38819fd9c8e73224d",
       "version_major": 2,
       "version_minor": 0
      },
      "text/plain": [
       "VBox(children=(HTML(value='<h4>Click ONE of the following buttons:</h4>', layout=Layout(margin='0px 0px 0px 0p…"
      ]
     },
     "metadata": {},
     "output_type": "display_data"
    },
    {
     "data": {
      "application/vnd.jupyter.widget-view+json": {
       "model_id": "390096107c6847f48cd17833186d47fc",
       "version_major": 2,
       "version_minor": 0
      },
      "text/plain": [
       "Button(description='Use Data Button', style=ButtonStyle())"
      ]
     },
     "metadata": {},
     "output_type": "display_data"
    },
    {
     "data": {
      "application/vnd.jupyter.widget-view+json": {
       "model_id": "1806ab330c094d9db0175d82348b2150",
       "version_major": 2,
       "version_minor": 0
      },
      "text/plain": [
       "Button(description='Select Your Images', style=ButtonStyle())"
      ]
     },
     "metadata": {},
     "output_type": "display_data"
    },
    {
     "data": {
      "application/vnd.jupyter.widget-view+json": {
       "model_id": "591a30f8b75a468a99644b05089e72a0",
       "version_major": 2,
       "version_minor": 0
      },
      "text/plain": [
       "HTML(value='____________________________________________________')"
      ]
     },
     "metadata": {},
     "output_type": "display_data"
    },
    {
     "data": {
      "application/vnd.jupyter.widget-view+json": {
       "model_id": "44f92e3e22484b0080d35a214d9cea6e",
       "version_major": 2,
       "version_minor": 0
      },
      "text/plain": [
       "Output(layout=Layout(border='1px solid black'))"
      ]
     },
     "metadata": {},
     "output_type": "display_data"
    },
    {
     "data": {
      "application/vnd.jupyter.widget-view+json": {
       "model_id": "566f07875ab747b4b829558c66b927a1",
       "version_major": 2,
       "version_minor": 0
      },
      "text/plain": [
       "Button(description='Run Model', style=ButtonStyle())"
      ]
     },
     "metadata": {},
     "output_type": "display_data"
    },
    {
     "data": {
      "application/vnd.jupyter.widget-view+json": {
       "model_id": "bdb86319adb64fe3a35f4f12de114799",
       "version_major": 2,
       "version_minor": 0
      },
      "text/plain": [
       "Output(layout=Layout(border='1px solid black'))"
      ]
     },
     "metadata": {},
     "output_type": "display_data"
    }
   ],
   "source": [
    "model_dict={\"sample_direc\":None,\"use_GPU\":False, 'implementation':'ENSEMBLE','model_type':'landsat_6229071'}\n",
    "\n",
    "model_view = Output(layout={'border': '1px solid black'})\n",
    "run_model_view = Output(layout={'border': '1px solid black'})\n",
    "GPU_view = Output()\n",
    "\n",
    "run_model_button = Button(description=\"Run Model\")\n",
    "use_data_button = Button(description=\"Use Data Button\")\n",
    "use_select_images_button = Button(description=\"Select Your Images\")\n",
    "\n",
    "\n",
    "model_implementation = RadioButtons(\n",
    "    options=['ENSEMBLE', 'BEST'],\n",
    "   value='ENSEMBLE',\n",
    "    description='Select:',\n",
    "    disabled=False\n",
    ")\n",
    "\n",
    "model_dropdown = RadioButtons(\n",
    "    options= ['landsat_6229071', 'landsat_6230083','SWED-RGB_6824384','SWED-MNDWI_6824342','coast-train-RGB_6950479', 'S2-water-SWED_6950474'],\n",
    "    value='landsat_6229071',\n",
    "    description='Select Model:',\n",
    "    disabled=False,\n",
    ")\n",
    "\n",
    "\n",
    "GPU_checkbox = Checkbox(\n",
    "    value=False,\n",
    "    description='Use GPU?',\n",
    "    disabled=False,\n",
    "    indent=False\n",
    ")\n",
    "\n",
    "\n",
    "def handle_model_type(change):\n",
    "    model_dict[\"model_type\"]=change['new']\n",
    "\n",
    "\n",
    "def handle_model_implementation(change):\n",
    "    model_dict[\"implementation\"]=change['new']\n",
    "\n",
    "\n",
    "@GPU_view.capture(clear_output=True)\n",
    "def handle_GPU_checkbox(change):\n",
    "    if change[\"new\"] == True:\n",
    "        model_dict[\"use_GPU\"]=True\n",
    "        print(\"Using the GPU\")\n",
    "    else:\n",
    "        model_dict[\"use_GPU\"]=False\n",
    "        print(\"Not using the GPU\")\n",
    "        \n",
    "\n",
    "@model_view.capture(clear_output=True)\n",
    "def use_data_button_clicked(button):\n",
    "    # Use the data folder as the input for segmentation\n",
    "    print(\"Loading in the jpgs from the data directory\")\n",
    "    # Copy the jpgs from data to a new folder called segmentation_data_[datetime]\n",
    "    if 'MNDWI' in model_dropdown.value:\n",
    "        sample_direc =r'C:\\1_USGS\\CoastSeg\\repos\\2_CoastSeg\\CoastSeg_fork\\Seg2Map\\MNDWI_outputs\\MNDWI_ouputs_2022-07-21__07_hr_57_min14'\n",
    "#         sample_direc = file_functions.get_jpgs_from_data('MNDWI')\n",
    "#         RGB_path=sample_direc+os.sep+'RGB'\n",
    "#         NIR_path=sample_direc+os.sep+'NIR'\n",
    "#         sample_direc = coastseg_map.RGB_to_MNDWI(RGB_path,NIR_path,sample_direc)\n",
    "        model_dict[\"sample_direc\"]=sample_direc\n",
    "    else:\n",
    "        sample_direc = file_functions.get_jpgs_from_data('RGB')\n",
    "        model_dict[\"sample_direc\"]=sample_direc\n",
    "        jpgs = glob.glob1(sample_direc + os.sep, \"*jpg\")\n",
    "        if jpgs == []:\n",
    "            raise Exception(\"\\nThe directory contains no jpgs! Please select a directory with jpgs.\")\n",
    "    print(f\"\\nContents of the data directory saved in {sample_direc}\")\n",
    "\n",
    "\n",
    "@model_view.capture(clear_output=True)\n",
    "def use_select_images_button_clicked(button):\n",
    "    # Prompt the user to select a directory of images                              \n",
    "    root.withdraw()                                        # Hide the main window.\n",
    "    root.call('wm', 'attributes', '.', '-topmost', True)   # Raise the root to the top of all windows.\n",
    "    root.filename =  filedialog.askdirectory(initialdir = \"/samples\",title = \"Select directory of images (or npzs) to segment\")\n",
    "    # Save the filename as an attribute of the button\n",
    "    if root.filename:\n",
    "        sample_direc= root.filename\n",
    "        model_dict[\"sample_direc\"]=root.filename\n",
    "        print(f\"The images in the folder will be segmented :\\n{sample_direc} \")\n",
    "        jpgs = glob.glob1(sample_direc + os.sep, \"*jpg\")\n",
    "        if jpgs == []:\n",
    "            raise Exception(\"The directory contains no jpgs! Please select a directory with jpgs.\")\n",
    "    else:\n",
    "        raise Exception(\"You must select a valid directory first!\")\n",
    "\n",
    "@run_model_view.capture(clear_output=True)\n",
    "def run_model_button_clicked(button):\n",
    "    print(\"Called Run Model\")\n",
    "    if model_dict[\"sample_direc\"] is None:\n",
    "        print(\"You must click 'Use Data' or 'Select Images' First\")\n",
    "        return\n",
    "    else:\n",
    "        if model_dict[\"use_GPU\"] == False:\n",
    "            print(\"Not using the GPU\")\n",
    "            ## to use the CPU (not recommended):\n",
    "            os.environ['CUDA_VISIBLE_DEVICES'] = '-1'\n",
    "        elif model_dict[\"use_GPU\"] == True:\n",
    "            print(\"Using the GPU\")\n",
    "            ##use the first available GPU\n",
    "            os.environ['CUDA_VISIBLE_DEVICES'] = '0' #'1'\n",
    "        if 'MNDWI' in model_dropdown.value:\n",
    "            dataset='MNDWI'\n",
    "        else:\n",
    "            dataset='RGB'\n",
    "        dataset_id=model_dict['model_type']\n",
    "#         model_dict['implementation']=model_implementation.value\n",
    "        model_choice=model_dict['implementation']\n",
    "        zoo_model=zoo_model_module.Zoo_Model()\n",
    "        # # First download the specified model\n",
    "        zoo_model.download_model(dataset,dataset_id)\n",
    "        # # Get weights as list\n",
    "        Ww=zoo_model.get_weights_list(model_choice)\n",
    "        # Load the model from the config files\n",
    "        model, model_list, config_files, model_types=zoo_model.get_model(Ww)\n",
    "        metadatadict=zoo_model.get_metadatadict(Ww,config_files, model_types)\n",
    "        # # Compute the segmentation\n",
    "        zoo_model.compute_segmentation(model_dict[\"sample_direc\"], model_list, metadatadict)\n",
    "    \n",
    "    \n",
    "model_implementation.observe(handle_model_implementation,\"value\")\n",
    "model_dropdown.observe(handle_model_type,\"value\")\n",
    "GPU_checkbox.observe(handle_GPU_checkbox,\"value\")\n",
    "\n",
    "\n",
    "run_model_button.on_click(run_model_button_clicked)\n",
    "use_data_button.on_click(use_data_button_clicked)\n",
    "use_select_images_button.on_click(use_select_images_button_clicked)\n",
    "\n",
    "model_choices_box=HBox([model_dropdown, model_implementation])\n",
    "\n",
    "line_widget=HTML(value=\"____________________________________________________\")\n",
    "\n",
    "instr_header=HTML(\n",
    "    value=\"<h4>Click ONE of the following buttons:</h4>\",layout=Layout(margin='0px 0px 0px 0px'))\n",
    "\n",
    "instr_use_data=HTML(\n",
    "    value=\"<b>1. Use Data Folder Button</b> \\\n",
    "        <br> - When CoastSat downloads imagery it created a folder called 'data'in the CoastSeg directory.\\\n",
    "            The jpgs within the 'data' folder will be copied to another folder with a name such as\\\n",
    "            <span style=\\\"background-color:LightGray;\\\">segmentation_data_2022-07-07__10_hr_04_min58 </span>\\\n",
    "            (the date and time will be the current date and time) <br> \\\n",
    "           The model will be applied to this folder and the model outputs will be generated within a subdirectory \\\n",
    "            called 'out'\",layout=Layout(margin='0px 0px 0px 20px'))\n",
    "\n",
    "instr_select_images=HTML(\n",
    "    value=\"<b>2. Select Images Button</b> \\\n",
    "        <br> - This will open a pop up window where the folder containing the jpgs can be selected.<br>\\\n",
    "             - The model will be applied to this folder and the model outputs will be generated within a subdirectory\\\n",
    "             called 'out'<br>\\\n",
    "      - <span style=\\\"background-color:yellow;\\\">WARNING :</span> You will not be able to see the files within the folder you select.<br>\\\n",
    "    \",layout=Layout(margin='0px 0px 0px 20px'))\n",
    "\n",
    "instr_vbox=VBox([instr_header, line_widget, instr_use_data, instr_select_images])\n",
    "\n",
    "display(GPU_checkbox,GPU_view,model_choices_box,instr_vbox,use_data_button,use_select_images_button,line_widget, model_view,run_model_button,run_model_view)"
   ]
  },
  {
   "cell_type": "markdown",
   "metadata": {},
   "source": [
    "## Example Using New RGB_to_MNDWI function\n",
    "Replace `rgb_path` and `nir_path` was the full path to the directories containing the corresponding RGB and NIR images.\n",
    "The outputs will be in a directory called `MNDWI_outputs` as `.npz`"
   ]
  },
  {
   "cell_type": "code",
   "execution_count": 12,
   "metadata": {},
   "outputs": [
    {
     "data": {
      "text/plain": [
       "'C:\\\\Users\\\\Venuxk\\\\Projects\\\\CoastSeg\\\\MNDWI_outputs\\\\MNDWI_ouputs_2022-08-16__15_hr_57_min41'"
      ]
     },
     "execution_count": 12,
     "metadata": {},
     "output_type": "execute_result"
    }
   ],
   "source": [
    "# Replace these temp paths with the paths you have\n",
    "rgb_path=r'C:\\Users\\Venuxk\\Projects\\CoastSeg\\data\\ID22022-08-16__14_hr_31_min53\\jpg_files\\preprocessed\\RGB'\n",
    "nir_path = r'C:\\Users\\Venuxk\\Projects\\CoastSeg\\data\\ID22022-08-16__14_hr_31_min53\\jpg_files\\preprocessed\\NIR'\n",
    "coastseg_map_copy=coastseg_map_class.CoastSeg_Map()\n",
    "coastseg_map_copy.RGB_to_MNDWI(rgb_path,nir_path,os.getcwd())"
   ]
  },
  {
   "cell_type": "code",
   "execution_count": null,
   "metadata": {},
   "outputs": [],
   "source": []
  }
 ],
 "metadata": {
  "kernelspec": {
   "display_name": "Python 3 (ipykernel)",
   "language": "python",
   "name": "python3"
  },
  "language_info": {
   "codemirror_mode": {
    "name": "ipython",
    "version": 3
   },
   "file_extension": ".py",
   "mimetype": "text/x-python",
   "name": "python",
   "nbconvert_exporter": "python",
   "pygments_lexer": "ipython3",
   "version": "3.10.4"
  },
  "vscode": {
   "interpreter": {
    "hash": "9d097efbdf24db87a2507c17c632c6d564e7aff5ba5cfc04e62a44a8b3d6a20a"
   }
  },
  "widgets": {
   "application/vnd.jupyter.widget-state+json": {
    "state": {
     "000a7b5bdd5644eea1ba10027f92c864": {
      "model_module": "jupyter-leaflet",
      "model_module_version": "^0.16.0",
      "model_name": "LeafletTileLayerModel",
      "state": {
       "_model_module_version": "^0.16.0",
       "_view_module_version": "^0.16.0",
       "attribution": "© swisstopo",
       "max_native_zoom": 18,
       "min_native_zoom": 0,
       "name": "SwissFederalGeoportal.NationalMapColor",
       "options": [
        "attribution",
        "bounds",
        "detect_retina",
        "max_native_zoom",
        "max_zoom",
        "min_native_zoom",
        "min_zoom",
        "no_wrap",
        "tile_size",
        "tms"
       ],
       "url": "https://wmts.geo.admin.ch/1.0.0/ch.swisstopo.pixelkarte-farbe/default/current/3857/{z}/{x}/{y}.jpeg"
      }
     },
     "00bb1fdbf9e44359a393d7cb13de0c76": {
      "model_module": "jupyter-leaflet",
      "model_module_version": "^0.16.0",
      "model_name": "LeafletZoomControlModel",
      "state": {
       "_model_module_version": "^0.16.0",
       "_view_module_version": "^0.16.0",
       "options": [
        "position",
        "zoom_in_text",
        "zoom_in_title",
        "zoom_out_text",
        "zoom_out_title"
       ]
      }
     },
     "00bd2362834b4c039e36e07b7ea4a48f": {
      "model_module": "@jupyter-widgets/controls",
      "model_module_version": "1.5.0",
      "model_name": "ButtonModel",
      "state": {
       "description": "Save ROI",
       "layout": "IPY_MODEL_771b74e629244517b0b969b63e064b95",
       "style": "IPY_MODEL_6abf75387bcf4e689612133d21a0855b"
      }
     },
     "011261b8d90a4d3e9317a15b3b8a951c": {
      "model_module": "jupyter-leaflet",
      "model_module_version": "^0.16.0",
      "model_name": "LeafletTileLayerModel",
      "state": {
       "_model_module_version": "^0.16.0",
       "_view_module_version": "^0.16.0",
       "attribution": "(C) OpenStreetMap contributors",
       "max_native_zoom": 18,
       "max_zoom": 15,
       "min_native_zoom": 0,
       "name": "HikeBike.HillShading",
       "options": [
        "attribution",
        "bounds",
        "detect_retina",
        "max_native_zoom",
        "max_zoom",
        "min_native_zoom",
        "min_zoom",
        "no_wrap",
        "tile_size",
        "tms"
       ],
       "url": "https://tiles.wmflabs.org/hillshading/{z}/{x}/{y}.png"
      }
     },
     "0244a74acef340b49ec546a6019121a0": {
      "model_module": "@jupyter-widgets/controls",
      "model_module_version": "1.5.0",
      "model_name": "ToggleButtonModel",
      "state": {
       "button_style": "primary",
       "icon": "eraser",
       "layout": "IPY_MODEL_d75717ff8b13452cb371ae3eda0808ca",
       "style": "IPY_MODEL_7d9bc10b5ead45a986b4f0e16816701a",
       "tooltip": "Remove all drawn features"
      }
     },
     "03ea25b2573c49b6bfce3274b6219356": {
      "model_module": "@jupyter-widgets/base",
      "model_module_version": "1.2.0",
      "model_name": "LayoutModel",
      "state": {}
     },
     "04b0824a8e1743b28790517a5de522e7": {
      "model_module": "@jupyter-widgets/base",
      "model_module_version": "1.2.0",
      "model_name": "LayoutModel",
      "state": {}
     },
     "052f7939909448c59576bed485fabf8a": {
      "model_module": "jupyter-leaflet",
      "model_module_version": "^0.16.0",
      "model_name": "LeafletTileLayerModel",
      "state": {
       "_model_module_version": "^0.16.0",
       "_view_module_version": "^0.16.0",
       "attribution": "Map data: (C) OpenStreetMap contributors | Map style: (C) OpenFireMap (CC-BY-SA)",
       "max_native_zoom": 18,
       "max_zoom": 19,
       "min_native_zoom": 0,
       "name": "OpenFireMap",
       "options": [
        "attribution",
        "bounds",
        "detect_retina",
        "max_native_zoom",
        "max_zoom",
        "min_native_zoom",
        "min_zoom",
        "no_wrap",
        "tile_size",
        "tms"
       ],
       "url": "http://openfiremap.org/hytiles/{z}/{x}/{y}.png"
      }
     },
     "05410d9a3705482591f84c03022ee3db": {
      "model_module": "jupyter-leaflet",
      "model_module_version": "^0.16.0",
      "model_name": "LeafletTileLayerModel",
      "state": {
       "_model_module_version": "^0.16.0",
       "_view_module_version": "^0.16.0",
       "attribution": "(C) OpenStreetMap contributors",
       "max_native_zoom": 18,
       "min_native_zoom": 0,
       "name": "OpenStreetMap.DE",
       "options": [
        "attribution",
        "bounds",
        "detect_retina",
        "max_native_zoom",
        "max_zoom",
        "min_native_zoom",
        "min_zoom",
        "no_wrap",
        "tile_size",
        "tms"
       ],
       "url": "https://a.tile.openstreetmap.de/{z}/{x}/{y}.png"
      }
     },
     "057cc4aeeab64532bc40cf50436c105e": {
      "model_module": "@jupyter-widgets/controls",
      "model_module_version": "1.5.0",
      "model_name": "DatePickerModel",
      "state": {
       "description": "End Date",
       "disabled": false,
       "layout": "IPY_MODEL_4913b37778d949648930d9682f8f0464",
       "style": "IPY_MODEL_a6e991e7ea144c1abaa9917defdc8aaf",
       "value": {
        "date": 1,
        "month": 2,
        "year": 2019
       }
      }
     },
     "06c5428b31ce4e189592b47119829cfc": {
      "model_module": "@jupyter-widgets/base",
      "model_module_version": "1.2.0",
      "model_name": "LayoutModel",
      "state": {
       "width": "500px"
      }
     },
     "0753aaed70b14bc8890bc90ca52333b0": {
      "model_module": "@jupyter-widgets/controls",
      "model_module_version": "1.5.0",
      "model_name": "DescriptionStyleModel",
      "state": {
       "description_width": ""
      }
     },
     "081fac3d8cce4cff9ed2ce98ad20da08": {
      "model_module": "jupyter-leaflet",
      "model_module_version": "^0.16.0",
      "model_name": "LeafletTileLayerModel",
      "state": {
       "_model_module_version": "^0.16.0",
       "_view_module_version": "^0.16.0",
       "attribution": "Map tiles by Stamen Design, CC BY 3.0 -- Map data (C) OpenStreetMap contributors",
       "max_native_zoom": 18,
       "max_zoom": 20,
       "min_native_zoom": 0,
       "name": "Stamen.TopOSMFeatures",
       "options": [
        "attribution",
        "bounds",
        "detect_retina",
        "max_native_zoom",
        "max_zoom",
        "min_native_zoom",
        "min_zoom",
        "no_wrap",
        "tile_size",
        "tms"
       ],
       "url": "https://stamen-tiles-a.a.ssl.fastly.net/toposm-features/{z}/{x}/{y}.png"
      }
     },
     "09ac44b6f2c043e6837a05ecf13cf489": {
      "model_module": "@jupyter-widgets/controls",
      "model_module_version": "1.5.0",
      "model_name": "DescriptionStyleModel",
      "state": {
       "description_width": ""
      }
     },
     "0a2039fa666242aba6f406e632948f78": {
      "model_module": "@jupyter-widgets/controls",
      "model_module_version": "1.5.0",
      "model_name": "VBoxModel",
      "state": {
       "children": [
        "IPY_MODEL_721cad69bcaa43639e9bd3ada6fd8b54",
        "IPY_MODEL_3eab0fc3394e48f0ad7af7863e17a2be"
       ],
       "layout": "IPY_MODEL_3801e6168fd94b7f9721c6abbc870de7"
      }
     },
     "0b9fbcd0a088497daaae069b4cbc834f": {
      "model_module": "jupyter-leaflet",
      "model_module_version": "^0.16.0",
      "model_name": "LeafletTileLayerModel",
      "state": {
       "_model_module_version": "^0.16.0",
       "_view_module_version": "^0.16.0",
       "attribution": "Imagery provided by services from the Global Imagery Browse Services (GIBS), operated by the NASA/GSFC/Earth Science Data and Information System (ESDIS) with funding provided by NASA/HQ.",
       "max_native_zoom": 18,
       "max_zoom": 7,
       "min_native_zoom": 0,
       "name": "NASAGIBS.ModisTerraChlorophyll",
       "options": [
        "attribution",
        "bounds",
        "detect_retina",
        "max_native_zoom",
        "max_zoom",
        "min_native_zoom",
        "min_zoom",
        "no_wrap",
        "tile_size",
        "tms"
       ],
       "url": "https://map1.vis.earthdata.nasa.gov/wmts-webmerc/MODIS_Terra_Chlorophyll_A/default//GoogleMapsCompatible_Level7/{z}/{y}/{x}.png"
      }
     },
     "0c63963870c14f5eb56b578f69cae470": {
      "model_module": "@jupyter-widgets/controls",
      "model_module_version": "1.5.0",
      "model_name": "DescriptionStyleModel",
      "state": {
       "description_width": ""
      }
     },
     "0cee2524f0334827afad047ac8d2ee6a": {
      "model_module": "@jupyter-widgets/base",
      "model_module_version": "1.2.0",
      "model_name": "LayoutModel",
      "state": {
       "height": "auto",
       "padding": "0px 0px 0px 4px",
       "width": "auto"
      }
     },
     "0e29f706b8034176b926017795f99ba0": {
      "model_module": "jupyter-leaflet",
      "model_module_version": "^0.16.0",
      "model_name": "LeafletTileLayerModel",
      "state": {
       "_model_module_version": "^0.16.0",
       "_view_module_version": "^0.16.0",
       "attribution": "Map data: (C) OpenStreetMap contributors | Map style: (C) waymarkedtrails.org (CC-BY-SA)",
       "max_native_zoom": 18,
       "min_native_zoom": 0,
       "name": "WaymarkedTrails.slopes",
       "options": [
        "attribution",
        "bounds",
        "detect_retina",
        "max_native_zoom",
        "max_zoom",
        "min_native_zoom",
        "min_zoom",
        "no_wrap",
        "tile_size",
        "tms"
       ],
       "url": "https://tile.waymarkedtrails.org/slopes/{z}/{x}/{y}.png"
      }
     },
     "0e39ed0862484eacaa45f4686ca77dd1": {
      "model_module": "@jupyter-widgets/base",
      "model_module_version": "1.2.0",
      "model_name": "LayoutModel",
      "state": {
       "height": "auto",
       "padding": "0px 0px 0px 4px",
       "width": "auto"
      }
     },
     "103cca1962254a1395b396a654c3303d": {
      "model_module": "@jupyter-widgets/controls",
      "model_module_version": "1.5.0",
      "model_name": "ToggleButtonModel",
      "state": {
       "button_style": "primary",
       "icon": "map",
       "layout": "IPY_MODEL_9d969da065ca47a1b7df86b82fe350a4",
       "style": "IPY_MODEL_49290e619fab4b658d0a500053142aa6",
       "tooltip": "Change basemap"
      }
     },
     "116edabecae942358f87af7e0545f519": {
      "model_module": "jupyter-leaflet",
      "model_module_version": "^0.16.0",
      "model_name": "LeafletWMSLayerModel",
      "state": {
       "_model_module_version": "^0.16.0",
       "_view_module_version": "^0.16.0",
       "attribution": "MRLC",
       "crs": {
        "custom": false,
        "name": "EPSG3857"
       },
       "format": "image/png",
       "layers": "NLCD_2013_Land_Cover_L48",
       "max_native_zoom": 18,
       "min_native_zoom": 0,
       "name": "NLCD 2013 CONUS Land Cover",
       "options": [
        "attribution",
        "bounds",
        "detect_retina",
        "format",
        "layers",
        "max_native_zoom",
        "max_zoom",
        "min_native_zoom",
        "min_zoom",
        "no_wrap",
        "styles",
        "tile_size",
        "tms",
        "transparent",
        "uppercase"
       ],
       "transparent": true,
       "url": "https://www.mrlc.gov/geoserver/mrlc_display/NLCD_2013_Land_Cover_L48/wms?"
      }
     },
     "1205e9ccf223481596e8bea7f5876565": {
      "model_module": "@jupyter-widgets/controls",
      "model_module_version": "1.5.0",
      "model_name": "DescriptionStyleModel",
      "state": {
       "description_width": ""
      }
     },
     "15891c385c3744dc920551b0bae0f0ca": {
      "model_module": "jupyter-leaflet",
      "model_module_version": "^0.16.0",
      "model_name": "LeafletMapStyleModel",
      "state": {
       "_model_module_version": "^0.16.0"
      }
     },
     "172825901b3e49c1b078a5c74c5eea0a": {
      "model_module": "jupyter-leaflet",
      "model_module_version": "^0.16.0",
      "model_name": "LeafletTileLayerModel",
      "state": {
       "_model_module_version": "^0.16.0",
       "_view_module_version": "^0.16.0",
       "attribution": "Kaartgegevens (C) Kadaster",
       "max_native_zoom": 18,
       "max_zoom": 19,
       "min_native_zoom": 0,
       "name": "nlmaps.pastel",
       "options": [
        "attribution",
        "bounds",
        "detect_retina",
        "max_native_zoom",
        "max_zoom",
        "min_native_zoom",
        "min_zoom",
        "no_wrap",
        "tile_size",
        "tms"
       ],
       "url": "https://service.pdok.nl/brt/achtergrondkaart/wmts/v2_0/pastel/EPSG:3857/{z}/{x}/{y}.png"
      }
     },
     "1764a373925d42548f38889e785b189f": {
      "model_module": "@jupyter-widgets/controls",
      "model_module_version": "1.5.0",
      "model_name": "DescriptionStyleModel",
      "state": {
       "description_width": ""
      }
     },
     "1803097ddada4e668dffc3c8a796d392": {
      "model_module": "jupyter-leaflet",
      "model_module_version": "^0.16.0",
      "model_name": "LeafletTileLayerModel",
      "state": {
       "_model_module_version": "^0.16.0",
       "_view_module_version": "^0.16.0",
       "attribution": "Datenquelle: basemap.at",
       "max_native_zoom": 18,
       "max_zoom": 20,
       "min_native_zoom": 0,
       "name": "BasemapAT.basemap",
       "options": [
        "attribution",
        "bounds",
        "detect_retina",
        "max_native_zoom",
        "max_zoom",
        "min_native_zoom",
        "min_zoom",
        "no_wrap",
        "tile_size",
        "tms"
       ],
       "url": "https://maps.wien.gv.at/basemap/geolandbasemap/normal/google3857/{z}/{y}/{x}.png"
      }
     },
     "1809dce1f5524bb0a6e100e62a08827b": {
      "model_module": "@jupyter-widgets/base",
      "model_module_version": "1.2.0",
      "model_name": "LayoutModel",
      "state": {}
     },
     "1837980fb36a4a17a4b98a2287afb37b": {
      "model_module": "@jupyter-widgets/base",
      "model_module_version": "1.2.0",
      "model_name": "LayoutModel",
      "state": {
       "height": "auto",
       "padding": "0px 0px 0px 4px",
       "width": "auto"
      }
     },
     "184adfaa53f44a53a02a2bc822232a8d": {
      "model_module": "jupyter-leaflet",
      "model_module_version": "^0.16.0",
      "model_name": "LeafletTileLayerModel",
      "state": {
       "_model_module_version": "^0.16.0",
       "_view_module_version": "^0.16.0",
       "attribution": "Map tiles by Stamen Design, CC BY 3.0 -- Map data (C) OpenStreetMap contributors",
       "max_native_zoom": 18,
       "min_native_zoom": 0,
       "name": "Stamen.TerrainLabels",
       "options": [
        "attribution",
        "bounds",
        "detect_retina",
        "max_native_zoom",
        "max_zoom",
        "min_native_zoom",
        "min_zoom",
        "no_wrap",
        "tile_size",
        "tms"
       ],
       "url": "https://stamen-tiles-a.a.ssl.fastly.net/terrain-labels/{z}/{x}/{y}.png"
      }
     },
     "18a1fa362c3541ad8c3fe258b41078a6": {
      "model_module": "@jupyter-widgets/controls",
      "model_module_version": "1.5.0",
      "model_name": "DescriptionStyleModel",
      "state": {
       "description_width": ""
      }
     },
     "1920b3f8537845ac8eed6748e437004e": {
      "model_module": "jupyter-leaflet",
      "model_module_version": "^0.16.0",
      "model_name": "LeafletTileLayerModel",
      "state": {
       "_model_module_version": "^0.16.0",
       "_view_module_version": "^0.16.0",
       "attribution": "Map data: (C) OpenStreetMap contributors | Map style: (C) waymarkedtrails.org (CC-BY-SA)",
       "max_native_zoom": 18,
       "min_native_zoom": 0,
       "name": "WaymarkedTrails.cycling",
       "options": [
        "attribution",
        "bounds",
        "detect_retina",
        "max_native_zoom",
        "max_zoom",
        "min_native_zoom",
        "min_zoom",
        "no_wrap",
        "tile_size",
        "tms"
       ],
       "url": "https://tile.waymarkedtrails.org/cycling/{z}/{x}/{y}.png"
      }
     },
     "1a2d3af0f35d49ff8fffbb3906a6f684": {
      "model_module": "@jupyter-widgets/base",
      "model_module_version": "1.2.0",
      "model_name": "LayoutModel",
      "state": {}
     },
     "1a8d62fb2dc74940abfeb492546f3393": {
      "model_module": "jupyter-leaflet",
      "model_module_version": "^0.16.0",
      "model_name": "LeafletTileLayerModel",
      "state": {
       "_model_module_version": "^0.16.0",
       "_view_module_version": "^0.16.0",
       "attribution": "Map tiles by Stamen Design, CC BY 3.0 -- Map data (C) OpenStreetMap contributors",
       "max_native_zoom": 18,
       "max_zoom": 20,
       "min_native_zoom": 0,
       "name": "Stamen.TonerLabels",
       "options": [
        "attribution",
        "bounds",
        "detect_retina",
        "max_native_zoom",
        "max_zoom",
        "min_native_zoom",
        "min_zoom",
        "no_wrap",
        "tile_size",
        "tms"
       ],
       "url": "https://stamen-tiles-a.a.ssl.fastly.net/toner-labels/{z}/{x}/{y}.png"
      }
     },
     "1b0b814586c146079a5670fc77fd239a": {
      "model_module": "@jupyter-widgets/controls",
      "model_module_version": "1.5.0",
      "model_name": "ToggleButtonModel",
      "state": {
       "button_style": "primary",
       "icon": "info",
       "layout": "IPY_MODEL_dcbfe851cd6841699e46a960421e80e5",
       "style": "IPY_MODEL_2f9e1ecdef3a47d3b5156d3ad5972d6e",
       "tooltip": "Get COG/STAC pixel value"
      }
     },
     "1b4c89ff0c2544a5848a69c807f95e91": {
      "model_module": "@jupyter-widgets/controls",
      "model_module_version": "1.5.0",
      "model_name": "ButtonStyleModel",
      "state": {}
     },
     "1bc02e9393d245bebe5a5765fef77ca9": {
      "model_module": "jupyter-leaflet",
      "model_module_version": "^0.16.0",
      "model_name": "LeafletTileLayerModel",
      "state": {
       "_model_module_version": "^0.16.0",
       "_view_module_version": "^0.16.0",
       "attribution": "(C) OpenStreetMap contributors, Tiles style by Humanitarian OpenStreetMap Team hosted by OpenStreetMap France",
       "max_native_zoom": 18,
       "max_zoom": 19,
       "min_native_zoom": 0,
       "name": "OpenStreetMap.HOT",
       "options": [
        "attribution",
        "bounds",
        "detect_retina",
        "max_native_zoom",
        "max_zoom",
        "min_native_zoom",
        "min_zoom",
        "no_wrap",
        "tile_size",
        "tms"
       ],
       "url": "https://a.tile.openstreetmap.fr/hot/{z}/{x}/{y}.png"
      }
     },
     "1be5aa59deed47cf922354729e56f213": {
      "model_module": "@jupyter-widgets/controls",
      "model_module_version": "1.5.0",
      "model_name": "ButtonStyleModel",
      "state": {}
     },
     "1d1d1d0a27534a4fba2865a15a9608d3": {
      "model_module": "jupyter-leaflet",
      "model_module_version": "^0.16.0",
      "model_name": "LeafletTileLayerModel",
      "state": {
       "_model_module_version": "^0.16.0",
       "_view_module_version": "^0.16.0",
       "attribution": "(C) OpenStreetMap contributors (C) CARTO",
       "max_native_zoom": 18,
       "max_zoom": 20,
       "min_native_zoom": 0,
       "name": "CartoDB.VoyagerNoLabels",
       "options": [
        "attribution",
        "bounds",
        "detect_retina",
        "max_native_zoom",
        "max_zoom",
        "min_native_zoom",
        "min_zoom",
        "no_wrap",
        "tile_size",
        "tms"
       ],
       "url": "https://a.basemaps.cartocdn.com/rastertiles/voyager_nolabels/{z}/{x}/{y}.png"
      }
     },
     "1d776075e413450687b9ffbfce414ad3": {
      "model_module": "jupyter-leaflet",
      "model_module_version": "^0.16.0",
      "model_name": "LeafletTileLayerModel",
      "state": {
       "_model_module_version": "^0.16.0",
       "_view_module_version": "^0.16.0",
       "attribution": "Imagery provided by services from the Global Imagery Browse Services (GIBS), operated by the NASA/GSFC/Earth Science Data and Information System (ESDIS) with funding provided by NASA/HQ.",
       "max_native_zoom": 18,
       "max_zoom": 9,
       "min_native_zoom": 0,
       "name": "NASAGIBS.ViirsTrueColorCR",
       "options": [
        "attribution",
        "bounds",
        "detect_retina",
        "max_native_zoom",
        "max_zoom",
        "min_native_zoom",
        "min_zoom",
        "no_wrap",
        "tile_size",
        "tms"
       ],
       "url": "https://gibs.earthdata.nasa.gov/wmts/epsg3857/best/VIIRS_SNPP_CorrectedReflectance_TrueColor/default//GoogleMapsCompatible_Level9/{z}/{y}/{x}.jpg"
      }
     },
     "1eaa5dd554544992947ae93c8cd712f1": {
      "model_module": "@jupyter-widgets/controls",
      "model_module_version": "1.5.0",
      "model_name": "ButtonStyleModel",
      "state": {}
     },
     "1eb997504dea48109d156edcc50a5dfc": {
      "model_module": "@jupyter-widgets/controls",
      "model_module_version": "1.5.0",
      "model_name": "ButtonModel",
      "state": {
       "description": "Clear TextBox",
       "layout": "IPY_MODEL_b576d690e41b43359bf67aca61a23663",
       "style": "IPY_MODEL_1be5aa59deed47cf922354729e56f213"
      }
     },
     "21713e62b2ae4775959cba2b02f44fa7": {
      "model_module": "jupyter-leaflet",
      "model_module_version": "^0.16.0",
      "model_name": "LeafletTileLayerModel",
      "state": {
       "_model_module_version": "^0.16.0",
       "_view_module_version": "^0.16.0",
       "attribution": "Map tiles by Stamen Design, CC BY 3.0 -- Map data (C) OpenStreetMap contributors",
       "max_native_zoom": 18,
       "max_zoom": 20,
       "min_native_zoom": 0,
       "name": "Stamen.TonerBackground",
       "options": [
        "attribution",
        "bounds",
        "detect_retina",
        "max_native_zoom",
        "max_zoom",
        "min_native_zoom",
        "min_zoom",
        "no_wrap",
        "tile_size",
        "tms"
       ],
       "url": "https://stamen-tiles-a.a.ssl.fastly.net/toner-background/{z}/{x}/{y}.png"
      }
     },
     "21c967bc7c154c518c58b18c81fb8639": {
      "model_module": "jupyter-leaflet",
      "model_module_version": "^0.16.0",
      "model_name": "LeafletTileLayerModel",
      "state": {
       "_model_module_version": "^0.16.0",
       "_view_module_version": "^0.16.0",
       "attribution": "Geoportail France",
       "max_native_zoom": 18,
       "max_zoom": 19,
       "min_native_zoom": 0,
       "name": "GeoportailFrance.orthos",
       "options": [
        "attribution",
        "bounds",
        "detect_retina",
        "max_native_zoom",
        "max_zoom",
        "min_native_zoom",
        "min_zoom",
        "no_wrap",
        "tile_size",
        "tms"
       ],
       "url": "https://wxs.ign.fr/choisirgeoportail/geoportail/wmts?REQUEST=GetTile&SERVICE=WMTS&VERSION=1.0.0&STYLE=normal&TILEMATRIXSET=PM&FORMAT=image/jpeg&LAYER=ORTHOIMAGERY.ORTHOPHOTOS&TILEMATRIX={z}&TILEROW={y}&TILECOL={x}"
      }
     },
     "2256f9b6d6864ad596a7a802694c96d0": {
      "model_module": "jupyter-leaflet",
      "model_module_version": "^0.16.0",
      "model_name": "LeafletTileLayerModel",
      "state": {
       "_model_module_version": "^0.16.0",
       "_view_module_version": "^0.16.0",
       "attribution": "Justice Map",
       "max_native_zoom": 18,
       "max_zoom": 22,
       "min_native_zoom": 0,
       "name": "JusticeMap.americanIndian",
       "options": [
        "attribution",
        "bounds",
        "detect_retina",
        "max_native_zoom",
        "max_zoom",
        "min_native_zoom",
        "min_zoom",
        "no_wrap",
        "tile_size",
        "tms"
       ],
       "url": "https://www.justicemap.org/tile/county/indian/{z}/{x}/{y}.png"
      }
     },
     "243b524aacf34ecbadbacb96dd2ca265": {
      "model_module": "jupyter-leaflet",
      "model_module_version": "^0.16.0",
      "model_name": "LeafletWMSLayerModel",
      "state": {
       "_model_module_version": "^0.16.0",
       "_view_module_version": "^0.16.0",
       "attribution": "USGS",
       "crs": {
        "custom": false,
        "name": "EPSG3857"
       },
       "format": "image/png",
       "layers": "USGSNAIPImagery:FalseColorComposite",
       "max_native_zoom": 18,
       "min_native_zoom": 0,
       "name": "USGS NAIP Imagery False Color",
       "options": [
        "attribution",
        "bounds",
        "detect_retina",
        "format",
        "layers",
        "max_native_zoom",
        "max_zoom",
        "min_native_zoom",
        "min_zoom",
        "no_wrap",
        "styles",
        "tile_size",
        "tms",
        "transparent",
        "uppercase"
       ],
       "transparent": true,
       "url": "https://imagery.nationalmap.gov/arcgis/services/USGSNAIPImagery/ImageServer/WMSServer?"
      }
     },
     "24babd16c41e4df68fc83fd8983a3b9f": {
      "model_module": "jupyter-leaflet",
      "model_module_version": "^0.16.0",
      "model_name": "LeafletTileLayerModel",
      "state": {
       "_model_module_version": "^0.16.0",
       "_view_module_version": "^0.16.0",
       "attribution": "Justice Map",
       "max_native_zoom": 18,
       "max_zoom": 22,
       "min_native_zoom": 0,
       "name": "JusticeMap.hispanic",
       "options": [
        "attribution",
        "bounds",
        "detect_retina",
        "max_native_zoom",
        "max_zoom",
        "min_native_zoom",
        "min_zoom",
        "no_wrap",
        "tile_size",
        "tms"
       ],
       "url": "https://www.justicemap.org/tile/county/hispanic/{z}/{x}/{y}.png"
      }
     },
     "251678a5cb0d4d89b1daf9ff0108e93a": {
      "model_module": "jupyter-leaflet",
      "model_module_version": "^0.16.0",
      "model_name": "LeafletTileLayerModel",
      "state": {
       "_model_module_version": "^0.16.0",
       "_view_module_version": "^0.16.0",
       "attribution": "Earthstar Geographics",
       "max_native_zoom": 18,
       "max_zoom": 24,
       "min_native_zoom": 0,
       "name": "Esri.AntarcticImagery",
       "options": [
        "attribution",
        "bounds",
        "detect_retina",
        "max_native_zoom",
        "max_zoom",
        "min_native_zoom",
        "min_zoom",
        "no_wrap",
        "tile_size",
        "tms"
       ],
       "url": "http://server.arcgisonline.com/ArcGIS/rest/services/Polar/Antarctic_Imagery/MapServer/tile/{z}/{y}/{x}"
      }
     },
     "2685be7ffa894c84b9bc4cd049816d54": {
      "model_module": "jupyter-leaflet",
      "model_module_version": "^0.16.0",
      "model_name": "LeafletWMSLayerModel",
      "state": {
       "_model_module_version": "^0.16.0",
       "_view_module_version": "^0.16.0",
       "attribution": "MRLC",
       "crs": {
        "custom": false,
        "name": "EPSG3857"
       },
       "format": "image/png",
       "layers": "NLCD_2008_Land_Cover_L48",
       "max_native_zoom": 18,
       "min_native_zoom": 0,
       "name": "NLCD 2008 CONUS Land Cover",
       "options": [
        "attribution",
        "bounds",
        "detect_retina",
        "format",
        "layers",
        "max_native_zoom",
        "max_zoom",
        "min_native_zoom",
        "min_zoom",
        "no_wrap",
        "styles",
        "tile_size",
        "tms",
        "transparent",
        "uppercase"
       ],
       "transparent": true,
       "url": "https://www.mrlc.gov/geoserver/mrlc_display/NLCD_2008_Land_Cover_L48/wms?"
      }
     },
     "27289baa31fd4be8b283f327b4a2646c": {
      "model_module": "jupyter-leaflet",
      "model_module_version": "^0.16.0",
      "model_name": "LeafletTileLayerModel",
      "state": {
       "_model_module_version": "^0.16.0",
       "_view_module_version": "^0.16.0",
       "attribution": "Kaartgegevens (C) Kadaster",
       "max_native_zoom": 18,
       "max_zoom": 19,
       "min_native_zoom": 0,
       "name": "nlmaps.grijs",
       "options": [
        "attribution",
        "bounds",
        "detect_retina",
        "max_native_zoom",
        "max_zoom",
        "min_native_zoom",
        "min_zoom",
        "no_wrap",
        "tile_size",
        "tms"
       ],
       "url": "https://service.pdok.nl/brt/achtergrondkaart/wmts/v2_0/grijs/EPSG:3857/{z}/{x}/{y}.png"
      }
     },
     "28d6135b142e4ff08f0df665675ef499": {
      "model_module": "jupyter-leaflet",
      "model_module_version": "^0.16.0",
      "model_name": "LeafletTileLayerModel",
      "state": {
       "_model_module_version": "^0.16.0",
       "_view_module_version": "^0.16.0",
       "attribution": "(C) OpenStreetMap contributors (C) CARTO",
       "max_native_zoom": 18,
       "max_zoom": 20,
       "min_native_zoom": 0,
       "name": "CartoDB.DarkMatter",
       "options": [
        "attribution",
        "bounds",
        "detect_retina",
        "max_native_zoom",
        "max_zoom",
        "min_native_zoom",
        "min_zoom",
        "no_wrap",
        "tile_size",
        "tms"
       ],
       "url": "https://a.basemaps.cartocdn.com/dark_all/{z}/{x}/{y}.png"
      }
     },
     "293aa26642184713b2100d4479c8bcab": {
      "model_module": "@jupyter-widgets/base",
      "model_module_version": "1.2.0",
      "model_name": "LayoutModel",
      "state": {}
     },
     "29bccae221554071aead42697947ed28": {
      "model_module": "@jupyter-widgets/base",
      "model_module_version": "1.2.0",
      "model_name": "LayoutModel",
      "state": {
       "height": "auto",
       "padding": "0px 0px 0px 4px",
       "width": "auto"
      }
     },
     "2b6ec79561b744c281b564255561708c": {
      "model_module": "jupyter-leaflet",
      "model_module_version": "^0.16.0",
      "model_name": "LeafletTileLayerModel",
      "state": {
       "_model_module_version": "^0.16.0",
       "_view_module_version": "^0.16.0",
       "attribution": "(C) OpenStreetMap contributors (C) CARTO",
       "max_native_zoom": 18,
       "max_zoom": 20,
       "min_native_zoom": 0,
       "name": "CartoDB.VoyagerLabelsUnder",
       "options": [
        "attribution",
        "bounds",
        "detect_retina",
        "max_native_zoom",
        "max_zoom",
        "min_native_zoom",
        "min_zoom",
        "no_wrap",
        "tile_size",
        "tms"
       ],
       "url": "https://a.basemaps.cartocdn.com/rastertiles/voyager_labels_under/{z}/{x}/{y}.png"
      }
     },
     "2c72241490f740a0badadcf7c50ab0c4": {
      "model_module": "jupyter-leaflet",
      "model_module_version": "^0.16.0",
      "model_name": "LeafletTileLayerModel",
      "state": {
       "_model_module_version": "^0.16.0",
       "_view_module_version": "^0.16.0",
       "attribution": "(C) OpenStreetMap contributors",
       "max_native_zoom": 18,
       "max_zoom": 19,
       "min_native_zoom": 0,
       "name": "HikeBike.HikeBike",
       "options": [
        "attribution",
        "bounds",
        "detect_retina",
        "max_native_zoom",
        "max_zoom",
        "min_native_zoom",
        "min_zoom",
        "no_wrap",
        "tile_size",
        "tms"
       ],
       "url": "https://tiles.wmflabs.org/hikebike/{z}/{x}/{y}.png"
      }
     },
     "2cb80705679b41b8b0df4f70272bb54e": {
      "model_module": "@jupyter-widgets/controls",
      "model_module_version": "1.5.0",
      "model_name": "HTMLModel",
      "state": {
       "layout": "IPY_MODEL_2d4d0ea303b44d5cbd98dbb21b03b517",
       "style": "IPY_MODEL_5fcfeaebe39a4065b6c56e47cf314df0",
       "value": "Hover over shoreline"
      }
     },
     "2d4d0ea303b44d5cbd98dbb21b03b517": {
      "model_module": "@jupyter-widgets/base",
      "model_module_version": "1.2.0",
      "model_name": "LayoutModel",
      "state": {
       "margin": "0px 20px 20px 20px"
      }
     },
     "2e978624409c4d3f8faae4ddeadcd4c2": {
      "model_module": "@jupyter-widgets/base",
      "model_module_version": "1.2.0",
      "model_name": "LayoutModel",
      "state": {}
     },
     "2f52678bb6fa4d4e99ef5ebe61a295ba": {
      "model_module": "@jupyter-widgets/controls",
      "model_module_version": "1.5.0",
      "model_name": "ButtonStyleModel",
      "state": {}
     },
     "2f9e1ecdef3a47d3b5156d3ad5972d6e": {
      "model_module": "@jupyter-widgets/controls",
      "model_module_version": "1.5.0",
      "model_name": "DescriptionStyleModel",
      "state": {
       "description_width": ""
      }
     },
     "310b318a0322449ba525a215fa3d81be": {
      "model_module": "@jupyter-widgets/controls",
      "model_module_version": "1.5.0",
      "model_name": "ToggleButtonModel",
      "state": {
       "button_style": "primary",
       "icon": "table",
       "layout": "IPY_MODEL_c7caa3c1bafe43e38e09a40aa337bb7a",
       "style": "IPY_MODEL_704e2552092c4d48a00dcfed7148ad94",
       "tooltip": "Open attribute table"
      }
     },
     "311dd46b66d048a3ab6d2063bfd773ce": {
      "model_module": "@jupyter-widgets/controls",
      "model_module_version": "1.5.0",
      "model_name": "DescriptionStyleModel",
      "state": {
       "description_width": ""
      }
     },
     "3125cdc584dc421a8fda1059a74272e2": {
      "model_module": "jupyter-leaflet",
      "model_module_version": "^0.16.0",
      "model_name": "LeafletTileLayerModel",
      "state": {
       "_model_module_version": "^0.16.0",
       "_view_module_version": "^0.16.0",
       "attribution": "Map data: (C) OpenStreetMap contributors | Map style: (C) SafeCast (CC-BY-SA)",
       "max_native_zoom": 18,
       "max_zoom": 16,
       "min_native_zoom": 0,
       "name": "SafeCast",
       "options": [
        "attribution",
        "bounds",
        "detect_retina",
        "max_native_zoom",
        "max_zoom",
        "min_native_zoom",
        "min_zoom",
        "no_wrap",
        "tile_size",
        "tms"
       ],
       "url": "https://s3.amazonaws.com/te512.safecast.org/{z}/{x}/{y}.png"
      }
     },
     "327de58e13b14844bd469f1b4dfaeb71": {
      "model_module": "@jupyter-widgets/controls",
      "model_module_version": "1.5.0",
      "model_name": "ButtonStyleModel",
      "state": {}
     },
     "3342a5821c1e497a96c0c5189ad795df": {
      "model_module": "jupyter-leaflet",
      "model_module_version": "^0.16.0",
      "model_name": "LeafletTileLayerModel",
      "state": {
       "_model_module_version": "^0.16.0",
       "_view_module_version": "^0.16.0",
       "attribution": "Justice Map",
       "max_native_zoom": 18,
       "max_zoom": 22,
       "min_native_zoom": 0,
       "name": "JusticeMap.black",
       "options": [
        "attribution",
        "bounds",
        "detect_retina",
        "max_native_zoom",
        "max_zoom",
        "min_native_zoom",
        "min_zoom",
        "no_wrap",
        "tile_size",
        "tms"
       ],
       "url": "https://www.justicemap.org/tile/county/black/{z}/{x}/{y}.png"
      }
     },
     "334448d092204266894f3515fddeb45e": {
      "model_module": "jupyter-leaflet",
      "model_module_version": "^0.16.0",
      "model_name": "LeafletTileLayerModel",
      "state": {
       "_model_module_version": "^0.16.0",
       "_view_module_version": "^0.16.0",
       "attribution": "Map tiles by <a href=\"https://labs.strava.com/heatmap\">Strava 2021</a>",
       "max_native_zoom": 18,
       "max_zoom": 15,
       "min_native_zoom": 0,
       "name": "Strava.Run",
       "options": [
        "attribution",
        "bounds",
        "detect_retina",
        "max_native_zoom",
        "max_zoom",
        "min_native_zoom",
        "min_zoom",
        "no_wrap",
        "tile_size",
        "tms"
       ],
       "url": "https://heatmap-external-a.strava.com/tiles/run/bluered/{z}/{x}/{y}.png"
      }
     },
     "3393cb29aee1457697ee2a7e2c5d0b22": {
      "model_module": "jupyter-leaflet",
      "model_module_version": "^0.16.0",
      "model_name": "LeafletTileLayerModel",
      "state": {
       "_model_module_version": "^0.16.0",
       "_view_module_version": "^0.16.0",
       "attribution": "(C) OpenStreetMap contributors, Tiles courtesy of Breton OpenStreetMap Team",
       "max_native_zoom": 18,
       "max_zoom": 19,
       "min_native_zoom": 0,
       "name": "OpenStreetMap.BZH",
       "options": [
        "attribution",
        "bounds",
        "detect_retina",
        "max_native_zoom",
        "max_zoom",
        "min_native_zoom",
        "min_zoom",
        "no_wrap",
        "tile_size",
        "tms"
       ],
       "url": "https://tile.openstreetmap.bzh/br/{z}/{x}/{y}.png"
      }
     },
     "350702e039144a3097e04a68a7d95fb1": {
      "model_module": "@jupyter-widgets/base",
      "model_module_version": "1.2.0",
      "model_name": "LayoutModel",
      "state": {}
     },
     "350f5ade918a47aabb7ec9979e14b32c": {
      "model_module": "jupyter-leaflet",
      "model_module_version": "^0.16.0",
      "model_name": "LeafletTileLayerModel",
      "state": {
       "_model_module_version": "^0.16.0",
       "_view_module_version": "^0.16.0",
       "attribution": "Map data: (C) OpenSeaMap contributors",
       "max_native_zoom": 18,
       "max_zoom": 22,
       "min_native_zoom": 0,
       "name": "OpenSeaMap",
       "options": [
        "attribution",
        "bounds",
        "detect_retina",
        "max_native_zoom",
        "max_zoom",
        "min_native_zoom",
        "min_zoom",
        "no_wrap",
        "tile_size",
        "tms"
       ],
       "url": "https://tiles.openseamap.org/seamark/{z}/{x}/{y}.png"
      }
     },
     "36236418606b4b7d80b802a2f4ff79b4": {
      "model_module": "@jupyter-widgets/controls",
      "model_module_version": "1.5.0",
      "model_name": "ToggleButtonModel",
      "state": {
       "icon": "server",
       "layout": "IPY_MODEL_8d5dbdd5cf83473497f68e94b14d14a2",
       "style": "IPY_MODEL_cd74f57040f948b58dc0f96b50833cfc",
       "tooltip": "Layers"
      }
     },
     "370de43ea0244982ad202ea873f5b0ab": {
      "model_module": "@jupyter-widgets/base",
      "model_module_version": "1.2.0",
      "model_name": "LayoutModel",
      "state": {}
     },
     "3801e6168fd94b7f9721c6abbc870de7": {
      "model_module": "@jupyter-widgets/base",
      "model_module_version": "1.2.0",
      "model_name": "LayoutModel",
      "state": {}
     },
     "39d61127cc9143a0bfcfb66fc03ccd50": {
      "model_module": "jupyter-leaflet",
      "model_module_version": "^0.16.0",
      "model_name": "LeafletWMSLayerModel",
      "state": {
       "_model_module_version": "^0.16.0",
       "_view_module_version": "^0.16.0",
       "attribution": "MRLC",
       "crs": {
        "custom": false,
        "name": "EPSG3857"
       },
       "format": "image/png",
       "layers": "NLCD_2011_Land_Cover_L48",
       "max_native_zoom": 18,
       "min_native_zoom": 0,
       "name": "NLCD 2011 CONUS Land Cover",
       "options": [
        "attribution",
        "bounds",
        "detect_retina",
        "format",
        "layers",
        "max_native_zoom",
        "max_zoom",
        "min_native_zoom",
        "min_zoom",
        "no_wrap",
        "styles",
        "tile_size",
        "tms",
        "transparent",
        "uppercase"
       ],
       "transparent": true,
       "url": "https://www.mrlc.gov/geoserver/mrlc_display/NLCD_2011_Land_Cover_L48/wms?"
      }
     },
     "3b099b761b61463780ea27b3d781b346": {
      "model_module": "jupyter-leaflet",
      "model_module_version": "^0.16.0",
      "model_name": "LeafletGeoJSONModel",
      "state": {
       "_model_module_version": "^0.16.0",
       "_view_module_version": "^0.16.0",
       "data": {
        "features": [
         {
          "geometry": {
           "coordinates": [
            [
             -121.48064202595354,
             35.948766
            ],
            [
             -121.48064413499998,
             35.948774350000065
            ],
            [
             -121.48066691099996,
             35.94882882700006
            ],
            [
             -121.48069953299995,
             35.94887341900005
            ],
            [
             -121.48074410999999,
             35.94890601900005
            ],
            [
             -121.48079853799999,
             35.94892874100003
            ],
            [
             -121.48086016699995,
             35.94894423300008
            ],
            [
             -121.48151853599995,
             35.94910654100005
            ]
           ],
           "type": "LineString"
          },
          "id": "0",
          "properties": {
           "CHLOROPHYLL": 0.473221,
           "CSU_Descriptor": "flat, straight, high erodibility, warm temperate dry, low river discharge, moderately high wave energy, moderately tidal, euhaline-oxic-moderate to cool, clear, low chlorophyll",
           "CSU_ID": 9338,
           "Cluster": 6,
           "EMU_PHYSICAL": "Euhaline-Oxic-Moderate to Cool",
           "ERODIBILITY": "High",
           "GHM": 0.017632,
           "LENGTH_GEO": 807.7668384156195,
           "MAX_SLOPE": 3.529753,
           "MEAN_SIG_WAVEHEIGHT": 2.048518,
           "MasterKey": 2753673,
           "OBJECTID": 2753673,
           "OUTFLOW_DENSITY": 8671.790039,
           "OUTFLOW_DENSITY_RESCALED": 1.0484883786709782e-05,
           "REGIONAL_SINUOSITY": 1.264366,
           "RandomSort": 1022958.74682668,
           "Shape_Length": 0.007686713549196647,
           "TEMP_MOISTURE": "Warm Temperate Dry",
           "TIDAL_RANGE": 2.410373,
           "TURBIDITY": 0.04265,
           "chl_label": "low chlorophyll",
           "river_label": "low river discharge",
           "sinuosity_label": "straight",
           "slope_label": "flat",
           "style": {
            "color": "yellow",
            "dashArray": "5",
            "fillOpacity": 0.5,
            "fill_color": "yellow",
            "opacity": 1,
            "weight": 4
           },
           "tidal_label": "moderately tidal",
           "turbid_label": "clear",
           "wave_label": "moderately high wave energy"
          },
          "type": "Feature"
         },
         {
          "geometry": {
           "coordinates": [
            [
             -121.48151853599995,
             35.94910654100005
            ],
            [
             -121.48188434699995,
             35.949196725000036
            ],
            [
             -121.48195207499998,
             35.949208559000056
            ],
            [
             -121.482023761,
             35.94921650400005
            ],
            [
             -121.48209833599998,
             35.94922163900003
            ],
            [
             -121.482253002,
             35.94922669600004
            ],
            [
             -121.48256899499995,
             35.949231817000054
            ],
            [
             -121.48264645499995,
             35.94923506300006
            ],
            [
             -121.48272200799994,
             35.94924038700003
            ],
            [
             -121.48279468599998,
             35.949248727000054
            ],
            [
             -121.48286322299998,
             35.949261300000046
            ],
            [
             -121.48292593699995,
             35.949279673000035
            ],
            [
             -121.48298064299996,
             35.94930586800007
            ],
            [
             -121.48301959099996,
             35.94933534100005
            ],
            [
             -121.48321173399995,
             35.949525566000034
            ],
            [
             -121.48323335999999,
             35.94955599600007
            ],
            [
             -121.48324472599995,
             35.949589778000075
            ],
            [
             -121.48324555099998,
             35.94962494600003
            ],
            [
             -121.48323577199994,
             35.94965871000005
            ],
            [
             -121.48321469499996,
             35.949688200000026
            ],
            [
             -121.48317399099994,
             35.94971504800003
            ],
            [
             -121.48312020199995,
             35.94973418200004
            ],
            [
             -121.48305736799995,
             35.94974796100007
            ],
            [
             -121.482988676,
             35.94975836400005
            ],
            [
             -121.482843678,
             35.949775783000064
            ],
            [
             -121.48277157599995,
             35.94978598500006
            ],
            [
             -121.48270240599999,
             35.94979944000005
            ],
            [
             -121.48263832799995,
             35.94981813100003
            ],
            [
             -121.48258182799998,
             35.94984444100004
            ],
            [
             -121.48254182,
             35.94987343300005
            ],
            [
             -121.48231721299999,
             35.950062313000046
            ],
            [
             -121.48228003999998,
             35.95009398800005
            ],
            [
             -121.48224724699998,
             35.95012999800008
            ],
            [
             -121.48205412099998,
             35.95034484700005
            ],
            [
             -121.48202576899996,
             35.95038208900007
            ],
            [
             -121.482002438,
             35.950431750000064
            ],
            [
             -121.48198799399995,
             35.950487286000055
            ],
            [
             -121.48198119399996,
             35.95054619200005
            ],
            [
             -121.48198142099994,
             35.95060616400008
            ],
            [
             -121.48198868299994,
             35.95066496900006
            ],
            [
             -121.48200359599997,
             35.95072030700004
            ],
            [
             -121.48202740799996,
             35.95076966700003
            ],
            [
             -121.48205619699996,
             35.95080656600004
            ],
            [
             -121.48225163799998,
             35.95101834600007
            ],
            [
             -121.48228449799996,
             35.951053923000075
            ],
            [
             -121.48232146899994,
             35.951085343000045
            ],
            [
             -121.48240013699996,
             35.95114324300005
            ],
            [
             -121.48243691599998,
             35.95117461800004
            ],
            [
             -121.48246946899997,
             35.951210133000075
            ],
            [
             -121.48266294499996,
             35.95142351800007
            ],
            [
             -121.48269224699999,
             35.95146183400004
            ],
            [
             -121.48271754999996,
             35.95151376200005
            ],
            [
             -121.48273539899998,
             35.95157309800004
            ],
            [
             -121.48274773699995,
             35.95163791700003
            ],
            [
             -121.48275610399998,
             35.95170667600007
            ],
            [
             -121.48276174399996,
             35.951778138000066
            ],
            [
             -121.48276567899995,
             35.95185128800006
            ],
            [
             -121.48277576999999,
             35.95207237200003
            ],
            [
             -121.48278132899998,
             35.95214385600008
            ],
            [
             -121.48278957999997,
             35.95221264200006
            ],
            [
             -121.48280175999997,
             35.95227749900005
            ],
            [
             -121.48281941,
             35.952336881000065
            ],
            [
             -121.48284446499997,
             35.95238886200008
            ],
            [
             -121.48287350599998,
             35.95242723200005
            ],
            [
             -121.48306439599997,
             35.952640934000044
            ],
            [
             -121.48309635699997,
             35.952676448000034
            ],
            [
             -121.48333968099996,
             35.95290621500004
            ],
            [
             -121.48348720699994,
             35.95303011900006
            ],
            [
             -121.48352381099994,
             35.95306155700007
            ],
            [
             -121.48375186399994,
             35.95331146500007
            ],
            [
             -121.48378173199995,
             35.953349711000044
            ],
            [
             -121.48380863299997,
             35.953404126000066
            ],
            [
             -121.48382707999997,
             35.95346621200008
            ],
            [
             -121.48383896499996,
             35.953533589000074
            ],
            [
             -121.48384556899998,
             35.95360427000003
            ],
            [
             -121.48384764099995,
             35.95367653300008
            ],
            [
             -121.48384541799999,
             35.95374878000007
            ],
            [
             -121.48383865399995,
             35.953819416000044
            ],
            [
             -121.48382660099998,
             35.953886717000046
            ],
            [
             -121.48380796499998,
             35.953948694000076
            ],
            [
             -121.48378085499996,
             35.954002967000065
            ],
            [
             -121.48375078899994,
             35.954041063000034
            ],
            [
             -121.48360675599997,
             35.954196480000064
            ]
           ],
           "type": "LineString"
          },
          "id": "1",
          "properties": {
           "CHLOROPHYLL": 2.417483,
           "CSU_Descriptor": "steeply sloping, straight, medium erodibility, warm temperate dry, low river discharge, moderately high wave energy, moderately tidal, euhaline-oxic-moderate to cool, clear, moderate chlorophyll",
           "CSU_ID": 70983,
           "Cluster": 6,
           "EMU_PHYSICAL": "Euhaline-Oxic-Moderate to Cool",
           "ERODIBILITY": "Medium",
           "GHM": 0.017632,
           "LENGTH_GEO": 808.378891753725,
           "MAX_SLOPE": 73.403643,
           "MEAN_SIG_WAVEHEIGHT": 2.048518,
           "MasterKey": 2753672,
           "OBJECTID": 2753672,
           "OUTFLOW_DENSITY": 8671.790039,
           "OUTFLOW_DENSITY_RESCALED": 1.0484883786709782e-05,
           "REGIONAL_SINUOSITY": 1.264366,
           "RandomSort": 1325819.97657637,
           "Shape_Length": 0.00801083212152467,
           "TEMP_MOISTURE": "Warm Temperate Dry",
           "TIDAL_RANGE": 2.410373,
           "TURBIDITY": 0.04265,
           "chl_label": "moderate chlorophyll",
           "river_label": "low river discharge",
           "sinuosity_label": "straight",
           "slope_label": "steeply sloping",
           "style": {
            "color": "yellow",
            "dashArray": "5",
            "fillOpacity": 0.5,
            "fill_color": "yellow",
            "opacity": 1,
            "weight": 4
           },
           "tidal_label": "moderately tidal",
           "turbid_label": "clear",
           "wave_label": "moderately high wave energy"
          },
          "type": "Feature"
         },
         {
          "geometry": {
           "coordinates": [
            [
             -121.48360675599997,
             35.954196480000064
            ],
            [
             -121.48355353299996,
             35.954253910000034
            ],
            [
             -121.48352069599997,
             35.95428925400006
            ],
            [
             -121.48348374899996,
             35.95432041000004
            ],
            [
             -121.48340504999999,
             35.95437772300005
            ],
            [
             -121.48336819399998,
             35.954408785000055
            ],
            [
             -121.48333551099995,
             35.95444397700004
            ],
            [
             -121.48313984299995,
             35.95465523800004
            ],
            [
             -121.48310992699999,
             35.95469318800008
            ],
            [
             -121.48308276299997,
             35.954747517000044
            ],
            [
             -121.48306365199994,
             35.95480997300007
            ],
            [
             -121.48305044999995,
             35.95487842700004
            ],
            [
             -121.48304151299999,
             35.95495124100006
            ],
            [
             -121.48303560399995,
             35.95502718200004
            ],
            [
             -121.48302945499995,
             35.95518497200004
            ],
            [
             -121.48302723699999,
             35.95542836100003
            ],
            [
             -121.48302981599994,
             35.95567168700006
            ],
            [
             -121.48303623899994,
             35.95582937000006
            ],
            [
             -121.48304229999997,
             35.955905244000064
            ],
            [
             -121.48305139899998,
             35.955977991000054
            ],
            [
             -121.483064765,
             35.95604638100008
            ],
            [
             -121.48308403599998,
             35.956108792000066
            ],
            [
             -121.48311134499994,
             35.95616311200007
            ],
            [
             -121.48314134699996,
             35.95620110300007
            ],
            [
             -121.48333510699996,
             35.956415477000064
            ],
            [
             -121.48347366499996,
             35.956549936000044
            ],
            [
             -121.48350552,
             35.95658647400006
            ],
            [
             -121.48353479599996,
             35.95663538900004
            ],
            [
             -121.48376524499997,
             35.957106270000054
            ],
            [
             -121.48377768999995,
             35.957143184000074
            ],
            [
             -121.48378116899994,
             35.95718203000007
            ],
            [
             -121.48377580899995,
             35.957220558000074
            ],
            [
             -121.48376124899994,
             35.95725649700006
            ],
            [
             -121.48373747599999,
             35.95728830300004
            ],
            [
             -121.48355121499998,
             35.95749015900003
            ],
            [
             -121.48351806999995,
             35.957525814000064
            ],
            [
             -121.48348058199997,
             35.957557509000026
            ],
            [
             -121.48340049299998,
             35.95761621400004
            ],
            [
             -121.48336296099995,
             35.957647949000034
            ],
            [
             -121.48332975999995,
             35.95768366000004
            ],
            [
             -121.48314520599996,
             35.95788380500005
            ],
            [
             -121.48312288099999,
             35.957914161000076
            ],
            [
             -121.48311053599997,
             35.95794788400008
            ],
            [
             -121.48310844399998,
             35.957983143000035
            ],
            [
             -121.48311660999997,
             35.958017297000026
            ],
            [
             -121.48313563199997,
             35.958047631000056
            ],
            [
             -121.48317097199998,
             35.958075163000046
            ],
            [
             -121.48321728299999,
             35.958096771000044
            ],
            [
             -121.48327058899997,
             35.958114961000035
            ],
            [
             -121.48338496999997,
             35.958150223000075
            ],
            [
             -121.48344013399998,
             35.95817182700006
            ],
            [
             -121.48349006799998,
             35.958199352000065
            ],
            [
             -121.48352785699996,
             35.958229678000066
            ],
            [
             -121.48378389699997,
             35.95845159600003
            ],
            [
             -121.48433019299995,
             35.958987654000055
            ],
            [
             -121.48455261099997,
             35.959237045000066
            ],
            [
             -121.48458175399998,
             35.95927528800007
            ],
            [
             -121.48460697399997,
             35.95932707600008
            ],
            [
             -121.48462484499998,
             35.95938621100004
            ],
            [
             -121.48488869899995,
             35.96044882900003
            ]
           ],
           "type": "LineString"
          },
          "id": "2",
          "properties": {
           "CHLOROPHYLL": 2.417483,
           "CSU_Descriptor": "steeply sloping, straight, medium erodibility, warm temperate dry, low river discharge, moderately high wave energy, moderately tidal, euhaline-oxic-moderate to cool, clear, moderate chlorophyll",
           "CSU_ID": 70983,
           "Cluster": 6,
           "EMU_PHYSICAL": "Euhaline-Oxic-Moderate to Cool",
           "ERODIBILITY": "Medium",
           "GHM": 0.122187,
           "LENGTH_GEO": 807.6925181457625,
           "MAX_SLOPE": 169.244502,
           "MEAN_SIG_WAVEHEIGHT": 2.048518,
           "MasterKey": 2753671,
           "OBJECTID": 2753671,
           "OUTFLOW_DENSITY": 8671.790039,
           "OUTFLOW_DENSITY_RESCALED": 1.0484883786709782e-05,
           "REGIONAL_SINUOSITY": 1.264366,
           "RandomSort": 2346750.87926763,
           "Shape_Length": 0.007712317963516704,
           "TEMP_MOISTURE": "Warm Temperate Dry",
           "TIDAL_RANGE": 2.410373,
           "TURBIDITY": 0.04265,
           "chl_label": "moderate chlorophyll",
           "river_label": "low river discharge",
           "sinuosity_label": "straight",
           "slope_label": "steeply sloping",
           "style": {
            "color": "yellow",
            "dashArray": "5",
            "fillOpacity": 0.5,
            "fill_color": "yellow",
            "opacity": 1,
            "weight": 4
           },
           "tidal_label": "moderately tidal",
           "turbid_label": "clear",
           "wave_label": "moderately high wave energy"
          },
          "type": "Feature"
         },
         {
          "geometry": {
           "coordinates": [
            [
             -121.48488869899995,
             35.96044882900003
            ],
            [
             -121.48489441499999,
             35.960471848000054
            ],
            [
             -121.48490687999998,
             35.96054023100004
            ],
            [
             -121.48491535799997,
             35.96061260100004
            ],
            [
             -121.48492094399995,
             35.96068786300003
            ],
            [
             -121.48492446399996,
             35.960765191000064
            ],
            [
             -121.48492652699997,
             35.960843976000035
            ],
            [
             -121.48492794499998,
             35.961004254000045
            ],
            [
             -121.48492684999997,
             35.96124789500004
            ],
            [
             -121.484920553,
             35.96190097900006
            ],
            [
             -121.484921123,
             35.96214295500005
            ],
            [
             -121.48492627199994,
             35.962299501000075
            ],
            [
             -121.48493179299999,
             35.962374830000044
            ],
            [
             -121.48494041799995,
             35.96244705200007
            ],
            [
             -121.48495337799994,
             35.96251494100005
            ],
            [
             -121.48497229599997,
             35.962576873000046
            ],
            [
             -121.48499928999996,
             35.96263072600004
            ],
            [
             -121.48502905199996,
             35.96266833900006
            ],
            [
             -121.48516353199994,
             35.96280335400007
            ],
            [
             -121.48535507199995,
             35.963016054000036
            ],
            [
             -121.48538489599997,
             35.96305360300005
            ],
            [
             -121.48541217899998,
             35.96310716900007
            ],
            [
             -121.48543178199998,
             35.96316841400005
            ],
            [
             -121.485446062,
             35.96323498400005
            ],
            [
             -121.48545697399999,
             35.96330492000004
            ],
            [
             -121.48554251999997,
             35.963704463000056
            ],
            [
             -121.48575537,
             35.96432704600005
            ],
            [
             -121.48590267699996,
             35.96462440600004
            ],
            [
             -121.48593005699996,
             35.96466440000006
            ],
            [
             -121.48595491799995,
             35.96471938600007
            ],
            [
             -121.48597261999998,
             35.96478153700008
            ],
            [
             -121.48598496699998,
             35.96484904000005
            ],
            [
             -121.485993367,
             35.96492049100004
            ],
            [
             -121.48599889399998,
             35.96499481400008
            ],
            [
             -121.48600436599997,
             35.96514904300005
            ],
            [
             -121.48600548699994,
             35.96538747200003
            ],
            [
             -121.486001134,
             35.965950779000025
            ],
            [
             -121.48600254499996,
             35.966188920000036
            ],
            [
             -121.486008331,
             35.96634283700007
            ],
            [
             -121.48601405399995,
             35.966416966000054
            ],
            [
             -121.48602267399997,
             35.96648819700005
            ],
            [
             -121.48603526299996,
             35.966555465000056
            ],
            [
             -121.48605321099996,
             35.96661737000005
            ],
            [
             -121.48607831299995,
             35.966672122000034
            ],
            [
             -121.48610587199994,
             35.966711943000064
            ],
            [
             -121.48616751099996,
             35.966785067000046
            ],
            [
             -121.48619501599995,
             35.96682494600003
            ],
            [
             -121.486219861,
             35.966879379000034
            ],
            [
             -121.48623760999999,
             35.96694091200004
            ],
            [
             -121.48625003599994,
             35.967007770000066
            ],
            [
             -121.48625854,
             35.96707855900007
            ],
            [
             -121.48626421699998,
             35.96715218400004
            ],
            [
             -121.48627034199995,
             35.96730469100004
            ],
            [
             -121.486274848,
             35.96749463100008
            ]
           ],
           "type": "LineString"
          },
          "id": "3",
          "properties": {
           "CHLOROPHYLL": 2.417483,
           "CSU_Descriptor": "steeply sloping, straight, medium erodibility, warm temperate dry, low river discharge, moderately high wave energy, moderately tidal, euhaline-oxic-moderate to cool, clear, moderate chlorophyll",
           "CSU_ID": 70983,
           "Cluster": 6,
           "EMU_PHYSICAL": "Euhaline-Oxic-Moderate to Cool",
           "ERODIBILITY": "Medium",
           "GHM": 0.079536,
           "LENGTH_GEO": 806.9668982495567,
           "MAX_SLOPE": 112.521721,
           "MEAN_SIG_WAVEHEIGHT": 2.048518,
           "MasterKey": 2753670,
           "OBJECTID": 2753670,
           "OUTFLOW_DENSITY": 8671.790039,
           "OUTFLOW_DENSITY_RESCALED": 1.0484883786709782e-05,
           "REGIONAL_SINUOSITY": 1.264366,
           "RandomSort": 1883173.48792284,
           "Shape_Length": 0.00737837202950731,
           "TEMP_MOISTURE": "Warm Temperate Dry",
           "TIDAL_RANGE": 2.410373,
           "TURBIDITY": 0.04265,
           "chl_label": "moderate chlorophyll",
           "river_label": "low river discharge",
           "sinuosity_label": "straight",
           "slope_label": "steeply sloping",
           "style": {
            "color": "yellow",
            "dashArray": "5",
            "fillOpacity": 0.5,
            "fill_color": "yellow",
            "opacity": 1,
            "weight": 4
           },
           "tidal_label": "moderately tidal",
           "turbid_label": "clear",
           "wave_label": "moderately high wave energy"
          },
          "type": "Feature"
         },
         {
          "geometry": {
           "coordinates": [
            [
             -121.486274848,
             35.96749463100008
            ],
            [
             -121.48627769999996,
             35.967614809000054
            ],
            [
             -121.48628147599999,
             35.96769047400005
            ],
            [
             -121.48628724899999,
             35.967764181000064
            ],
            [
             -121.486295881,
             35.967835078000064
            ],
            [
             -121.48630847199996,
             35.96790207600003
            ],
            [
             -121.48632642599995,
             35.96796378100004
            ],
            [
             -121.48635152299994,
             35.968018424000036
            ],
            [
             -121.48637928699998,
             35.96805851400006
            ],
            [
             -121.48644156999995,
             35.96813217000005
            ],
            [
             -121.48646952699994,
             35.968172313000025
            ],
            [
             -121.48649501399996,
             35.96822706200004
            ],
            [
             -121.48651351499996,
             35.96828892900004
            ],
            [
             -121.48652678299999,
             35.96835614400004
            ],
            [
             -121.48653618199995,
             35.968427322000025
            ],
            [
             -121.48654273399995,
             35.96850137600006
            ],
            [
             -121.48654720199994,
             35.96857746000006
            ],
            [
             -121.48655177899997,
             35.96873313200007
            ],
            [
             -121.48655187499998,
             35.96889002800003
            ],
            [
             -121.48655010199997,
             35.96896769800003
            ],
            [
             -121.48654668599994,
             35.96904407900007
            ],
            [
             -121.48654103099994,
             35.969118423000054
            ],
            [
             -121.48653228099994,
             35.969189775000075
            ],
            [
             -121.48651925699994,
             35.969256888000075
            ],
            [
             -121.48650036899994,
             35.96931814100003
            ],
            [
             -121.48647353599995,
             35.96937143700006
            ],
            [
             -121.48644334299996,
             35.96940934200006
            ],
            [
             -121.48623643699995,
             35.969611161000046
            ],
            [
             -121.486198404,
             35.96964136300005
            ],
            [
             -121.48614753299995,
             35.969668547000026
            ],
            [
             -121.48609054999997,
             35.96968969400007
            ],
            [
             -121.48590781099995,
             35.969741654000075
            ],
            [
             -121.48585080699996,
             35.96976282000003
            ],
            [
             -121.48579998199995,
             35.96978996000007
            ],
            [
             -121.48576211499994,
             35.969819994000034
            ],
            [
             -121.48556734899995,
             35.97000967400004
            ],
            [
             -121.48554374599996,
             35.97004098700006
            ],
            [
             -121.48552962899998,
             35.97007647000004
            ],
            [
             -121.48552500199997,
             35.970114452000075
            ],
            [
             -121.48552956599997,
             35.97015251900007
            ],
            [
             -121.48554354999999,
             35.970188273000076
            ],
            [
             -121.48556686399996,
             35.970220072000075
            ],
            [
             -121.48574977799996,
             35.970422917000064
            ],
            [
             -121.48578205299998,
             35.97045869100003
            ],
            [
             -121.48710864299994,
             35.97177275900003
            ],
            [
             -121.48717650499998,
             35.97183965100004
            ],
            [
             -121.48739048299996,
             35.97202992000007
            ],
            [
             -121.48742765599997,
             35.97206011900005
            ],
            [
             -121.48747729799999,
             35.97208747800005
            ],
            [
             -121.48753287299996,
             35.97210890000008
            ],
            [
             -121.48771091099997,
             35.97216185700006
            ],
            [
             -121.48776636399998,
             35.972183406000056
            ],
            [
             -121.48781575899994,
             35.972211006000066
            ],
            [
             -121.48785257199995,
             35.97224156800007
            ],
            [
             -121.48805537399994,
             35.972443009000074
            ],
            [
             -121.48808618799995,
             35.97247956800004
            ],
            [
             -121.48862520399996,
             35.973288024000055
            ],
            [
             -121.48865164199998,
             35.973341437000045
            ],
            [
             -121.48867020199998,
             35.97340272900004
            ],
            [
             -121.48867167799995,
             35.97341051300003
            ]
           ],
           "type": "LineString"
          },
          "id": "4",
          "properties": {
           "CHLOROPHYLL": 2.417483,
           "CSU_Descriptor": "steeply sloping, straight, medium erodibility, warm temperate dry, low river discharge, moderately high wave energy, moderately tidal, euhaline-oxic-moderate to cool, clear, moderate chlorophyll",
           "CSU_ID": 70983,
           "Cluster": 6,
           "EMU_PHYSICAL": "Euhaline-Oxic-Moderate to Cool",
           "ERODIBILITY": "Medium",
           "GHM": 0.07846,
           "LENGTH_GEO": 807.8075295292983,
           "MAX_SLOPE": 101.129009,
           "MEAN_SIG_WAVEHEIGHT": 2.048518,
           "MasterKey": 2753669,
           "OBJECTID": 2753669,
           "OUTFLOW_DENSITY": 8671.790039,
           "OUTFLOW_DENSITY_RESCALED": 1.0484883786709782e-05,
           "REGIONAL_SINUOSITY": 1.140924,
           "RandomSort": 2587799.74709916,
           "Shape_Length": 0.007835060322611005,
           "TEMP_MOISTURE": "Warm Temperate Dry",
           "TIDAL_RANGE": 2.410373,
           "TURBIDITY": 0.024533,
           "chl_label": "moderate chlorophyll",
           "river_label": "low river discharge",
           "sinuosity_label": "straight",
           "slope_label": "steeply sloping",
           "style": {
            "color": "yellow",
            "dashArray": "5",
            "fillOpacity": 0.5,
            "fill_color": "yellow",
            "opacity": 1,
            "weight": 4
           },
           "tidal_label": "moderately tidal",
           "turbid_label": "clear",
           "wave_label": "moderately high wave energy"
          },
          "type": "Feature"
         },
         {
          "geometry": {
           "coordinates": [
            [
             -121.48867167799995,
             35.97341051300003
            ],
            [
             -121.48868292699996,
             35.97346985300004
            ],
            [
             -121.48869139699997,
             35.97354123400004
            ],
            [
             -121.48869680299998,
             35.973615677000055
            ],
            [
             -121.48870003899998,
             35.973692293000056
            ],
            [
             -121.48870176199995,
             35.973770417000026
            ],
            [
             -121.48870246099995,
             35.97392942000005
            ],
            [
             -121.48869703899999,
             35.97449379300008
            ],
            [
             -121.48869673299998,
             35.974733650000076
            ],
            [
             -121.48869994499995,
             35.974890139000024
            ],
            [
             -121.48870357799996,
             35.97496635700003
            ],
            [
             -121.48870931,
             35.97504047500007
            ],
            [
             -121.488717953,
             35.975111681000044
            ],
            [
             -121.48873057499998,
             35.97517891100006
            ],
            [
             -121.48874856999998,
             35.975240764000034
            ],
            [
             -121.48877373299996,
             35.97529545200007
            ],
            [
             -121.48880134999996,
             35.975335209000036
            ],
            [
             -121.48886312499997,
             35.975408182000024
            ],
            [
             -121.48889070499996,
             35.975447975000066
            ],
            [
             -121.488916056,
             35.97550347300006
            ],
            [
             -121.48893405099994,
             35.975566325000045
            ],
            [
             -121.48894654599997,
             35.97563467900005
            ],
            [
             -121.48895498199994,
             35.97570709300004
            ],
            [
             -121.48896046599998,
             35.97578245600005
            ],
            [
             -121.48896383899995,
             35.97585993100006
            ],
            [
             -121.48896664699998,
             35.97601882200007
            ],
            [
             -121.48896790499998,
             35.97642180300005
            ],
            [
             -121.48897275299998,
             35.97657865200006
            ],
            [
             -121.48897793699996,
             35.976654317000055
            ],
            [
             -121.48898601299999,
             35.976727090000054
            ],
            [
             -121.48899808799996,
             35.976795862000074
            ],
            [
             -121.48901561199995,
             35.97685918900004
            ],
            [
             -121.48928671299996,
             35.97766606300007
            ],
            [
             -121.48931375899997,
             35.977719867000076
            ],
            [
             -121.48987920099995,
             35.978569271000026
            ],
            [
             -121.49048128099997,
             35.979449412000065
            ],
            [
             -121.49051081599998,
             35.979487250000034
            ],
            [
             -121.49053691299997,
             35.979539757000055
            ],
            [
             -121.49055530499999,
             35.97959996600008
            ],
            [
             -121.49056796099995,
             35.979665913000076
            ],
            [
             -121.49057639499995,
             35.979736081000055
            ],
            [
             -121.49058176399996,
             35.97980931600006
            ],
            [
             -121.49058493599995,
             35.97988474600004
            ],
            [
             -121.49058655799996,
             35.979961727000045
            ],
            [
             -121.49058692199998,
             35.98011857000006
            ],
            [
             -121.49058457099994,
             35.98034678600004
            ]
           ],
           "type": "LineString"
          },
          "id": "5",
          "properties": {
           "CHLOROPHYLL": 0.745658,
           "CSU_Descriptor": "steeply sloping, straight, medium erodibility, warm temperate dry, low river discharge, moderately high wave energy, moderately tidal, euhaline-oxic-moderate to cool, clear, low chlorophyll",
           "CSU_ID": 62193,
           "Cluster": 6,
           "EMU_PHYSICAL": "Euhaline-Oxic-Moderate to Cool",
           "ERODIBILITY": "Medium",
           "GHM": 0.07846,
           "LENGTH_GEO": 806.9387475584981,
           "MAX_SLOPE": 145.37477,
           "MEAN_SIG_WAVEHEIGHT": 2.048518,
           "MasterKey": 2753668,
           "OBJECTID": 2753668,
           "OUTFLOW_DENSITY": 8671.790039,
           "OUTFLOW_DENSITY_RESCALED": 1.0484883786709782e-05,
           "REGIONAL_SINUOSITY": 1.140924,
           "RandomSort": 2889544.3674485,
           "Shape_Length": 0.007431263967270191,
           "TEMP_MOISTURE": "Warm Temperate Dry",
           "TIDAL_RANGE": 2.410373,
           "TURBIDITY": 0.024533,
           "chl_label": "low chlorophyll",
           "river_label": "low river discharge",
           "sinuosity_label": "straight",
           "slope_label": "steeply sloping",
           "style": {
            "color": "yellow",
            "dashArray": "5",
            "fillOpacity": 0.5,
            "fill_color": "yellow",
            "opacity": 1,
            "weight": 4
           },
           "tidal_label": "moderately tidal",
           "turbid_label": "clear",
           "wave_label": "moderately high wave energy"
          },
          "type": "Feature"
         },
         {
          "geometry": {
           "coordinates": [
            [
             -121.49058457099994,
             35.98034678600004
            ],
            [
             -121.49058119499995,
             35.98067451500003
            ],
            [
             -121.49058313999996,
             35.980829775000075
            ],
            [
             -121.49058616399998,
             35.980905353000026
            ],
            [
             -121.49059135699997,
             35.98097876200006
            ],
            [
             -121.49059958999999,
             35.98104912900004
            ],
            [
             -121.49061202599995,
             35.981115299000066
            ],
            [
             -121.49063018499999,
             35.98117574100007
            ],
            [
             -121.49065604599997,
             35.98122848300005
            ],
            [
             -121.49068539599995,
             35.981266506000054
            ],
            [
             -121.49090918299999,
             35.98151433400005
            ],
            [
             -121.49094524499998,
             35.981545648000065
            ],
            [
             -121.49136330399995,
             35.981936070000074
            ],
            [
             -121.49187623299997,
             35.98243374800006
            ],
            [
             -121.49190805499995,
             35.98246929800007
            ],
            [
             -121.49209888299998,
             35.98268271200004
            ],
            [
             -121.49212796799998,
             35.98272100200006
            ],
            [
             -121.49215365999999,
             35.98277457200004
            ],
            [
             -121.49217150499999,
             35.98283599200005
            ],
            [
             -121.49217669395239,
             35.982865
            ]
           ],
           "type": "LineString"
          },
          "id": "6",
          "properties": {
           "CHLOROPHYLL": 0.745658,
           "CSU_Descriptor": "steeply sloping, straight, medium erodibility, warm temperate dry, low river discharge, moderately high wave energy, moderately tidal, euhaline-oxic-moderate to cool, clear, low chlorophyll",
           "CSU_ID": 62193,
           "Cluster": 6,
           "EMU_PHYSICAL": "Euhaline-Oxic-Moderate to Cool",
           "ERODIBILITY": "Medium",
           "GHM": 0.087836,
           "LENGTH_GEO": 807.4531709005562,
           "MAX_SLOPE": 85.808085,
           "MEAN_SIG_WAVEHEIGHT": 2.048518,
           "MasterKey": 2753667,
           "OBJECTID": 2753667,
           "OUTFLOW_DENSITY": 8671.790039,
           "OUTFLOW_DENSITY_RESCALED": 1.0484883786709782e-05,
           "REGIONAL_SINUOSITY": 1.140924,
           "RandomSort": 2294754.8667599,
           "Shape_Length": 0.007722909838959558,
           "TEMP_MOISTURE": "Warm Temperate Dry",
           "TIDAL_RANGE": 2.410373,
           "TURBIDITY": 0.024533,
           "chl_label": "low chlorophyll",
           "river_label": "low river discharge",
           "sinuosity_label": "straight",
           "slope_label": "steeply sloping",
           "style": {
            "color": "yellow",
            "dashArray": "5",
            "fillOpacity": 0.5,
            "fill_color": "yellow",
            "opacity": 1,
            "weight": 4
           },
           "tidal_label": "moderately tidal",
           "turbid_label": "clear",
           "wave_label": "moderately high wave energy"
          },
          "type": "Feature"
         },
         {
          "geometry": {
           "coordinates": [
            [
             -121.48064202595354,
             35.948766
            ],
            [
             -121.48064413499998,
             35.948774350000065
            ],
            [
             -121.48066691099996,
             35.94882882700006
            ],
            [
             -121.48069953299995,
             35.94887341900005
            ],
            [
             -121.48074410999999,
             35.94890601900005
            ],
            [
             -121.48079853799999,
             35.94892874100003
            ],
            [
             -121.48086016699995,
             35.94894423300008
            ],
            [
             -121.48151853599995,
             35.94910654100005
            ]
           ],
           "type": "LineString"
          },
          "id": "7",
          "properties": {
           "CHLOROPHYLL": 0.473221,
           "CSU_Descriptor": "flat, straight, high erodibility, warm temperate dry, low river discharge, moderately high wave energy, moderately tidal, euhaline-oxic-moderate to cool, clear, low chlorophyll",
           "CSU_ID": 9338,
           "Cluster": 6,
           "EMU_PHYSICAL": "Euhaline-Oxic-Moderate to Cool",
           "ERODIBILITY": "High",
           "GHM": 0.017632,
           "LENGTH_GEO": 807.7668384156195,
           "MAX_SLOPE": 3.529753,
           "MEAN_SIG_WAVEHEIGHT": 2.048518,
           "MasterKey": 2753673,
           "OBJECTID": 2753673,
           "OUTFLOW_DENSITY": 8671.790039,
           "OUTFLOW_DENSITY_RESCALED": 1.0484883786709782e-05,
           "REGIONAL_SINUOSITY": 1.264366,
           "RandomSort": 1022958.74682668,
           "Shape_Length": 0.007686713549196647,
           "TEMP_MOISTURE": "Warm Temperate Dry",
           "TIDAL_RANGE": 2.410373,
           "TURBIDITY": 0.04265,
           "chl_label": "low chlorophyll",
           "river_label": "low river discharge",
           "sinuosity_label": "straight",
           "slope_label": "flat",
           "style": {
            "color": "yellow",
            "dashArray": "5",
            "fillOpacity": 0.5,
            "fill_color": "yellow",
            "opacity": 1,
            "weight": 4
           },
           "tidal_label": "moderately tidal",
           "turbid_label": "clear",
           "wave_label": "moderately high wave energy"
          },
          "type": "Feature"
         },
         {
          "geometry": {
           "coordinates": [
            [
             -121.48151853599995,
             35.94910654100005
            ],
            [
             -121.48188434699995,
             35.949196725000036
            ],
            [
             -121.48195207499998,
             35.949208559000056
            ],
            [
             -121.482023761,
             35.94921650400005
            ],
            [
             -121.48209833599998,
             35.94922163900003
            ],
            [
             -121.482253002,
             35.94922669600004
            ],
            [
             -121.48256899499995,
             35.949231817000054
            ],
            [
             -121.48264645499995,
             35.94923506300006
            ],
            [
             -121.48272200799994,
             35.94924038700003
            ],
            [
             -121.48279468599998,
             35.949248727000054
            ],
            [
             -121.48286322299998,
             35.949261300000046
            ],
            [
             -121.48292593699995,
             35.949279673000035
            ],
            [
             -121.48298064299996,
             35.94930586800007
            ],
            [
             -121.48301959099996,
             35.94933534100005
            ],
            [
             -121.48321173399995,
             35.949525566000034
            ],
            [
             -121.48323335999999,
             35.94955599600007
            ],
            [
             -121.48324472599995,
             35.949589778000075
            ],
            [
             -121.48324555099998,
             35.94962494600003
            ],
            [
             -121.48323577199994,
             35.94965871000005
            ],
            [
             -121.48321469499996,
             35.949688200000026
            ],
            [
             -121.48317399099994,
             35.94971504800003
            ],
            [
             -121.48312020199995,
             35.94973418200004
            ],
            [
             -121.48305736799995,
             35.94974796100007
            ],
            [
             -121.482988676,
             35.94975836400005
            ],
            [
             -121.482843678,
             35.949775783000064
            ],
            [
             -121.48277157599995,
             35.94978598500006
            ],
            [
             -121.48270240599999,
             35.94979944000005
            ],
            [
             -121.48263832799995,
             35.94981813100003
            ],
            [
             -121.48258182799998,
             35.94984444100004
            ],
            [
             -121.48254182,
             35.94987343300005
            ],
            [
             -121.48231721299999,
             35.950062313000046
            ],
            [
             -121.48228003999998,
             35.95009398800005
            ],
            [
             -121.48224724699998,
             35.95012999800008
            ],
            [
             -121.48205412099998,
             35.95034484700005
            ],
            [
             -121.48202576899996,
             35.95038208900007
            ],
            [
             -121.482002438,
             35.950431750000064
            ],
            [
             -121.48198799399995,
             35.950487286000055
            ],
            [
             -121.48198119399996,
             35.95054619200005
            ],
            [
             -121.48198142099994,
             35.95060616400008
            ],
            [
             -121.48198868299994,
             35.95066496900006
            ],
            [
             -121.48200359599997,
             35.95072030700004
            ],
            [
             -121.48202740799996,
             35.95076966700003
            ],
            [
             -121.48205619699996,
             35.95080656600004
            ],
            [
             -121.48225163799998,
             35.95101834600007
            ],
            [
             -121.48228449799996,
             35.951053923000075
            ],
            [
             -121.48232146899994,
             35.951085343000045
            ],
            [
             -121.48240013699996,
             35.95114324300005
            ],
            [
             -121.48243691599998,
             35.95117461800004
            ],
            [
             -121.48246946899997,
             35.951210133000075
            ],
            [
             -121.48266294499996,
             35.95142351800007
            ],
            [
             -121.48269224699999,
             35.95146183400004
            ],
            [
             -121.48271754999996,
             35.95151376200005
            ],
            [
             -121.48273539899998,
             35.95157309800004
            ],
            [
             -121.48274773699995,
             35.95163791700003
            ],
            [
             -121.48275610399998,
             35.95170667600007
            ],
            [
             -121.48276174399996,
             35.951778138000066
            ],
            [
             -121.48276567899995,
             35.95185128800006
            ],
            [
             -121.48277576999999,
             35.95207237200003
            ],
            [
             -121.48278132899998,
             35.95214385600008
            ],
            [
             -121.48278957999997,
             35.95221264200006
            ],
            [
             -121.48280175999997,
             35.95227749900005
            ],
            [
             -121.48281941,
             35.952336881000065
            ],
            [
             -121.48284446499997,
             35.95238886200008
            ],
            [
             -121.48287350599998,
             35.95242723200005
            ],
            [
             -121.48306439599997,
             35.952640934000044
            ],
            [
             -121.48309635699997,
             35.952676448000034
            ],
            [
             -121.48333968099996,
             35.95290621500004
            ],
            [
             -121.48348720699994,
             35.95303011900006
            ],
            [
             -121.48352381099994,
             35.95306155700007
            ],
            [
             -121.48375186399994,
             35.95331146500007
            ],
            [
             -121.48378173199995,
             35.953349711000044
            ],
            [
             -121.48380863299997,
             35.953404126000066
            ],
            [
             -121.48382707999997,
             35.95346621200008
            ],
            [
             -121.48383896499996,
             35.953533589000074
            ],
            [
             -121.48384556899998,
             35.95360427000003
            ],
            [
             -121.48384764099995,
             35.95367653300008
            ],
            [
             -121.48384541799999,
             35.95374878000007
            ],
            [
             -121.48383865399995,
             35.953819416000044
            ],
            [
             -121.48382660099998,
             35.953886717000046
            ],
            [
             -121.48380796499998,
             35.953948694000076
            ],
            [
             -121.48378085499996,
             35.954002967000065
            ],
            [
             -121.48375078899994,
             35.954041063000034
            ],
            [
             -121.48360675599997,
             35.954196480000064
            ]
           ],
           "type": "LineString"
          },
          "id": "8",
          "properties": {
           "CHLOROPHYLL": 2.417483,
           "CSU_Descriptor": "steeply sloping, straight, medium erodibility, warm temperate dry, low river discharge, moderately high wave energy, moderately tidal, euhaline-oxic-moderate to cool, clear, moderate chlorophyll",
           "CSU_ID": 70983,
           "Cluster": 6,
           "EMU_PHYSICAL": "Euhaline-Oxic-Moderate to Cool",
           "ERODIBILITY": "Medium",
           "GHM": 0.017632,
           "LENGTH_GEO": 808.378891753725,
           "MAX_SLOPE": 73.403643,
           "MEAN_SIG_WAVEHEIGHT": 2.048518,
           "MasterKey": 2753672,
           "OBJECTID": 2753672,
           "OUTFLOW_DENSITY": 8671.790039,
           "OUTFLOW_DENSITY_RESCALED": 1.0484883786709782e-05,
           "REGIONAL_SINUOSITY": 1.264366,
           "RandomSort": 1325819.97657637,
           "Shape_Length": 0.00801083212152467,
           "TEMP_MOISTURE": "Warm Temperate Dry",
           "TIDAL_RANGE": 2.410373,
           "TURBIDITY": 0.04265,
           "chl_label": "moderate chlorophyll",
           "river_label": "low river discharge",
           "sinuosity_label": "straight",
           "slope_label": "steeply sloping",
           "style": {
            "color": "yellow",
            "dashArray": "5",
            "fillOpacity": 0.5,
            "fill_color": "yellow",
            "opacity": 1,
            "weight": 4
           },
           "tidal_label": "moderately tidal",
           "turbid_label": "clear",
           "wave_label": "moderately high wave energy"
          },
          "type": "Feature"
         },
         {
          "geometry": {
           "coordinates": [
            [
             -121.48360675599997,
             35.954196480000064
            ],
            [
             -121.48355353299996,
             35.954253910000034
            ],
            [
             -121.48352069599997,
             35.95428925400006
            ],
            [
             -121.48348374899996,
             35.95432041000004
            ],
            [
             -121.48340504999999,
             35.95437772300005
            ],
            [
             -121.48336819399998,
             35.954408785000055
            ],
            [
             -121.48333551099995,
             35.95444397700004
            ],
            [
             -121.48313984299995,
             35.95465523800004
            ],
            [
             -121.48310992699999,
             35.95469318800008
            ],
            [
             -121.48308276299997,
             35.954747517000044
            ],
            [
             -121.48306365199994,
             35.95480997300007
            ],
            [
             -121.48305044999995,
             35.95487842700004
            ],
            [
             -121.48304151299999,
             35.95495124100006
            ],
            [
             -121.48303560399995,
             35.95502718200004
            ],
            [
             -121.48302945499995,
             35.95518497200004
            ],
            [
             -121.48302723699999,
             35.95542836100003
            ],
            [
             -121.48302981599994,
             35.95567168700006
            ],
            [
             -121.48303623899994,
             35.95582937000006
            ],
            [
             -121.48304229999997,
             35.955905244000064
            ],
            [
             -121.48305139899998,
             35.955977991000054
            ],
            [
             -121.483064765,
             35.95604638100008
            ],
            [
             -121.48308403599998,
             35.956108792000066
            ],
            [
             -121.48311134499994,
             35.95616311200007
            ],
            [
             -121.48314134699996,
             35.95620110300007
            ],
            [
             -121.48333510699996,
             35.956415477000064
            ],
            [
             -121.48347366499996,
             35.956549936000044
            ],
            [
             -121.48350552,
             35.95658647400006
            ],
            [
             -121.48353479599996,
             35.95663538900004
            ],
            [
             -121.48376524499997,
             35.957106270000054
            ],
            [
             -121.48377768999995,
             35.957143184000074
            ],
            [
             -121.48378116899994,
             35.95718203000007
            ],
            [
             -121.48377580899995,
             35.957220558000074
            ],
            [
             -121.48376124899994,
             35.95725649700006
            ],
            [
             -121.48373747599999,
             35.95728830300004
            ],
            [
             -121.48355121499998,
             35.95749015900003
            ],
            [
             -121.48351806999995,
             35.957525814000064
            ],
            [
             -121.48348058199997,
             35.957557509000026
            ],
            [
             -121.48340049299998,
             35.95761621400004
            ],
            [
             -121.48336296099995,
             35.957647949000034
            ],
            [
             -121.48332975999995,
             35.95768366000004
            ],
            [
             -121.48314520599996,
             35.95788380500005
            ],
            [
             -121.48312288099999,
             35.957914161000076
            ],
            [
             -121.48311053599997,
             35.95794788400008
            ],
            [
             -121.48310844399998,
             35.957983143000035
            ],
            [
             -121.48311660999997,
             35.958017297000026
            ],
            [
             -121.48313563199997,
             35.958047631000056
            ],
            [
             -121.48317097199998,
             35.958075163000046
            ],
            [
             -121.48321728299999,
             35.958096771000044
            ],
            [
             -121.48327058899997,
             35.958114961000035
            ],
            [
             -121.48338496999997,
             35.958150223000075
            ],
            [
             -121.48344013399998,
             35.95817182700006
            ],
            [
             -121.48349006799998,
             35.958199352000065
            ],
            [
             -121.48352785699996,
             35.958229678000066
            ],
            [
             -121.48378389699997,
             35.95845159600003
            ],
            [
             -121.48433019299995,
             35.958987654000055
            ],
            [
             -121.48455261099997,
             35.959237045000066
            ],
            [
             -121.48458175399998,
             35.95927528800007
            ],
            [
             -121.48460697399997,
             35.95932707600008
            ],
            [
             -121.48462484499998,
             35.95938621100004
            ],
            [
             -121.48488869899995,
             35.96044882900003
            ]
           ],
           "type": "LineString"
          },
          "id": "9",
          "properties": {
           "CHLOROPHYLL": 2.417483,
           "CSU_Descriptor": "steeply sloping, straight, medium erodibility, warm temperate dry, low river discharge, moderately high wave energy, moderately tidal, euhaline-oxic-moderate to cool, clear, moderate chlorophyll",
           "CSU_ID": 70983,
           "Cluster": 6,
           "EMU_PHYSICAL": "Euhaline-Oxic-Moderate to Cool",
           "ERODIBILITY": "Medium",
           "GHM": 0.122187,
           "LENGTH_GEO": 807.6925181457625,
           "MAX_SLOPE": 169.244502,
           "MEAN_SIG_WAVEHEIGHT": 2.048518,
           "MasterKey": 2753671,
           "OBJECTID": 2753671,
           "OUTFLOW_DENSITY": 8671.790039,
           "OUTFLOW_DENSITY_RESCALED": 1.0484883786709782e-05,
           "REGIONAL_SINUOSITY": 1.264366,
           "RandomSort": 2346750.87926763,
           "Shape_Length": 0.007712317963516704,
           "TEMP_MOISTURE": "Warm Temperate Dry",
           "TIDAL_RANGE": 2.410373,
           "TURBIDITY": 0.04265,
           "chl_label": "moderate chlorophyll",
           "river_label": "low river discharge",
           "sinuosity_label": "straight",
           "slope_label": "steeply sloping",
           "style": {
            "color": "yellow",
            "dashArray": "5",
            "fillOpacity": 0.5,
            "fill_color": "yellow",
            "opacity": 1,
            "weight": 4
           },
           "tidal_label": "moderately tidal",
           "turbid_label": "clear",
           "wave_label": "moderately high wave energy"
          },
          "type": "Feature"
         },
         {
          "geometry": {
           "coordinates": [
            [
             -121.48488869899995,
             35.96044882900003
            ],
            [
             -121.48489441499999,
             35.960471848000054
            ],
            [
             -121.48490687999998,
             35.96054023100004
            ],
            [
             -121.48491535799997,
             35.96061260100004
            ],
            [
             -121.48492094399995,
             35.96068786300003
            ],
            [
             -121.48492446399996,
             35.960765191000064
            ],
            [
             -121.48492652699997,
             35.960843976000035
            ],
            [
             -121.48492794499998,
             35.961004254000045
            ],
            [
             -121.48492684999997,
             35.96124789500004
            ],
            [
             -121.484920553,
             35.96190097900006
            ],
            [
             -121.484921123,
             35.96214295500005
            ],
            [
             -121.48492627199994,
             35.962299501000075
            ],
            [
             -121.48493179299999,
             35.962374830000044
            ],
            [
             -121.48494041799995,
             35.96244705200007
            ],
            [
             -121.48495337799994,
             35.96251494100005
            ],
            [
             -121.48497229599997,
             35.962576873000046
            ],
            [
             -121.48499928999996,
             35.96263072600004
            ],
            [
             -121.48502905199996,
             35.96266833900006
            ],
            [
             -121.48516353199994,
             35.96280335400007
            ],
            [
             -121.48535507199995,
             35.963016054000036
            ],
            [
             -121.48538489599997,
             35.96305360300005
            ],
            [
             -121.48541217899998,
             35.96310716900007
            ],
            [
             -121.48543178199998,
             35.96316841400005
            ],
            [
             -121.485446062,
             35.96323498400005
            ],
            [
             -121.48545697399999,
             35.96330492000004
            ],
            [
             -121.48554251999997,
             35.963704463000056
            ],
            [
             -121.48575537,
             35.96432704600005
            ],
            [
             -121.48590267699996,
             35.96462440600004
            ],
            [
             -121.48593005699996,
             35.96466440000006
            ],
            [
             -121.48595491799995,
             35.96471938600007
            ],
            [
             -121.48597261999998,
             35.96478153700008
            ],
            [
             -121.48598496699998,
             35.96484904000005
            ],
            [
             -121.485993367,
             35.96492049100004
            ],
            [
             -121.48599889399998,
             35.96499481400008
            ],
            [
             -121.48600436599997,
             35.96514904300005
            ],
            [
             -121.48600548699994,
             35.96538747200003
            ],
            [
             -121.486001134,
             35.965950779000025
            ],
            [
             -121.48600254499996,
             35.966188920000036
            ],
            [
             -121.486008331,
             35.96634283700007
            ],
            [
             -121.48601405399995,
             35.966416966000054
            ],
            [
             -121.48602267399997,
             35.96648819700005
            ],
            [
             -121.48603526299996,
             35.966555465000056
            ],
            [
             -121.48605321099996,
             35.96661737000005
            ],
            [
             -121.48607831299995,
             35.966672122000034
            ],
            [
             -121.48610587199994,
             35.966711943000064
            ],
            [
             -121.48616751099996,
             35.966785067000046
            ],
            [
             -121.48619501599995,
             35.96682494600003
            ],
            [
             -121.486219861,
             35.966879379000034
            ],
            [
             -121.48623760999999,
             35.96694091200004
            ],
            [
             -121.48625003599994,
             35.967007770000066
            ],
            [
             -121.48625854,
             35.96707855900007
            ],
            [
             -121.48626421699998,
             35.96715218400004
            ],
            [
             -121.48627034199995,
             35.96730469100004
            ],
            [
             -121.486274848,
             35.96749463100008
            ]
           ],
           "type": "LineString"
          },
          "id": "10",
          "properties": {
           "CHLOROPHYLL": 2.417483,
           "CSU_Descriptor": "steeply sloping, straight, medium erodibility, warm temperate dry, low river discharge, moderately high wave energy, moderately tidal, euhaline-oxic-moderate to cool, clear, moderate chlorophyll",
           "CSU_ID": 70983,
           "Cluster": 6,
           "EMU_PHYSICAL": "Euhaline-Oxic-Moderate to Cool",
           "ERODIBILITY": "Medium",
           "GHM": 0.079536,
           "LENGTH_GEO": 806.9668982495567,
           "MAX_SLOPE": 112.521721,
           "MEAN_SIG_WAVEHEIGHT": 2.048518,
           "MasterKey": 2753670,
           "OBJECTID": 2753670,
           "OUTFLOW_DENSITY": 8671.790039,
           "OUTFLOW_DENSITY_RESCALED": 1.0484883786709782e-05,
           "REGIONAL_SINUOSITY": 1.264366,
           "RandomSort": 1883173.48792284,
           "Shape_Length": 0.00737837202950731,
           "TEMP_MOISTURE": "Warm Temperate Dry",
           "TIDAL_RANGE": 2.410373,
           "TURBIDITY": 0.04265,
           "chl_label": "moderate chlorophyll",
           "river_label": "low river discharge",
           "sinuosity_label": "straight",
           "slope_label": "steeply sloping",
           "style": {
            "color": "yellow",
            "dashArray": "5",
            "fillOpacity": 0.5,
            "fill_color": "yellow",
            "opacity": 1,
            "weight": 4
           },
           "tidal_label": "moderately tidal",
           "turbid_label": "clear",
           "wave_label": "moderately high wave energy"
          },
          "type": "Feature"
         },
         {
          "geometry": {
           "coordinates": [
            [
             -121.486274848,
             35.96749463100008
            ],
            [
             -121.48627769999996,
             35.967614809000054
            ],
            [
             -121.48628147599999,
             35.96769047400005
            ],
            [
             -121.48628724899999,
             35.967764181000064
            ],
            [
             -121.486295881,
             35.967835078000064
            ],
            [
             -121.48630847199996,
             35.96790207600003
            ],
            [
             -121.48632642599995,
             35.96796378100004
            ],
            [
             -121.48635152299994,
             35.968018424000036
            ],
            [
             -121.48637928699998,
             35.96805851400006
            ],
            [
             -121.48644156999995,
             35.96813217000005
            ],
            [
             -121.48646952699994,
             35.968172313000025
            ],
            [
             -121.48649501399996,
             35.96822706200004
            ],
            [
             -121.48651351499996,
             35.96828892900004
            ],
            [
             -121.48652678299999,
             35.96835614400004
            ],
            [
             -121.48653618199995,
             35.968427322000025
            ],
            [
             -121.48654273399995,
             35.96850137600006
            ],
            [
             -121.48654720199994,
             35.96857746000006
            ],
            [
             -121.48655177899997,
             35.96873313200007
            ],
            [
             -121.48655187499998,
             35.96889002800003
            ],
            [
             -121.48655010199997,
             35.96896769800003
            ],
            [
             -121.48654668599994,
             35.96904407900007
            ],
            [
             -121.48654103099994,
             35.969118423000054
            ],
            [
             -121.48653228099994,
             35.969189775000075
            ],
            [
             -121.48651925699994,
             35.969256888000075
            ],
            [
             -121.48650036899994,
             35.96931814100003
            ],
            [
             -121.48647353599995,
             35.96937143700006
            ],
            [
             -121.48644334299996,
             35.96940934200006
            ],
            [
             -121.48623643699995,
             35.969611161000046
            ],
            [
             -121.486198404,
             35.96964136300005
            ],
            [
             -121.48614753299995,
             35.969668547000026
            ],
            [
             -121.48609054999997,
             35.96968969400007
            ],
            [
             -121.48590781099995,
             35.969741654000075
            ],
            [
             -121.48585080699996,
             35.96976282000003
            ],
            [
             -121.48579998199995,
             35.96978996000007
            ],
            [
             -121.48576211499994,
             35.969819994000034
            ],
            [
             -121.48556734899995,
             35.97000967400004
            ],
            [
             -121.48554374599996,
             35.97004098700006
            ],
            [
             -121.48552962899998,
             35.97007647000004
            ],
            [
             -121.48552500199997,
             35.970114452000075
            ],
            [
             -121.48552956599997,
             35.97015251900007
            ],
            [
             -121.48554354999999,
             35.970188273000076
            ],
            [
             -121.48556686399996,
             35.970220072000075
            ],
            [
             -121.48574977799996,
             35.970422917000064
            ],
            [
             -121.48578205299998,
             35.97045869100003
            ],
            [
             -121.48710864299994,
             35.97177275900003
            ],
            [
             -121.48717650499998,
             35.97183965100004
            ],
            [
             -121.48739048299996,
             35.97202992000007
            ],
            [
             -121.48742765599997,
             35.97206011900005
            ],
            [
             -121.48747729799999,
             35.97208747800005
            ],
            [
             -121.48753287299996,
             35.97210890000008
            ],
            [
             -121.48771091099997,
             35.97216185700006
            ],
            [
             -121.48776636399998,
             35.972183406000056
            ],
            [
             -121.48781575899994,
             35.972211006000066
            ],
            [
             -121.48785257199995,
             35.97224156800007
            ],
            [
             -121.48805537399994,
             35.972443009000074
            ],
            [
             -121.48808618799995,
             35.97247956800004
            ],
            [
             -121.48862520399996,
             35.973288024000055
            ],
            [
             -121.48865164199998,
             35.973341437000045
            ],
            [
             -121.48867020199998,
             35.97340272900004
            ],
            [
             -121.48867167799995,
             35.97341051300003
            ]
           ],
           "type": "LineString"
          },
          "id": "11",
          "properties": {
           "CHLOROPHYLL": 2.417483,
           "CSU_Descriptor": "steeply sloping, straight, medium erodibility, warm temperate dry, low river discharge, moderately high wave energy, moderately tidal, euhaline-oxic-moderate to cool, clear, moderate chlorophyll",
           "CSU_ID": 70983,
           "Cluster": 6,
           "EMU_PHYSICAL": "Euhaline-Oxic-Moderate to Cool",
           "ERODIBILITY": "Medium",
           "GHM": 0.07846,
           "LENGTH_GEO": 807.8075295292983,
           "MAX_SLOPE": 101.129009,
           "MEAN_SIG_WAVEHEIGHT": 2.048518,
           "MasterKey": 2753669,
           "OBJECTID": 2753669,
           "OUTFLOW_DENSITY": 8671.790039,
           "OUTFLOW_DENSITY_RESCALED": 1.0484883786709782e-05,
           "REGIONAL_SINUOSITY": 1.140924,
           "RandomSort": 2587799.74709916,
           "Shape_Length": 0.007835060322611005,
           "TEMP_MOISTURE": "Warm Temperate Dry",
           "TIDAL_RANGE": 2.410373,
           "TURBIDITY": 0.024533,
           "chl_label": "moderate chlorophyll",
           "river_label": "low river discharge",
           "sinuosity_label": "straight",
           "slope_label": "steeply sloping",
           "style": {
            "color": "yellow",
            "dashArray": "5",
            "fillOpacity": 0.5,
            "fill_color": "yellow",
            "opacity": 1,
            "weight": 4
           },
           "tidal_label": "moderately tidal",
           "turbid_label": "clear",
           "wave_label": "moderately high wave energy"
          },
          "type": "Feature"
         },
         {
          "geometry": {
           "coordinates": [
            [
             -121.48867167799995,
             35.97341051300003
            ],
            [
             -121.48868292699996,
             35.97346985300004
            ],
            [
             -121.48869139699997,
             35.97354123400004
            ],
            [
             -121.48869680299998,
             35.973615677000055
            ],
            [
             -121.48870003899998,
             35.973692293000056
            ],
            [
             -121.48870176199995,
             35.973770417000026
            ],
            [
             -121.48870246099995,
             35.97392942000005
            ],
            [
             -121.48869703899999,
             35.97449379300008
            ],
            [
             -121.48869673299998,
             35.974733650000076
            ],
            [
             -121.48869994499995,
             35.974890139000024
            ],
            [
             -121.48870357799996,
             35.97496635700003
            ],
            [
             -121.48870931,
             35.97504047500007
            ],
            [
             -121.488717953,
             35.975111681000044
            ],
            [
             -121.48873057499998,
             35.97517891100006
            ],
            [
             -121.48874856999998,
             35.975240764000034
            ],
            [
             -121.48877373299996,
             35.97529545200007
            ],
            [
             -121.48880134999996,
             35.975335209000036
            ],
            [
             -121.48886312499997,
             35.975408182000024
            ],
            [
             -121.48889070499996,
             35.975447975000066
            ],
            [
             -121.488916056,
             35.97550347300006
            ],
            [
             -121.48893405099994,
             35.975566325000045
            ],
            [
             -121.48894654599997,
             35.97563467900005
            ],
            [
             -121.48895498199994,
             35.97570709300004
            ],
            [
             -121.48896046599998,
             35.97578245600005
            ],
            [
             -121.48896383899995,
             35.97585993100006
            ],
            [
             -121.48896664699998,
             35.97601882200007
            ],
            [
             -121.48896790499998,
             35.97642180300005
            ],
            [
             -121.48897275299998,
             35.97657865200006
            ],
            [
             -121.48897793699996,
             35.976654317000055
            ],
            [
             -121.48898601299999,
             35.976727090000054
            ],
            [
             -121.48899808799996,
             35.976795862000074
            ],
            [
             -121.48901561199995,
             35.97685918900004
            ],
            [
             -121.48928671299996,
             35.97766606300007
            ],
            [
             -121.48931375899997,
             35.977719867000076
            ],
            [
             -121.48987920099995,
             35.978569271000026
            ],
            [
             -121.49048128099997,
             35.979449412000065
            ],
            [
             -121.49051081599998,
             35.979487250000034
            ],
            [
             -121.49053691299997,
             35.979539757000055
            ],
            [
             -121.49055530499999,
             35.97959996600008
            ],
            [
             -121.49056796099995,
             35.979665913000076
            ],
            [
             -121.49057639499995,
             35.979736081000055
            ],
            [
             -121.49058176399996,
             35.97980931600006
            ],
            [
             -121.49058493599995,
             35.97988474600004
            ],
            [
             -121.49058655799996,
             35.979961727000045
            ],
            [
             -121.49058692199998,
             35.98011857000006
            ],
            [
             -121.49058457099994,
             35.98034678600004
            ]
           ],
           "type": "LineString"
          },
          "id": "12",
          "properties": {
           "CHLOROPHYLL": 0.745658,
           "CSU_Descriptor": "steeply sloping, straight, medium erodibility, warm temperate dry, low river discharge, moderately high wave energy, moderately tidal, euhaline-oxic-moderate to cool, clear, low chlorophyll",
           "CSU_ID": 62193,
           "Cluster": 6,
           "EMU_PHYSICAL": "Euhaline-Oxic-Moderate to Cool",
           "ERODIBILITY": "Medium",
           "GHM": 0.07846,
           "LENGTH_GEO": 806.9387475584981,
           "MAX_SLOPE": 145.37477,
           "MEAN_SIG_WAVEHEIGHT": 2.048518,
           "MasterKey": 2753668,
           "OBJECTID": 2753668,
           "OUTFLOW_DENSITY": 8671.790039,
           "OUTFLOW_DENSITY_RESCALED": 1.0484883786709782e-05,
           "REGIONAL_SINUOSITY": 1.140924,
           "RandomSort": 2889544.3674485,
           "Shape_Length": 0.007431263967270191,
           "TEMP_MOISTURE": "Warm Temperate Dry",
           "TIDAL_RANGE": 2.410373,
           "TURBIDITY": 0.024533,
           "chl_label": "low chlorophyll",
           "river_label": "low river discharge",
           "sinuosity_label": "straight",
           "slope_label": "steeply sloping",
           "style": {
            "color": "yellow",
            "dashArray": "5",
            "fillOpacity": 0.5,
            "fill_color": "yellow",
            "opacity": 1,
            "weight": 4
           },
           "tidal_label": "moderately tidal",
           "turbid_label": "clear",
           "wave_label": "moderately high wave energy"
          },
          "type": "Feature"
         },
         {
          "geometry": {
           "coordinates": [
            [
             -121.49058457099994,
             35.98034678600004
            ],
            [
             -121.49058119499995,
             35.98067451500003
            ],
            [
             -121.49058313999996,
             35.980829775000075
            ],
            [
             -121.49058616399998,
             35.980905353000026
            ],
            [
             -121.49059135699997,
             35.98097876200006
            ],
            [
             -121.49059958999999,
             35.98104912900004
            ],
            [
             -121.49061202599995,
             35.981115299000066
            ],
            [
             -121.49063018499999,
             35.98117574100007
            ],
            [
             -121.49065604599997,
             35.98122848300005
            ],
            [
             -121.49068539599995,
             35.981266506000054
            ],
            [
             -121.49090918299999,
             35.98151433400005
            ],
            [
             -121.49094524499998,
             35.981545648000065
            ],
            [
             -121.49136330399995,
             35.981936070000074
            ],
            [
             -121.49187623299997,
             35.98243374800006
            ],
            [
             -121.49190805499995,
             35.98246929800007
            ],
            [
             -121.49209888299998,
             35.98268271200004
            ],
            [
             -121.49212796799998,
             35.98272100200006
            ],
            [
             -121.49215365999999,
             35.98277457200004
            ],
            [
             -121.49217150499999,
             35.98283599200005
            ],
            [
             -121.49217669395239,
             35.982865
            ]
           ],
           "type": "LineString"
          },
          "id": "13",
          "properties": {
           "CHLOROPHYLL": 0.745658,
           "CSU_Descriptor": "steeply sloping, straight, medium erodibility, warm temperate dry, low river discharge, moderately high wave energy, moderately tidal, euhaline-oxic-moderate to cool, clear, low chlorophyll",
           "CSU_ID": 62193,
           "Cluster": 6,
           "EMU_PHYSICAL": "Euhaline-Oxic-Moderate to Cool",
           "ERODIBILITY": "Medium",
           "GHM": 0.087836,
           "LENGTH_GEO": 807.4531709005562,
           "MAX_SLOPE": 85.808085,
           "MEAN_SIG_WAVEHEIGHT": 2.048518,
           "MasterKey": 2753667,
           "OBJECTID": 2753667,
           "OUTFLOW_DENSITY": 8671.790039,
           "OUTFLOW_DENSITY_RESCALED": 1.0484883786709782e-05,
           "REGIONAL_SINUOSITY": 1.140924,
           "RandomSort": 2294754.8667599,
           "Shape_Length": 0.007722909838959558,
           "TEMP_MOISTURE": "Warm Temperate Dry",
           "TIDAL_RANGE": 2.410373,
           "TURBIDITY": 0.024533,
           "chl_label": "low chlorophyll",
           "river_label": "low river discharge",
           "sinuosity_label": "straight",
           "slope_label": "steeply sloping",
           "style": {
            "color": "yellow",
            "dashArray": "5",
            "fillOpacity": 0.5,
            "fill_color": "yellow",
            "opacity": 1,
            "weight": 4
           },
           "tidal_label": "moderately tidal",
           "turbid_label": "clear",
           "wave_label": "moderately high wave energy"
          },
          "type": "Feature"
         }
        ],
        "type": "FeatureCollection"
       },
       "hover_style": {
        "color": "white",
        "dashArray": "4",
        "fillOpacity": 0.7
       },
       "name": "us_county349_ref_shoreline_province1257_ref_shoreline_W_USA_California_ref_shoreline",
       "style": {
        "color": "yellow",
        "dashArray": "5",
        "fillOpacity": 0.5,
        "fill_color": "yellow",
        "opacity": 1,
        "weight": 4
       }
      }
     },
     "3b953d5eb75d49588331e4e5ea829111": {
      "model_module": "@jupyter-widgets/controls",
      "model_module_version": "1.5.0",
      "model_name": "VBoxModel",
      "state": {
       "children": [
        "IPY_MODEL_0a2039fa666242aba6f406e632948f78",
        "IPY_MODEL_8aa1dcaa81dd4a0abf34bbfaa8773cf7",
        "IPY_MODEL_c291347cb7984fa19ca2018da400bcd0"
       ],
       "layout": "IPY_MODEL_293aa26642184713b2100d4479c8bcab"
      }
     },
     "3d7accf8ef5a4290ba524a2b5d82208c": {
      "model_module": "jupyter-leaflet",
      "model_module_version": "^0.16.0",
      "model_name": "LeafletTileLayerModel",
      "state": {
       "_model_module_version": "^0.16.0",
       "_view_module_version": "^0.16.0",
       "attribution": "Tiles (C) Esri -- Copyright: (C)2012 DeLorme",
       "max_native_zoom": 18,
       "max_zoom": 11,
       "min_native_zoom": 0,
       "name": "Esri.DeLorme",
       "options": [
        "attribution",
        "bounds",
        "detect_retina",
        "max_native_zoom",
        "max_zoom",
        "min_native_zoom",
        "min_zoom",
        "no_wrap",
        "tile_size",
        "tms"
       ],
       "url": "https://server.arcgisonline.com/ArcGIS/rest/services/Specialty/DeLorme_World_Base_Map/MapServer/tile/{z}/{y}/{x}"
      }
     },
     "3eab0fc3394e48f0ad7af7863e17a2be": {
      "model_module": "@jupyter-widgets/controls",
      "model_module_version": "1.5.0",
      "model_name": "HBoxModel",
      "state": {
       "children": [
        "IPY_MODEL_b159a56d906c400dbac5a936dd5fb7ca",
        "IPY_MODEL_057cc4aeeab64532bc40cf50436c105e"
       ],
       "layout": "IPY_MODEL_ba477ccf2c9a405b9a3d22bd5c3e7ce3"
      }
     },
     "402659d9d53642bfb46de8c5b92e5714": {
      "model_module": "jupyter-leaflet",
      "model_module_version": "^0.16.0",
      "model_name": "LeafletTileLayerModel",
      "state": {
       "_model_module_version": "^0.16.0",
       "_view_module_version": "^0.16.0",
       "attribution": "(C) OpenStreetMap contributors (C) CARTO",
       "max_native_zoom": 18,
       "max_zoom": 20,
       "min_native_zoom": 0,
       "name": "CartoDB.PositronOnlyLabels",
       "options": [
        "attribution",
        "bounds",
        "detect_retina",
        "max_native_zoom",
        "max_zoom",
        "min_native_zoom",
        "min_zoom",
        "no_wrap",
        "tile_size",
        "tms"
       ],
       "url": "https://a.basemaps.cartocdn.com/light_only_labels/{z}/{x}/{y}.png"
      }
     },
     "40961e3144f84c83bfff40a904d01479": {
      "model_module": "jupyter-leaflet",
      "model_module_version": "^0.16.0",
      "model_name": "LeafletWMSLayerModel",
      "state": {
       "_model_module_version": "^0.16.0",
       "_view_module_version": "^0.16.0",
       "attribution": "USGS",
       "crs": {
        "custom": false,
        "name": "EPSG3857"
       },
       "format": "image/png",
       "layers": "0",
       "max_native_zoom": 18,
       "min_native_zoom": 0,
       "name": "USGS Hydrography",
       "options": [
        "attribution",
        "bounds",
        "detect_retina",
        "format",
        "layers",
        "max_native_zoom",
        "max_zoom",
        "min_native_zoom",
        "min_zoom",
        "no_wrap",
        "styles",
        "tile_size",
        "tms",
        "transparent",
        "uppercase"
       ],
       "transparent": true,
       "url": "https://basemap.nationalmap.gov/arcgis/services/USGSHydroCached/MapServer/WMSServer?"
      }
     },
     "42597c60173149e48afaa0641600ce6d": {
      "model_module": "jupyter-leaflet",
      "model_module_version": "^0.16.0",
      "model_name": "LeafletMapStyleModel",
      "state": {
       "_model_module_version": "^0.16.0",
       "cursor": "move"
      }
     },
     "4345bc81b2684af99b9d0367848733cf": {
      "model_module": "@jupyter-widgets/base",
      "model_module_version": "1.2.0",
      "model_name": "LayoutModel",
      "state": {}
     },
     "43e41d61414245229ffb5de0c2482732": {
      "model_module": "@jupyter-widgets/controls",
      "model_module_version": "1.5.0",
      "model_name": "HBoxModel",
      "state": {
       "children": [
        "IPY_MODEL_e12121909c6e4f6d8c141f2012a6f00b",
        "IPY_MODEL_ed6077aee40b4083ade588f44925837a",
        "IPY_MODEL_6a0e38eb91bd4a3aa0aff629f9e8ba29",
        "IPY_MODEL_b42fcbd490684ce788dff49602c44ac5",
        "IPY_MODEL_9a107f048335436f9274b58db225d4e9",
        "IPY_MODEL_a257fb4265494353a048a62e9d65d453"
       ],
       "layout": "IPY_MODEL_1809dce1f5524bb0a6e100e62a08827b"
      }
     },
     "43f2028b6c814dfbb7d681085e9501a4": {
      "model_module": "@jupyter-widgets/controls",
      "model_module_version": "1.5.0",
      "model_name": "DescriptionStyleModel",
      "state": {
       "description_width": ""
      }
     },
     "4418a01ca79a4fdd9c0608c1888e3aac": {
      "model_module": "@jupyter-widgets/controls",
      "model_module_version": "1.5.0",
      "model_name": "ButtonStyleModel",
      "state": {}
     },
     "443ceaeeee4a4ba6bb5c15a816998799": {
      "model_module": "@jupyter-widgets/controls",
      "model_module_version": "1.5.0",
      "model_name": "ButtonStyleModel",
      "state": {}
     },
     "452a011c1eaa4b4ba0249f0f01d24adc": {
      "model_module": "jupyter-leaflet",
      "model_module_version": "^0.16.0",
      "model_name": "LeafletTileLayerModel",
      "state": {
       "_model_module_version": "^0.16.0",
       "_view_module_version": "^0.16.0",
       "attribution": "Map tiles by <a href=\"https://labs.strava.com/heatmap\">Strava 2021</a>",
       "max_native_zoom": 18,
       "max_zoom": 15,
       "min_native_zoom": 0,
       "name": "Strava.Winter",
       "options": [
        "attribution",
        "bounds",
        "detect_retina",
        "max_native_zoom",
        "max_zoom",
        "min_native_zoom",
        "min_zoom",
        "no_wrap",
        "tile_size",
        "tms"
       ],
       "url": "https://heatmap-external-a.strava.com/tiles/winter/hot/{z}/{x}/{y}.png"
      }
     },
     "4532dd069f464675a4eec332637d7367": {
      "model_module": "jupyter-leaflet",
      "model_module_version": "^0.16.0",
      "model_name": "LeafletTileLayerModel",
      "state": {
       "_model_module_version": "^0.16.0",
       "_view_module_version": "^0.16.0",
       "attribution": "(C) Stadia Maps, (C) OpenMapTiles (C) OpenStreetMap contributors",
       "max_native_zoom": 18,
       "max_zoom": 20,
       "min_native_zoom": 0,
       "name": "Stadia.OSMBright",
       "options": [
        "attribution",
        "bounds",
        "detect_retina",
        "max_native_zoom",
        "max_zoom",
        "min_native_zoom",
        "min_zoom",
        "no_wrap",
        "tile_size",
        "tms"
       ],
       "url": "https://tiles.stadiamaps.com/tiles/osm_bright/{z}/{x}/{y}.png"
      }
     },
     "4708b7dcddd64dac9bd9a493ed325bff": {
      "model_module": "jupyter-leaflet",
      "model_module_version": "^0.16.0",
      "model_name": "LeafletWMSLayerModel",
      "state": {
       "_model_module_version": "^0.16.0",
       "_view_module_version": "^0.16.0",
       "attribution": "MRLC",
       "crs": {
        "custom": false,
        "name": "EPSG3857"
       },
       "format": "image/png",
       "layers": "NLCD_2004_Land_Cover_L48",
       "max_native_zoom": 18,
       "min_native_zoom": 0,
       "name": "NLCD 2004 CONUS Land Cover",
       "options": [
        "attribution",
        "bounds",
        "detect_retina",
        "format",
        "layers",
        "max_native_zoom",
        "max_zoom",
        "min_native_zoom",
        "min_zoom",
        "no_wrap",
        "styles",
        "tile_size",
        "tms",
        "transparent",
        "uppercase"
       ],
       "transparent": true,
       "url": "https://www.mrlc.gov/geoserver/mrlc_display/NLCD_2004_Land_Cover_L48/wms?"
      }
     },
     "483050f6e039490d8e6436a012c6d71d": {
      "model_module": "jupyter-leaflet",
      "model_module_version": "^0.16.0",
      "model_name": "LeafletTileLayerModel",
      "state": {
       "_model_module_version": "^0.16.0",
       "_view_module_version": "^0.16.0",
       "attribution": "(C) OpenStreetMap contributors & USGS",
       "max_native_zoom": 18,
       "max_zoom": 22,
       "min_native_zoom": 0,
       "name": "MtbMap",
       "options": [
        "attribution",
        "bounds",
        "detect_retina",
        "max_native_zoom",
        "max_zoom",
        "min_native_zoom",
        "min_zoom",
        "no_wrap",
        "tile_size",
        "tms"
       ],
       "url": "http://tile.mtbmap.cz/mtbmap_tiles/{z}/{x}/{y}.png"
      }
     },
     "4913b37778d949648930d9682f8f0464": {
      "model_module": "@jupyter-widgets/base",
      "model_module_version": "1.2.0",
      "model_name": "LayoutModel",
      "state": {}
     },
     "49290e619fab4b658d0a500053142aa6": {
      "model_module": "@jupyter-widgets/controls",
      "model_module_version": "1.5.0",
      "model_name": "DescriptionStyleModel",
      "state": {
       "description_width": ""
      }
     },
     "49c8fc4295164dc89768d90626c2fa22": {
      "model_module": "@jupyter-widgets/controls",
      "model_module_version": "1.5.0",
      "model_name": "VBoxModel",
      "state": {
       "_view_count": 1,
       "children": [
        "IPY_MODEL_56589ad48a014000902dc6771ea2ba45"
       ],
       "layout": "IPY_MODEL_4b7fae9e850d43719c580b45e03522bb"
      }
     },
     "4a8d1f587a8b4ac2ac7ceae9e33f53f2": {
      "model_module": "@jupyter-widgets/controls",
      "model_module_version": "1.5.0",
      "model_name": "GridBoxModel",
      "state": {
       "children": [
        "IPY_MODEL_103cca1962254a1395b396a654c3303d",
        "IPY_MODEL_72786117de594eab80b470ae216bab47",
        "IPY_MODEL_98d80424a385488395f8058672ae99a1",
        "IPY_MODEL_cde6db87f8074307af59956ef6796b69",
        "IPY_MODEL_8b1d0ed0826749498b2aeca8599f055e",
        "IPY_MODEL_fc2e4ba69f0b4ca6994be80672445a0f",
        "IPY_MODEL_0244a74acef340b49ec546a6019121a0",
        "IPY_MODEL_807efcb94d5e42c7b4bf396228902a1b",
        "IPY_MODEL_73a8d689239d4337a5b4bb2cac3c17bf",
        "IPY_MODEL_1b0b814586c146079a5670fc77fd239a",
        "IPY_MODEL_c9b22133c67240de9d81791ee7004e71",
        "IPY_MODEL_f6e654aa8b8b40648c5e78c2fcbed4a1",
        "IPY_MODEL_8fbf2799dc2549729ba7c11be9218e4b",
        "IPY_MODEL_ddd495ff6a5a4795adea90b46dbdb6b7",
        "IPY_MODEL_310b318a0322449ba525a215fa3d81be",
        "IPY_MODEL_763c1d0e9bb94e93b978a28fe2ad7dec",
        "IPY_MODEL_8a2492d8676f4412ad61642ec1ca6ef3",
        "IPY_MODEL_e036cb6bb71642fc9fa3955214944c4d"
       ],
       "layout": "IPY_MODEL_f7fd69a1d8904d3a9f630fd892014e88"
      }
     },
     "4b7fae9e850d43719c580b45e03522bb": {
      "model_module": "@jupyter-widgets/base",
      "model_module_version": "1.2.0",
      "model_name": "LayoutModel",
      "state": {}
     },
     "4cd960d2fdb34c5b895225af708a2bb3": {
      "model_module": "jupyter-leaflet",
      "model_module_version": "^0.16.0",
      "model_name": "LeafletDrawControlModel",
      "state": {
       "_model_module_version": "^0.16.0",
       "_view_module_version": "^0.16.0",
       "data": [
        {
         "geometry": {
          "coordinates": [
           [
            [
             -121.499183,
             35.948766
            ],
            [
             -121.499183,
             35.982865
            ],
            [
             -121.475193,
             35.982865
            ],
            [
             -121.475193,
             35.948766
            ],
            [
             -121.499183,
             35.948766
            ]
           ]
          ],
          "type": "Polygon"
         },
         "properties": {
          "style": {
           "Opacity": 0.1,
           "clickable": true,
           "color": "green",
           "fill": true,
           "fillColor": "green",
           "fillOpacity": 0.1,
           "opacity": 0.5,
           "stroke": true,
           "weight": 4
          }
         },
         "type": "Feature"
        }
       ],
       "options": [
        "position"
       ],
       "polygon": {},
       "polyline": {},
       "rectangle": {
        "allowIntersection": false,
        "drawError": {
         "color": "#dd253b",
         "message": "Ops!"
        },
        "shapeOptions": {
         "Opacity": 0.1,
         "color": "green",
         "fillColor": "green",
         "fillOpacity": 0.1
        },
        "transform": true
       }
      }
     },
     "4de48f8e9fea4497ad07a538b7ffbbdc": {
      "model_module": "jupyter-leaflet",
      "model_module_version": "^0.16.0",
      "model_name": "LeafletTileLayerModel",
      "state": {
       "_model_module_version": "^0.16.0",
       "_view_module_version": "^0.16.0",
       "attribution": "Map memomaps.de CC-BY-SA, map data (C) OpenStreetMap contributors",
       "max_native_zoom": 18,
       "min_native_zoom": 0,
       "name": "OPNVKarte",
       "options": [
        "attribution",
        "bounds",
        "detect_retina",
        "max_native_zoom",
        "max_zoom",
        "min_native_zoom",
        "min_zoom",
        "no_wrap",
        "tile_size",
        "tms"
       ],
       "url": "https://tileserver.memomaps.de/tilegen/{z}/{x}/{y}.png"
      }
     },
     "502a31ecbab542bfb3d88c6061ff8520": {
      "model_module": "@jupyter-widgets/controls",
      "model_module_version": "1.5.0",
      "model_name": "HBoxModel",
      "state": {
       "children": [
        "IPY_MODEL_ed8c561525a74d00b15c04c242a0f48d",
        "IPY_MODEL_509e9ed7724d4772ac6531ea2518d6d6",
        "IPY_MODEL_6256a5ff267c492cb4fde4b5ebb76783",
        "IPY_MODEL_00bd2362834b4c039e36e07b7ea4a48f",
        "IPY_MODEL_1eb997504dea48109d156edcc50a5dfc"
       ],
       "layout": "IPY_MODEL_b841605f988146ed88dfa2a91a24f506"
      }
     },
     "509e9ed7724d4772ac6531ea2518d6d6": {
      "model_module": "@jupyter-widgets/controls",
      "model_module_version": "1.5.0",
      "model_name": "ButtonModel",
      "state": {
       "description": "Load Shoreline",
       "layout": "IPY_MODEL_04b0824a8e1743b28790517a5de522e7",
       "style": "IPY_MODEL_1b4c89ff0c2544a5848a69c807f95e91"
      }
     },
     "5170d905f0b24774ab6e4e92655290cc": {
      "model_module": "@jupyter-widgets/controls",
      "model_module_version": "1.5.0",
      "model_name": "DescriptionStyleModel",
      "state": {
       "description_width": ""
      }
     },
     "51f713a323d44ec3a2f25f82113ce215": {
      "model_module": "jupyter-leaflet",
      "model_module_version": "^0.16.0",
      "model_name": "LeafletWMSLayerModel",
      "state": {
       "_model_module_version": "^0.16.0",
       "_view_module_version": "^0.16.0",
       "attribution": "ESA",
       "crs": {
        "custom": false,
        "name": "EPSG3857"
       },
       "format": "image/png",
       "layers": "WORLDCOVER_2020_S2_TCC",
       "max_native_zoom": 18,
       "min_native_zoom": 0,
       "name": "ESA Worldcover 2020 S2 TCC",
       "options": [
        "attribution",
        "bounds",
        "detect_retina",
        "format",
        "layers",
        "max_native_zoom",
        "max_zoom",
        "min_native_zoom",
        "min_zoom",
        "no_wrap",
        "styles",
        "tile_size",
        "tms",
        "transparent",
        "uppercase"
       ],
       "transparent": true,
       "url": "https://services.terrascope.be/wms/v2"
      }
     },
     "54358d4fb1f24a7b94bb0e4848a58a89": {
      "model_module": "jupyter-leaflet",
      "model_module_version": "^0.16.0",
      "model_name": "LeafletTileLayerModel",
      "state": {
       "_model_module_version": "^0.16.0",
       "_view_module_version": "^0.16.0",
       "attribution": "(C) OpenStreetMap contributors",
       "max_native_zoom": 18,
       "min_native_zoom": 0,
       "name": "OpenStreetMap.CH",
       "options": [
        "attribution",
        "bounds",
        "detect_retina",
        "max_native_zoom",
        "max_zoom",
        "min_native_zoom",
        "min_zoom",
        "no_wrap",
        "tile_size",
        "tms"
       ],
       "url": "https://tile.osm.ch/switzerland/{z}/{x}/{y}.png"
      }
     },
     "55f3f95f418e4eb2898eab64de526bf9": {
      "model_module": "jupyter-leaflet",
      "model_module_version": "^0.16.0",
      "model_name": "LeafletTileLayerModel",
      "state": {
       "_model_module_version": "^0.16.0",
       "_view_module_version": "^0.16.0",
       "attribution": "Imagery provided by NOAA National Centers for Environmental Information (NCEI); International Bathymetric Chart of the Southern Ocean (IBCSO); General Bathymetric Chart of the Oceans (GEBCO).",
       "max_native_zoom": 18,
       "max_zoom": 9,
       "min_native_zoom": 0,
       "name": "Esri.AntarcticBasemap",
       "options": [
        "attribution",
        "bounds",
        "detect_retina",
        "max_native_zoom",
        "max_zoom",
        "min_native_zoom",
        "min_zoom",
        "no_wrap",
        "tile_size",
        "tms"
       ],
       "url": "https://tiles.arcgis.com/tiles/C8EMgrsFcRFL6LrL/arcgis/rest/services/Antarctic_Basemap/MapServer/tile/{z}/{y}/{x}"
      }
     },
     "56589ad48a014000902dc6771ea2ba45": {
      "model_module": "@jupyter-widgets/controls",
      "model_module_version": "1.5.0",
      "model_name": "ToggleButtonModel",
      "state": {
       "icon": "wrench",
       "layout": "IPY_MODEL_684f1489a4a843bb80130b012dd70d67",
       "style": "IPY_MODEL_80a0ae898d0643d8890287a015070c7a",
       "tooltip": "Toolbar"
      }
     },
     "56bd55ecf95b4683ada14e3da3370d5b": {
      "model_module": "jupyter-leaflet",
      "model_module_version": "^0.16.0",
      "model_name": "LeafletTileLayerModel",
      "state": {
       "_model_module_version": "^0.16.0",
       "_view_module_version": "^0.16.0",
       "attribution": "![](https://docs.onemap.sg/maps/images/oneMap64-01.png) New OneMap | Map data (C) contributors, Singapore Land Authority",
       "max_native_zoom": 18,
       "min_native_zoom": 0,
       "name": "OneMapSG.Night",
       "options": [
        "attribution",
        "bounds",
        "detect_retina",
        "max_native_zoom",
        "max_zoom",
        "min_native_zoom",
        "min_zoom",
        "no_wrap",
        "tile_size",
        "tms"
       ],
       "url": "https://maps-a.onemap.sg/v3/Night/{z}/{x}/{y}.png"
      }
     },
     "5c671e0381a045f1ac174bf7a7f283d4": {
      "model_module": "jupyter-leaflet",
      "model_module_version": "^0.16.0",
      "model_name": "LeafletTileLayerModel",
      "state": {
       "_model_module_version": "^0.16.0",
       "_view_module_version": "^0.16.0",
       "attribution": "Google",
       "max_native_zoom": 18,
       "max_zoom": 22,
       "min_native_zoom": 0,
       "name": "Google Satellite",
       "options": [
        "attribution",
        "bounds",
        "detect_retina",
        "max_native_zoom",
        "max_zoom",
        "min_native_zoom",
        "min_zoom",
        "no_wrap",
        "tile_size",
        "tms"
       ],
       "url": "https://mt1.google.com/vt/lyrs=s&x={x}&y={y}&z={z}"
      }
     },
     "5d148d729a4c4a1d85d55e533e741031": {
      "model_module": "jupyter-leaflet",
      "model_module_version": "^0.16.0",
      "model_name": "LeafletTileLayerModel",
      "state": {
       "_model_module_version": "^0.16.0",
       "_view_module_version": "^0.16.0",
       "attribution": "Tiles (C) Esri -- Source: Esri, i-cubed, USDA, USGS, AEX, GeoEye, Getmapping, Aerogrid, IGN, IGP, UPR-EGP, and the GIS User Community",
       "max_native_zoom": 18,
       "max_zoom": 22,
       "min_native_zoom": 0,
       "name": "Esri.WorldImagery",
       "options": [
        "attribution",
        "bounds",
        "detect_retina",
        "max_native_zoom",
        "max_zoom",
        "min_native_zoom",
        "min_zoom",
        "no_wrap",
        "tile_size",
        "tms"
       ],
       "url": "https://server.arcgisonline.com/ArcGIS/rest/services/World_Imagery/MapServer/tile/{z}/{y}/{x}"
      }
     },
     "5d56f9d9ccc0457792274eb3d631b23d": {
      "model_module": "@jupyter-widgets/base",
      "model_module_version": "1.2.0",
      "model_name": "LayoutModel",
      "state": {}
     },
     "5f7164acc8fe455d9d9515f725b6a385": {
      "model_module": "jupyter-leaflet",
      "model_module_version": "^0.16.0",
      "model_name": "LeafletTileLayerModel",
      "state": {
       "_model_module_version": "^0.16.0",
       "_view_module_version": "^0.16.0",
       "attribution": "Geoportail France",
       "max_native_zoom": 18,
       "min_native_zoom": 0,
       "name": "GeoportailFrance.plan",
       "options": [
        "attribution",
        "bounds",
        "detect_retina",
        "max_native_zoom",
        "max_zoom",
        "min_native_zoom",
        "min_zoom",
        "no_wrap",
        "tile_size",
        "tms"
       ],
       "url": "https://wxs.ign.fr/choisirgeoportail/geoportail/wmts?REQUEST=GetTile&SERVICE=WMTS&VERSION=1.0.0&STYLE=normal&TILEMATRIXSET=PM&FORMAT=image/png&LAYER=GEOGRAPHICALGRIDSYSTEMS.PLANIGNV2&TILEMATRIX={z}&TILEROW={y}&TILECOL={x}"
      }
     },
     "5f7a0d796803464c9db296f4cf818b33": {
      "model_module": "jupyter-leaflet",
      "model_module_version": "^0.16.0",
      "model_name": "LeafletTileLayerModel",
      "state": {
       "_model_module_version": "^0.16.0",
       "_view_module_version": "^0.16.0",
       "attribution": "Datenquelle: basemap.at",
       "max_native_zoom": 18,
       "max_zoom": 19,
       "min_native_zoom": 0,
       "name": "BasemapAT.terrain",
       "options": [
        "attribution",
        "bounds",
        "detect_retina",
        "max_native_zoom",
        "max_zoom",
        "min_native_zoom",
        "min_zoom",
        "no_wrap",
        "tile_size",
        "tms"
       ],
       "url": "https://maps.wien.gv.at/basemap/bmapgelaende/grau/google3857/{z}/{y}/{x}.jpeg"
      }
     },
     "5f81039e7a3d494080555f402288c613": {
      "model_module": "jupyter-leaflet",
      "model_module_version": "^0.16.0",
      "model_name": "LeafletTileLayerModel",
      "state": {
       "_model_module_version": "^0.16.0",
       "_view_module_version": "^0.16.0",
       "attribution": "Map tiles by Stamen Design, CC BY 3.0 -- Map data (C) OpenStreetMap contributors",
       "max_native_zoom": 18,
       "max_zoom": 16,
       "min_native_zoom": 0,
       "name": "Stamen.Watercolor",
       "options": [
        "attribution",
        "bounds",
        "detect_retina",
        "max_native_zoom",
        "max_zoom",
        "min_native_zoom",
        "min_zoom",
        "no_wrap",
        "tile_size",
        "tms"
       ],
       "url": "https://stamen-tiles-a.a.ssl.fastly.net/watercolor/{z}/{x}/{y}.jpg"
      }
     },
     "5fcfeaebe39a4065b6c56e47cf314df0": {
      "model_module": "@jupyter-widgets/controls",
      "model_module_version": "1.5.0",
      "model_name": "DescriptionStyleModel",
      "state": {
       "description_width": ""
      }
     },
     "6102aab169504a15b43067930a4f6e84": {
      "model_module": "jupyter-leaflet",
      "model_module_version": "^0.16.0",
      "model_name": "LeafletTileLayerModel",
      "state": {
       "_model_module_version": "^0.16.0",
       "_view_module_version": "^0.16.0",
       "attribution": "Imagery provided by services from the Global Imagery Browse Services (GIBS), operated by the NASA/GSFC/Earth Science Data and Information System (ESDIS) with funding provided by NASA/HQ.",
       "max_native_zoom": 18,
       "max_zoom": 9,
       "min_native_zoom": 0,
       "name": "NASAGIBS.ModisAquaTrueColorCR",
       "options": [
        "attribution",
        "bounds",
        "detect_retina",
        "max_native_zoom",
        "max_zoom",
        "min_native_zoom",
        "min_zoom",
        "no_wrap",
        "tile_size",
        "tms"
       ],
       "url": "https://gibs.earthdata.nasa.gov/wmts/epsg3857/best/MODIS_Aqua_CorrectedReflectance_TrueColor/default//GoogleMapsCompatible_Level9/{z}/{y}/{x}.jpg"
      }
     },
     "61e41bb6db1c49e3a0029b2f825f1359": {
      "model_module": "jupyter-leaflet",
      "model_module_version": "^0.16.0",
      "model_name": "LeafletTileLayerModel",
      "state": {
       "_model_module_version": "^0.16.0",
       "_view_module_version": "^0.16.0",
       "attribution": "Map data: (C) OpenStreetMap contributors | Map style: (C) OpenRailwayMap (CC-BY-SA)",
       "max_native_zoom": 18,
       "max_zoom": 19,
       "min_native_zoom": 0,
       "name": "OpenRailwayMap",
       "options": [
        "attribution",
        "bounds",
        "detect_retina",
        "max_native_zoom",
        "max_zoom",
        "min_native_zoom",
        "min_zoom",
        "no_wrap",
        "tile_size",
        "tms"
       ],
       "url": "https://a.tiles.openrailwaymap.org/standard/{z}/{x}/{y}.png"
      }
     },
     "6256a5ff267c492cb4fde4b5ebb76783": {
      "model_module": "@jupyter-widgets/controls",
      "model_module_version": "1.5.0",
      "model_name": "ButtonModel",
      "state": {
       "description": "Generate ROI",
       "layout": "IPY_MODEL_e39857edfc53472b902af01d5ef08ef3",
       "style": "IPY_MODEL_1eaa5dd554544992947ae93c8cd712f1"
      }
     },
     "62d99b52a94745faa2f604bfbda1780d": {
      "model_module": "jupyter-leaflet",
      "model_module_version": "^0.16.0",
      "model_name": "LeafletWMSLayerModel",
      "state": {
       "_model_module_version": "^0.16.0",
       "_view_module_version": "^0.16.0",
       "attribution": "ESA",
       "crs": {
        "custom": false,
        "name": "EPSG3857"
       },
       "format": "image/png",
       "layers": "WORLDCOVER_2020_MAP",
       "max_native_zoom": 18,
       "min_native_zoom": 0,
       "name": "ESA Worldcover 2020",
       "options": [
        "attribution",
        "bounds",
        "detect_retina",
        "format",
        "layers",
        "max_native_zoom",
        "max_zoom",
        "min_native_zoom",
        "min_zoom",
        "no_wrap",
        "styles",
        "tile_size",
        "tms",
        "transparent",
        "uppercase"
       ],
       "transparent": true,
       "url": "https://services.terrascope.be/wms/v2"
      }
     },
     "635bb496d4ea4ca6a8791fcdd7b4c27f": {
      "model_module": "@jupyter-widgets/base",
      "model_module_version": "1.2.0",
      "model_name": "LayoutModel",
      "state": {
       "height": "auto",
       "padding": "0px 0px 0px 4px",
       "width": "auto"
      }
     },
     "63c6074fba23448491096132b392f311": {
      "model_module": "jupyter-leaflet",
      "model_module_version": "^0.16.0",
      "model_name": "LeafletWMSLayerModel",
      "state": {
       "_model_module_version": "^0.16.0",
       "_view_module_version": "^0.16.0",
       "attribution": "MRLC",
       "crs": {
        "custom": false,
        "name": "EPSG3857"
       },
       "format": "image/png",
       "layers": "NLCD_2001_Land_Cover_L48",
       "max_native_zoom": 18,
       "min_native_zoom": 0,
       "name": "NLCD 2001 CONUS Land Cover",
       "options": [
        "attribution",
        "bounds",
        "detect_retina",
        "format",
        "layers",
        "max_native_zoom",
        "max_zoom",
        "min_native_zoom",
        "min_zoom",
        "no_wrap",
        "styles",
        "tile_size",
        "tms",
        "transparent",
        "uppercase"
       ],
       "transparent": true,
       "url": "https://www.mrlc.gov/geoserver/mrlc_display/NLCD_2001_Land_Cover_L48/wms?"
      }
     },
     "654a6b72cf6e40b8a1729b562016d170": {
      "model_module": "jupyter-leaflet",
      "model_module_version": "^0.16.0",
      "model_name": "LeafletTileLayerModel",
      "state": {
       "_model_module_version": "^0.16.0",
       "_view_module_version": "^0.16.0",
       "attribution": "(C) OpenStreetMap France | (C) OpenStreetMap contributors",
       "max_native_zoom": 18,
       "max_zoom": 20,
       "min_native_zoom": 0,
       "name": "OpenStreetMap.France",
       "options": [
        "attribution",
        "bounds",
        "detect_retina",
        "max_native_zoom",
        "max_zoom",
        "min_native_zoom",
        "min_zoom",
        "no_wrap",
        "tile_size",
        "tms"
       ],
       "url": "https://a.tile.openstreetmap.fr/osmfr/{z}/{x}/{y}.png"
      }
     },
     "657cdab4b1b04461b80ae09d2e7218ee": {
      "model_module": "jupyter-leaflet",
      "model_module_version": "^0.16.0",
      "model_name": "LeafletTileLayerModel",
      "state": {
       "_model_module_version": "^0.16.0",
       "_view_module_version": "^0.16.0",
       "attribution": "Map data: (C) OpenStreetMap contributors | Map style: (C) waymarkedtrails.org (CC-BY-SA)",
       "max_native_zoom": 18,
       "min_native_zoom": 0,
       "name": "WaymarkedTrails.mtb",
       "options": [
        "attribution",
        "bounds",
        "detect_retina",
        "max_native_zoom",
        "max_zoom",
        "min_native_zoom",
        "min_zoom",
        "no_wrap",
        "tile_size",
        "tms"
       ],
       "url": "https://tile.waymarkedtrails.org/mtb/{z}/{x}/{y}.png"
      }
     },
     "66d305a651144c938f7fb88812d957a6": {
      "model_module": "jupyter-leaflet",
      "model_module_version": "^0.16.0",
      "model_name": "LeafletTileLayerModel",
      "state": {
       "_model_module_version": "^0.16.0",
       "_view_module_version": "^0.16.0",
       "attribution": "Datenquelle: basemap.at",
       "max_native_zoom": 18,
       "max_zoom": 19,
       "min_native_zoom": 0,
       "name": "BasemapAT.highdpi",
       "options": [
        "attribution",
        "bounds",
        "detect_retina",
        "max_native_zoom",
        "max_zoom",
        "min_native_zoom",
        "min_zoom",
        "no_wrap",
        "tile_size",
        "tms"
       ],
       "url": "https://maps.wien.gv.at/basemap/bmaphidpi/normal/google3857/{z}/{y}/{x}.jpeg"
      }
     },
     "684f1489a4a843bb80130b012dd70d67": {
      "model_module": "@jupyter-widgets/base",
      "model_module_version": "1.2.0",
      "model_name": "LayoutModel",
      "state": {
       "height": "28px",
       "padding": "0px 0px 0px 4px",
       "width": "28px"
      }
     },
     "689d232b85d04c11a16a7f35a37c8ea3": {
      "model_module": "jupyter-leaflet",
      "model_module_version": "^0.16.0",
      "model_name": "LeafletTileLayerModel",
      "state": {
       "_model_module_version": "^0.16.0",
       "_view_module_version": "^0.16.0",
       "attribution": "Imagery provided by services from the Global Imagery Browse Services (GIBS), operated by the NASA/GSFC/Earth Science Data and Information System (ESDIS) with funding provided by NASA/HQ.",
       "max_native_zoom": 18,
       "max_zoom": 5,
       "min_native_zoom": 0,
       "name": "NASAGIBS.BlueMarble3031",
       "options": [
        "attribution",
        "bounds",
        "detect_retina",
        "max_native_zoom",
        "max_zoom",
        "min_native_zoom",
        "min_zoom",
        "no_wrap",
        "tile_size",
        "tms"
       ],
       "url": "https://gibs.earthdata.nasa.gov/wmts/epsg3031/best/BlueMarble_NextGeneration/default/EPSG3031_500m/{z}/{y}/{x}.jpeg"
      }
     },
     "692b4f4ea50a44e392d53088ad87d974": {
      "model_module": "jupyter-leaflet",
      "model_module_version": "^0.16.0",
      "model_name": "LeafletTileLayerModel",
      "state": {
       "_model_module_version": "^0.16.0",
       "_view_module_version": "^0.16.0",
       "attribution": "Map data: (C) OpenStreetMap contributors | Map style: (C) waymarkedtrails.org (CC-BY-SA)",
       "max_native_zoom": 18,
       "min_native_zoom": 0,
       "name": "WaymarkedTrails.riding",
       "options": [
        "attribution",
        "bounds",
        "detect_retina",
        "max_native_zoom",
        "max_zoom",
        "min_native_zoom",
        "min_zoom",
        "no_wrap",
        "tile_size",
        "tms"
       ],
       "url": "https://tile.waymarkedtrails.org/riding/{z}/{x}/{y}.png"
      }
     },
     "69ce4bfc1e6d4452b0a6bf56be11f68d": {
      "model_module": "@jupyter-widgets/controls",
      "model_module_version": "1.5.0",
      "model_name": "DescriptionStyleModel",
      "state": {
       "description_width": ""
      }
     },
     "6a0e38eb91bd4a3aa0aff629f9e8ba29": {
      "model_module": "@jupyter-widgets/controls",
      "model_module_version": "1.5.0",
      "model_name": "ButtonModel",
      "state": {
       "description": "Remove bbox",
       "layout": "IPY_MODEL_7d00406b7e3746dcbc0b707200ef2686",
       "style": "IPY_MODEL_2f52678bb6fa4d4e99ef5ebe61a295ba"
      }
     },
     "6aad7091d0a24a6bbcdd805f1ad746a6": {
      "model_module": "jupyter-leaflet",
      "model_module_version": "^0.16.0",
      "model_name": "LeafletTileLayerModel",
      "state": {
       "_model_module_version": "^0.16.0",
       "_view_module_version": "^0.16.0",
       "attribution": "OpenStreetMap",
       "max_native_zoom": 18,
       "max_zoom": 22,
       "min_native_zoom": 0,
       "name": "OpenStreetMap",
       "options": [
        "attribution",
        "bounds",
        "detect_retina",
        "max_native_zoom",
        "max_zoom",
        "min_native_zoom",
        "min_zoom",
        "no_wrap",
        "tile_size",
        "tms"
       ]
      }
     },
     "6abf75387bcf4e689612133d21a0855b": {
      "model_module": "@jupyter-widgets/controls",
      "model_module_version": "1.5.0",
      "model_name": "ButtonStyleModel",
      "state": {}
     },
     "6b929e037b6742828bb0e685754abd8f": {
      "model_module": "@jupyter-widgets/controls",
      "model_module_version": "1.5.0",
      "model_name": "DescriptionStyleModel",
      "state": {
       "description_width": ""
      }
     },
     "6bd781fdae844322b72a220b73ab91da": {
      "model_module": "@jupyter-widgets/base",
      "model_module_version": "1.2.0",
      "model_name": "LayoutModel",
      "state": {}
     },
     "6be02ee243d147a79e98798610068399": {
      "model_module": "@jupyter-widgets/controls",
      "model_module_version": "1.5.0",
      "model_name": "ButtonStyleModel",
      "state": {}
     },
     "6fad0b5102c94ba9b0d13092939d3f98": {
      "model_module": "@jupyter-widgets/base",
      "model_module_version": "1.2.0",
      "model_name": "LayoutModel",
      "state": {
       "height": "auto",
       "padding": "0px 0px 0px 4px",
       "width": "auto"
      }
     },
     "704e2552092c4d48a00dcfed7148ad94": {
      "model_module": "@jupyter-widgets/controls",
      "model_module_version": "1.5.0",
      "model_name": "DescriptionStyleModel",
      "state": {
       "description_width": ""
      }
     },
     "70cd846b50d4492ba1c18caef583cdfb": {
      "model_module": "@jupyter-widgets/controls",
      "model_module_version": "1.5.0",
      "model_name": "DescriptionStyleModel",
      "state": {
       "description_width": ""
      }
     },
     "716ad8c705d943d18838ab0bdb0337a8": {
      "model_module": "jupyter-leaflet",
      "model_module_version": "^0.16.0",
      "model_name": "LeafletTileLayerModel",
      "state": {
       "_model_module_version": "^0.16.0",
       "_view_module_version": "^0.16.0",
       "attribution": "Kaartgegevens (C) Kadaster",
       "max_native_zoom": 18,
       "max_zoom": 19,
       "min_native_zoom": 0,
       "name": "nlmaps.water",
       "options": [
        "attribution",
        "bounds",
        "detect_retina",
        "max_native_zoom",
        "max_zoom",
        "min_native_zoom",
        "min_zoom",
        "no_wrap",
        "tile_size",
        "tms"
       ],
       "url": "https://service.pdok.nl/brt/achtergrondkaart/wmts/v2_0/water/EPSG:3857/{z}/{x}/{y}.png"
      }
     },
     "721cad69bcaa43639e9bd3ada6fd8b54": {
      "model_module": "@jupyter-widgets/controls",
      "model_module_version": "1.5.0",
      "model_name": "HTMLModel",
      "state": {
       "layout": "IPY_MODEL_757207cdedde45c5b93f6ff880dc036a",
       "style": "IPY_MODEL_1764a373925d42548f38889e785b189f",
       "value": "<b>Pick a date:</b>"
      }
     },
     "72695124585f4a33ba21451f73a6fe70": {
      "model_module": "jupyter-leaflet",
      "model_module_version": "^0.16.0",
      "model_name": "LeafletTileLayerModel",
      "state": {
       "_model_module_version": "^0.16.0",
       "_view_module_version": "^0.16.0",
       "attribution": "(C) Stadia Maps, (C) OpenMapTiles (C) OpenStreetMap contributors",
       "max_native_zoom": 18,
       "max_zoom": 20,
       "min_native_zoom": 0,
       "name": "Stadia.AlidadeSmoothDark",
       "options": [
        "attribution",
        "bounds",
        "detect_retina",
        "max_native_zoom",
        "max_zoom",
        "min_native_zoom",
        "min_zoom",
        "no_wrap",
        "tile_size",
        "tms"
       ],
       "url": "https://tiles.stadiamaps.com/tiles/alidade_smooth_dark/{z}/{x}/{y}.png"
      }
     },
     "72786117de594eab80b470ae216bab47": {
      "model_module": "@jupyter-widgets/controls",
      "model_module_version": "1.5.0",
      "model_name": "ToggleButtonModel",
      "state": {
       "button_style": "primary",
       "icon": "globe",
       "layout": "IPY_MODEL_1837980fb36a4a17a4b98a2287afb37b",
       "style": "IPY_MODEL_d71b84ec3eb94c739e14f15b0d945210",
       "tooltip": "Split-panel map"
      }
     },
     "730e5667bfa2488b99db6bf3e1b9f6d9": {
      "model_module": "jupyter-leaflet",
      "model_module_version": "^0.16.0",
      "model_name": "LeafletTileLayerModel",
      "state": {
       "_model_module_version": "^0.16.0",
       "_view_module_version": "^0.16.0",
       "attribution": "(C) Stadia Maps, (C) OpenMapTiles (C) OpenStreetMap contributors",
       "max_native_zoom": 18,
       "max_zoom": 20,
       "min_native_zoom": 0,
       "name": "Stadia.Outdoors",
       "options": [
        "attribution",
        "bounds",
        "detect_retina",
        "max_native_zoom",
        "max_zoom",
        "min_native_zoom",
        "min_zoom",
        "no_wrap",
        "tile_size",
        "tms"
       ],
       "url": "https://tiles.stadiamaps.com/tiles/outdoors/{z}/{x}/{y}.png"
      }
     },
     "731d694119cc4bd2b12a8a75e9fe42ed": {
      "model_module": "@jupyter-widgets/output",
      "model_module_version": "1.0.0",
      "model_name": "OutputModel",
      "state": {
       "layout": "IPY_MODEL_9e18ec081f9f49abb2ae4b4976d4f5e9",
       "outputs": [
        {
         "name": "stdout",
         "output_type": "stream",
         "text": "ROIs have been saved. Now click Download ROI to download the ROIs using CoastSat\n"
        }
       ]
      }
     },
     "73a8d689239d4337a5b4bb2cac3c17bf": {
      "model_module": "@jupyter-widgets/controls",
      "model_module_version": "1.5.0",
      "model_name": "ToggleButtonModel",
      "state": {
       "button_style": "primary",
       "icon": "address-book",
       "layout": "IPY_MODEL_0cee2524f0334827afad047ac8d2ee6a",
       "style": "IPY_MODEL_f19c3dbbf28f400f91030a9f5fdc0824",
       "tooltip": "Get US Census data"
      }
     },
     "74a3859846394fe68270bf43f36256f2": {
      "model_module": "jupyter-leaflet",
      "model_module_version": "^0.16.0",
      "model_name": "LeafletTileLayerModel",
      "state": {
       "_model_module_version": "^0.16.0",
       "_view_module_version": "^0.16.0",
       "attribution": "Map tiles by Stamen Design, CC BY 3.0 -- Map data (C) OpenStreetMap contributors",
       "max_native_zoom": 18,
       "min_native_zoom": 0,
       "name": "Stamen.Terrain",
       "options": [
        "attribution",
        "bounds",
        "detect_retina",
        "max_native_zoom",
        "max_zoom",
        "min_native_zoom",
        "min_zoom",
        "no_wrap",
        "tile_size",
        "tms"
       ],
       "url": "https://stamen-tiles-a.a.ssl.fastly.net/terrain/{z}/{x}/{y}.png"
      }
     },
     "757207cdedde45c5b93f6ff880dc036a": {
      "model_module": "@jupyter-widgets/base",
      "model_module_version": "1.2.0",
      "model_name": "LayoutModel",
      "state": {
       "padding": "10px"
      }
     },
     "763c1d0e9bb94e93b978a28fe2ad7dec": {
      "model_module": "@jupyter-widgets/controls",
      "model_module_version": "1.5.0",
      "model_name": "ToggleButtonModel",
      "state": {
       "button_style": "primary",
       "icon": "pencil-square-o",
       "layout": "IPY_MODEL_fdc047c3e586421bae1b76826771033f",
       "style": "IPY_MODEL_43f2028b6c814dfbb7d681085e9501a4",
       "tooltip": "Create vector data"
      }
     },
     "771b74e629244517b0b969b63e064b95": {
      "model_module": "@jupyter-widgets/base",
      "model_module_version": "1.2.0",
      "model_name": "LayoutModel",
      "state": {}
     },
     "78aa65473e454efa91f84f57227cae15": {
      "model_module": "jupyter-leaflet",
      "model_module_version": "^0.16.0",
      "model_name": "LeafletAttributionControlModel",
      "state": {
       "_model_module_version": "^0.16.0",
       "_view_module_version": "^0.16.0",
       "options": [
        "position",
        "prefix"
       ],
       "position": "bottomright",
       "prefix": "ipyleaflet"
      }
     },
     "78d7c010ce4f40dfabd9d4bcca9c8b74": {
      "model_module": "jupyter-leaflet",
      "model_module_version": "^0.16.0",
      "model_name": "LeafletTileLayerModel",
      "state": {
       "_model_module_version": "^0.16.0",
       "_view_module_version": "^0.16.0",
       "attribution": "![](https://docs.onemap.sg/maps/images/oneMap64-01.png) New OneMap | Map data (C) contributors, Singapore Land Authority",
       "max_native_zoom": 18,
       "min_native_zoom": 0,
       "name": "OneMapSG.Original",
       "options": [
        "attribution",
        "bounds",
        "detect_retina",
        "max_native_zoom",
        "max_zoom",
        "min_native_zoom",
        "min_zoom",
        "no_wrap",
        "tile_size",
        "tms"
       ],
       "url": "https://maps-a.onemap.sg/v3/Original/{z}/{x}/{y}.png"
      }
     },
     "79af1b4a122f4ca6819d2031acb2ae0f": {
      "model_module": "jupyter-leaflet",
      "model_module_version": "^0.16.0",
      "model_name": "LeafletTileLayerModel",
      "state": {
       "_model_module_version": "^0.16.0",
       "_view_module_version": "^0.16.0",
       "attribution": "Tiles (C) Esri -- Esri, DeLorme, NAVTEQ",
       "max_native_zoom": 18,
       "max_zoom": 16,
       "min_native_zoom": 0,
       "name": "Esri.WorldGrayCanvas",
       "options": [
        "attribution",
        "bounds",
        "detect_retina",
        "max_native_zoom",
        "max_zoom",
        "min_native_zoom",
        "min_zoom",
        "no_wrap",
        "tile_size",
        "tms"
       ],
       "url": "https://server.arcgisonline.com/ArcGIS/rest/services/Canvas/World_Light_Gray_Base/MapServer/tile/{z}/{y}/{x}"
      }
     },
     "7a891b5087554f36a07a4f0827edd83a": {
      "model_module": "jupyter-leaflet",
      "model_module_version": "^0.16.0",
      "model_name": "LeafletTileLayerModel",
      "state": {
       "_model_module_version": "^0.16.0",
       "_view_module_version": "^0.16.0",
       "attribution": "Map data: (C) OpenStreetMap contributors, SRTM | Map style: (C) OpenTopoMap (CC-BY-SA)",
       "max_native_zoom": 18,
       "max_zoom": 17,
       "min_native_zoom": 0,
       "name": "OpenTopoMap",
       "options": [
        "attribution",
        "bounds",
        "detect_retina",
        "max_native_zoom",
        "max_zoom",
        "min_native_zoom",
        "min_zoom",
        "no_wrap",
        "tile_size",
        "tms"
       ],
       "url": "https://a.tile.opentopomap.org/{z}/{x}/{y}.png"
      }
     },
     "7af8b22761cf4fc58508f5be0fc33bca": {
      "model_module": "jupyter-leaflet",
      "model_module_version": "^0.16.0",
      "model_name": "LeafletTileLayerModel",
      "state": {
       "_model_module_version": "^0.16.0",
       "_view_module_version": "^0.16.0",
       "attribution": "Kaartgegevens (C) Kadaster",
       "max_native_zoom": 18,
       "max_zoom": 19,
       "min_native_zoom": 0,
       "name": "nlmaps.standaard",
       "options": [
        "attribution",
        "bounds",
        "detect_retina",
        "max_native_zoom",
        "max_zoom",
        "min_native_zoom",
        "min_zoom",
        "no_wrap",
        "tile_size",
        "tms"
       ],
       "url": "https://service.pdok.nl/brt/achtergrondkaart/wmts/v2_0/standaard/EPSG:3857/{z}/{x}/{y}.png"
      }
     },
     "7b36e5a71ea942d5bc9c003118db6554": {
      "model_module": "@jupyter-widgets/controls",
      "model_module_version": "1.5.0",
      "model_name": "DescriptionStyleModel",
      "state": {
       "description_width": ""
      }
     },
     "7c433d262d5348ed91647ed74258476e": {
      "model_module": "jupyter-leaflet",
      "model_module_version": "^0.16.0",
      "model_name": "LeafletWMSLayerModel",
      "state": {
       "_model_module_version": "^0.16.0",
       "_view_module_version": "^0.16.0",
       "attribution": "MRLC",
       "crs": {
        "custom": false,
        "name": "EPSG3857"
       },
       "format": "image/png",
       "layers": "NLCD_2019_Land_Cover_L48",
       "max_native_zoom": 18,
       "min_native_zoom": 0,
       "name": "NLCD 2019 CONUS Land Cover",
       "options": [
        "attribution",
        "bounds",
        "detect_retina",
        "format",
        "layers",
        "max_native_zoom",
        "max_zoom",
        "min_native_zoom",
        "min_zoom",
        "no_wrap",
        "styles",
        "tile_size",
        "tms",
        "transparent",
        "uppercase"
       ],
       "transparent": true,
       "url": "https://www.mrlc.gov/geoserver/mrlc_display/NLCD_2019_Land_Cover_L48/wms?"
      }
     },
     "7d00406b7e3746dcbc0b707200ef2686": {
      "model_module": "@jupyter-widgets/base",
      "model_module_version": "1.2.0",
      "model_name": "LayoutModel",
      "state": {}
     },
     "7d950a3bccbe435fae8c208b03c4c30f": {
      "model_module": "jupyter-leaflet",
      "model_module_version": "^0.16.0",
      "model_name": "LeafletTileLayerModel",
      "state": {
       "_model_module_version": "^0.16.0",
       "_view_module_version": "^0.16.0",
       "attribution": "Imagery provided by services from the Global Imagery Browse Services (GIBS), operated by the NASA/GSFC/Earth Science Data and Information System (ESDIS) with funding provided by NASA/HQ.",
       "max_native_zoom": 18,
       "max_zoom": 7,
       "min_native_zoom": 0,
       "name": "NASAGIBS.ModisTerraLSTDay",
       "options": [
        "attribution",
        "bounds",
        "detect_retina",
        "max_native_zoom",
        "max_zoom",
        "min_native_zoom",
        "min_zoom",
        "no_wrap",
        "tile_size",
        "tms"
       ],
       "url": "https://map1.vis.earthdata.nasa.gov/wmts-webmerc/MODIS_Terra_Land_Surface_Temp_Day/default//GoogleMapsCompatible_Level7/{z}/{y}/{x}.png"
      }
     },
     "7d9bc10b5ead45a986b4f0e16816701a": {
      "model_module": "@jupyter-widgets/controls",
      "model_module_version": "1.5.0",
      "model_name": "DescriptionStyleModel",
      "state": {
       "description_width": ""
      }
     },
     "7e97fb6d6d464283b5605029bef6f353": {
      "model_module": "jupyter-leaflet",
      "model_module_version": "^0.16.0",
      "model_name": "LeafletTileLayerModel",
      "state": {
       "_model_module_version": "^0.16.0",
       "_view_module_version": "^0.16.0",
       "attribution": "(C) Stadia Maps, (C) OpenMapTiles (C) OpenStreetMap contributors",
       "max_native_zoom": 18,
       "max_zoom": 20,
       "min_native_zoom": 0,
       "name": "Stadia.AlidadeSmooth",
       "options": [
        "attribution",
        "bounds",
        "detect_retina",
        "max_native_zoom",
        "max_zoom",
        "min_native_zoom",
        "min_zoom",
        "no_wrap",
        "tile_size",
        "tms"
       ],
       "url": "https://tiles.stadiamaps.com/tiles/alidade_smooth/{z}/{x}/{y}.png"
      }
     },
     "7eb39359e2a14392a9a7388b5e8173f6": {
      "model_module": "jupyter-leaflet",
      "model_module_version": "^0.16.0",
      "model_name": "LeafletTileLayerModel",
      "state": {
       "_model_module_version": "^0.16.0",
       "_view_module_version": "^0.16.0",
       "attribution": "openAIP Data (CC-BY-NC-SA)",
       "max_native_zoom": 18,
       "max_zoom": 14,
       "min_native_zoom": 0,
       "name": "OpenAIP",
       "options": [
        "attribution",
        "bounds",
        "detect_retina",
        "max_native_zoom",
        "max_zoom",
        "min_native_zoom",
        "min_zoom",
        "no_wrap",
        "tile_size",
        "tms"
       ],
       "url": "https://1.tile.maps.openaip.net/geowebcache/service/tms/1.0.0/openaip_basemap@EPSG%3A900913@png/{z}/{x}/{y}.png"
      }
     },
     "7fd0de2d33bc431da99f6f5109467a59": {
      "model_module": "jupyter-leaflet",
      "model_module_version": "^0.16.0",
      "model_name": "LeafletWMSLayerModel",
      "state": {
       "_model_module_version": "^0.16.0",
       "_view_module_version": "^0.16.0",
       "attribution": "USGS",
       "crs": {
        "custom": false,
        "name": "EPSG3857"
       },
       "format": "image/png",
       "layers": "USGSNAIPImagery:NDVI_Color",
       "max_native_zoom": 18,
       "min_native_zoom": 0,
       "name": "USGS NAIP Imagery NDVI",
       "options": [
        "attribution",
        "bounds",
        "detect_retina",
        "format",
        "layers",
        "max_native_zoom",
        "max_zoom",
        "min_native_zoom",
        "min_zoom",
        "no_wrap",
        "styles",
        "tile_size",
        "tms",
        "transparent",
        "uppercase"
       ],
       "transparent": true,
       "url": "https://imagery.nationalmap.gov/arcgis/services/USGSNAIPImagery/ImageServer/WMSServer?"
      }
     },
     "807efcb94d5e42c7b4bf396228902a1b": {
      "model_module": "@jupyter-widgets/controls",
      "model_module_version": "1.5.0",
      "model_name": "ToggleButtonModel",
      "state": {
       "button_style": "primary",
       "icon": "camera",
       "layout": "IPY_MODEL_635bb496d4ea4ca6a8791fcdd7b4c27f",
       "style": "IPY_MODEL_7b36e5a71ea942d5bc9c003118db6554",
       "tooltip": "Save map as HTML or image"
      }
     },
     "80a0ae898d0643d8890287a015070c7a": {
      "model_module": "@jupyter-widgets/controls",
      "model_module_version": "1.5.0",
      "model_name": "DescriptionStyleModel",
      "state": {
       "description_width": ""
      }
     },
     "80bc4f12046648f58323b811019dab90": {
      "model_module": "jupyter-leaflet",
      "model_module_version": "^0.16.0",
      "model_name": "LeafletTileLayerModel",
      "state": {
       "_model_module_version": "^0.16.0",
       "_view_module_version": "^0.16.0",
       "attribution": "Imagery provided by services from the Global Imagery Browse Services (GIBS), operated by the NASA/GSFC/Earth Science Data and Information System (ESDIS) with funding provided by NASA/HQ.",
       "max_native_zoom": 18,
       "max_zoom": 9,
       "min_native_zoom": 0,
       "name": "NASAGIBS.ModisAquaBands721CR",
       "options": [
        "attribution",
        "bounds",
        "detect_retina",
        "max_native_zoom",
        "max_zoom",
        "min_native_zoom",
        "min_zoom",
        "no_wrap",
        "tile_size",
        "tms"
       ],
       "url": "https://gibs.earthdata.nasa.gov/wmts/epsg3857/best/MODIS_Aqua_CorrectedReflectance_Bands721/default//GoogleMapsCompatible_Level9/{z}/{y}/{x}.jpg"
      }
     },
     "813a0ab533fb48ca8e4b48775e27007d": {
      "model_module": "jupyter-leaflet",
      "model_module_version": "^0.16.0",
      "model_name": "LeafletTileLayerModel",
      "state": {
       "_model_module_version": "^0.16.0",
       "_view_module_version": "^0.16.0",
       "attribution": "Datenquelle: basemap.at",
       "max_native_zoom": 18,
       "max_zoom": 19,
       "min_native_zoom": 0,
       "name": "BasemapAT.grau",
       "options": [
        "attribution",
        "bounds",
        "detect_retina",
        "max_native_zoom",
        "max_zoom",
        "min_native_zoom",
        "min_zoom",
        "no_wrap",
        "tile_size",
        "tms"
       ],
       "url": "https://maps.wien.gv.at/basemap/bmapgrau/normal/google3857/{z}/{y}/{x}.png"
      }
     },
     "8196c1d5102249ccb812bb84e42db654": {
      "model_module": "jupyter-leaflet",
      "model_module_version": "^0.16.0",
      "model_name": "LeafletTileLayerModel",
      "state": {
       "_model_module_version": "^0.16.0",
       "_view_module_version": "^0.16.0",
       "attribution": "Imagery provided by services from the Global Imagery Browse Services (GIBS), operated by the NASA/GSFC/Earth Science Data and Information System (ESDIS) with funding provided by NASA/HQ.",
       "max_native_zoom": 18,
       "max_zoom": 8,
       "min_native_zoom": 0,
       "name": "NASAGIBS.ViirsEarthAtNight2012",
       "options": [
        "attribution",
        "bounds",
        "detect_retina",
        "max_native_zoom",
        "max_zoom",
        "min_native_zoom",
        "min_zoom",
        "no_wrap",
        "tile_size",
        "tms"
       ],
       "url": "https://map1.vis.earthdata.nasa.gov/wmts-webmerc/VIIRS_CityLights_2012/default//GoogleMapsCompatible_Level8/{z}/{y}/{x}.jpg"
      }
     },
     "82f0722b7d0b40f7a7490565fb735a77": {
      "model_module": "jupyter-leaflet",
      "model_module_version": "^0.16.0",
      "model_name": "LeafletTileLayerModel",
      "state": {
       "_model_module_version": "^0.16.0",
       "_view_module_version": "^0.16.0",
       "attribution": "Imagery provided by services from the Global Imagery Browse Services (GIBS), operated by the NASA/GSFC/Earth Science Data and Information System (ESDIS) with funding provided by NASA/HQ.",
       "max_native_zoom": 18,
       "max_zoom": 6,
       "min_native_zoom": 0,
       "name": "NASAGIBS.ModisTerraAOD",
       "options": [
        "attribution",
        "bounds",
        "detect_retina",
        "max_native_zoom",
        "max_zoom",
        "min_native_zoom",
        "min_zoom",
        "no_wrap",
        "tile_size",
        "tms"
       ],
       "url": "https://map1.vis.earthdata.nasa.gov/wmts-webmerc/MODIS_Terra_Aerosol/default//GoogleMapsCompatible_Level6/{z}/{y}/{x}.png"
      }
     },
     "84c0996292974e8aa25a3d39b3b8eebb": {
      "model_module": "jupyter-leaflet",
      "model_module_version": "^0.16.0",
      "model_name": "LeafletTileLayerModel",
      "state": {
       "_model_module_version": "^0.16.0",
       "_view_module_version": "^0.16.0",
       "attribution": "Kaartgegevens (C) Kadaster",
       "max_native_zoom": 18,
       "max_zoom": 19,
       "min_native_zoom": 0,
       "name": "nlmaps.luchtfoto",
       "options": [
        "attribution",
        "bounds",
        "detect_retina",
        "max_native_zoom",
        "max_zoom",
        "min_native_zoom",
        "min_zoom",
        "no_wrap",
        "tile_size",
        "tms"
       ],
       "url": "https://service.pdok.nl/hwh/luchtfotorgb/wmts/v1_0/Actueel_ortho25/EPSG:3857/{z}/{x}/{y}.jpeg"
      }
     },
     "85be29fdd9854e49b97904dc9dd71435": {
      "model_module": "@jupyter-widgets/base",
      "model_module_version": "1.2.0",
      "model_name": "LayoutModel",
      "state": {
       "padding": "10px"
      }
     },
     "878781dd45644a6eae0ff8497aea86b4": {
      "model_module": "jupyter-leaflet",
      "model_module_version": "^0.16.0",
      "model_name": "LeafletTileLayerModel",
      "state": {
       "_model_module_version": "^0.16.0",
       "_view_module_version": "^0.16.0",
       "attribution": "![](https://docs.onemap.sg/maps/images/oneMap64-01.png) New OneMap | Map data (C) contributors, Singapore Land Authority",
       "max_native_zoom": 18,
       "min_native_zoom": 0,
       "name": "OneMapSG.LandLot",
       "options": [
        "attribution",
        "bounds",
        "detect_retina",
        "max_native_zoom",
        "max_zoom",
        "min_native_zoom",
        "min_zoom",
        "no_wrap",
        "tile_size",
        "tms"
       ],
       "url": "https://maps-a.onemap.sg/v3/LandLot/{z}/{x}/{y}.png"
      }
     },
     "898f388c3d444f899cd1d9de4568ccf3": {
      "model_module": "@jupyter-widgets/base",
      "model_module_version": "1.2.0",
      "model_name": "LayoutModel",
      "state": {
       "height": "auto",
       "padding": "0px 0px 0px 4px",
       "width": "auto"
      }
     },
     "89f692acdba340ed9b913ebdf1f8295f": {
      "model_module": "jupyter-leaflet",
      "model_module_version": "^0.16.0",
      "model_name": "LeafletTileLayerModel",
      "state": {
       "_model_module_version": "^0.16.0",
       "_view_module_version": "^0.16.0",
       "attribution": "Datenquelle: basemap.at",
       "max_native_zoom": 18,
       "max_zoom": 19,
       "min_native_zoom": 0,
       "name": "BasemapAT.overlay",
       "options": [
        "attribution",
        "bounds",
        "detect_retina",
        "max_native_zoom",
        "max_zoom",
        "min_native_zoom",
        "min_zoom",
        "no_wrap",
        "tile_size",
        "tms"
       ],
       "url": "https://maps.wien.gv.at/basemap/bmapoverlay/normal/google3857/{z}/{y}/{x}.png"
      }
     },
     "8a2492d8676f4412ad61642ec1ca6ef3": {
      "model_module": "@jupyter-widgets/controls",
      "model_module_version": "1.5.0",
      "model_name": "ToggleButtonModel",
      "state": {
       "button_style": "primary",
       "icon": "stack-exchange",
       "layout": "IPY_MODEL_0e39ed0862484eacaa45f4686ca77dd1",
       "style": "IPY_MODEL_1205e9ccf223481596e8bea7f5876565",
       "tooltip": "Discover STAC Catalog"
      }
     },
     "8a4578e11f3549f9b24b01bc62d76e41": {
      "model_module": "jupyter-leaflet",
      "model_module_version": "^0.16.0",
      "model_name": "LeafletTileLayerModel",
      "state": {
       "_model_module_version": "^0.16.0",
       "_view_module_version": "^0.16.0",
       "attribution": "Earthstar Geographics",
       "max_native_zoom": 18,
       "max_zoom": 24,
       "min_native_zoom": 0,
       "name": "Esri.ArcticImagery",
       "options": [
        "attribution",
        "bounds",
        "detect_retina",
        "max_native_zoom",
        "max_zoom",
        "min_native_zoom",
        "min_zoom",
        "no_wrap",
        "tile_size",
        "tms"
       ],
       "url": "http://server.arcgisonline.com/ArcGIS/rest/services/Polar/Arctic_Imagery/MapServer/tile/{z}/{y}/{x}"
      }
     },
     "8aa1dcaa81dd4a0abf34bbfaa8773cf7": {
      "model_module": "@jupyter-widgets/controls",
      "model_module_version": "1.5.0",
      "model_name": "VBoxModel",
      "state": {
       "children": [
        "IPY_MODEL_a1d5bb134fa54efeb89a1fb5c6707d6a",
        "IPY_MODEL_916425f42c494af89aa666528088940d"
       ],
       "layout": "IPY_MODEL_6bd781fdae844322b72a220b73ab91da"
      }
     },
     "8b1d0ed0826749498b2aeca8599f055e": {
      "model_module": "@jupyter-widgets/controls",
      "model_module_version": "1.5.0",
      "model_name": "ToggleButtonModel",
      "state": {
       "button_style": "primary",
       "icon": "gears",
       "layout": "IPY_MODEL_6fad0b5102c94ba9b0d13092939d3f98",
       "style": "IPY_MODEL_311dd46b66d048a3ab6d2063bfd773ce",
       "tooltip": "WhiteboxTools for local geoprocessing"
      }
     },
     "8baf9c86f7754775afb509f384b3b99b": {
      "model_module": "ipyevents",
      "model_module_version": "2.0.1",
      "model_name": "EventModel",
      "state": {
       "_supported_key_events": [
        "keydown",
        "keyup"
       ],
       "_supported_mouse_events": [
        "click",
        "auxclick",
        "dblclick",
        "mouseenter",
        "mouseleave",
        "mousedown",
        "mouseup",
        "mousemove",
        "wheel",
        "contextmenu",
        "dragstart",
        "drag",
        "dragend",
        "dragenter",
        "dragover",
        "dragleave",
        "drop"
       ],
       "_supported_touch_events": [
        "touchstart",
        "touchend",
        "touchmove",
        "touchcancel"
       ],
       "_view_module": "@jupyter-widgets/controls",
       "_view_module_version": "1.5.0",
       "source": "IPY_MODEL_49c8fc4295164dc89768d90626c2fa22",
       "throttle_or_debounce": "",
       "watched_events": [
        "mouseenter",
        "mouseleave"
       ],
       "xy_coordinate_system": ""
      }
     },
     "8d5dbdd5cf83473497f68e94b14d14a2": {
      "model_module": "@jupyter-widgets/base",
      "model_module_version": "1.2.0",
      "model_name": "LayoutModel",
      "state": {
       "height": "28px",
       "width": "72px"
      }
     },
     "8dbf5379d70f48a5a9b8692071d56411": {
      "model_module": "jupyter-leaflet",
      "model_module_version": "^0.16.0",
      "model_name": "LeafletTileLayerModel",
      "state": {
       "_model_module_version": "^0.16.0",
       "_view_module_version": "^0.16.0",
       "attribution": "© swisstopo",
       "max_native_zoom": 18,
       "min_native_zoom": 0,
       "name": "SwissFederalGeoportal.NationalMapGrey",
       "options": [
        "attribution",
        "bounds",
        "detect_retina",
        "max_native_zoom",
        "max_zoom",
        "min_native_zoom",
        "min_zoom",
        "no_wrap",
        "tile_size",
        "tms"
       ],
       "url": "https://wmts.geo.admin.ch/1.0.0/ch.swisstopo.pixelkarte-grau/default/current/3857/{z}/{x}/{y}.jpeg"
      }
     },
     "8f2b3bec3f384c099d8ff9b15a5dc747": {
      "model_module": "jupyter-leaflet",
      "model_module_version": "^0.16.0",
      "model_name": "LeafletMapModel",
      "state": {
       "_model_module_version": "^0.16.0",
       "_view_module_version": "^0.16.0",
       "bottom": 412027,
       "center": [
        36.009532879541766,
        -121.46775025723987
       ],
       "controls": [
        "IPY_MODEL_00bb1fdbf9e44359a393d7cb13de0c76",
        "IPY_MODEL_78aa65473e454efa91f84f57227cae15",
        "IPY_MODEL_95725b9a06a24c07b28e9797e3e1c385",
        "IPY_MODEL_d949b1ef094d42f88e975c0ab491e8ea",
        "IPY_MODEL_4cd960d2fdb34c5b895225af708a2bb3",
        "IPY_MODEL_aa80c4ec7704421b8b57a382a066caf9",
        "IPY_MODEL_c14f6e111a884d4f83c4aec0f1a31808"
       ],
       "default_style": "IPY_MODEL_15891c385c3744dc920551b0bae0f0ca",
       "dragging_style": "IPY_MODEL_42597c60173149e48afaa0641600ce6d",
       "east": -121.34227752685548,
       "fullscreen": false,
       "interpolation": "bilinear",
       "layers": [
        "IPY_MODEL_e18f966e3114462285e2f7d7e32ce940",
        "IPY_MODEL_3b099b761b61463780ea27b3d781b346",
        "IPY_MODEL_b3a9ffa233db4da6884a18d2a00a4920",
        "IPY_MODEL_c3188b7108bb4469a8d13bfd6ff441bd"
       ],
       "layout": "IPY_MODEL_a02c2980883e4d1a937f0533cb07a097",
       "left": 170123,
       "max_zoom": 24,
       "modisdate": "2022-08-09",
       "north": 36.09266709661607,
       "options": [
        "bounce_at_zoom_limits",
        "box_zoom",
        "center",
        "close_popup_on_click",
        "double_click_zoom",
        "dragging",
        "fullscreen",
        "inertia",
        "inertia_deceleration",
        "inertia_max_speed",
        "interpolation",
        "keyboard",
        "keyboard_pan_offset",
        "keyboard_zoom_offset",
        "max_zoom",
        "min_zoom",
        "prefer_canvas",
        "scroll_wheel_zoom",
        "tap",
        "tap_tolerance",
        "touch_zoom",
        "world_copy_jump",
        "zoom",
        "zoom_animation_threshold",
        "zoom_delta",
        "zoom_snap",
        "zoom_start"
       ],
       "prefer_canvas": false,
       "right": 170853,
       "scroll_wheel_zoom": true,
       "south": 35.92603461477206,
       "style": "IPY_MODEL_15891c385c3744dc920551b0bae0f0ca",
       "top": 411427,
       "west": -121.59290313720705,
       "window_url": "http://localhost:8888/lab/tree/app.ipynb"
      }
     },
     "8f9bdb0921e74d09b153e1796d399bb5": {
      "model_module": "@jupyter-widgets/controls",
      "model_module_version": "1.5.0",
      "model_name": "SelectMultipleModel",
      "state": {
       "_options_labels": [
        "L5",
        "L7",
        "L8",
        "S2"
       ],
       "description": "Satellites",
       "index": [
        2
       ],
       "layout": "IPY_MODEL_4345bc81b2684af99b9d0367848733cf",
       "rows": 5,
       "style": "IPY_MODEL_09ac44b6f2c043e6837a05ecf13cf489"
      }
     },
     "8fbf2799dc2549729ba7c11be9218e4b": {
      "model_module": "@jupyter-widgets/controls",
      "model_module_version": "1.5.0",
      "model_name": "ToggleButtonModel",
      "state": {
       "button_style": "primary",
       "icon": "picture-o",
       "layout": "IPY_MODEL_d19063f6a5d844b08b9d73884763810c",
       "style": "IPY_MODEL_5170d905f0b24774ab6e4e92655290cc",
       "tooltip": "Open COG/STAC dataset"
      }
     },
     "916425f42c494af89aa666528088940d": {
      "model_module": "@jupyter-widgets/controls",
      "model_module_version": "1.5.0",
      "model_name": "RadioButtonsModel",
      "state": {
       "_options_labels": [
        "C01",
        "C02"
       ],
       "description": "Collection:",
       "index": 0,
       "layout": "IPY_MODEL_da5fd47a82b74c81af26b83283c4ab77",
       "style": "IPY_MODEL_c9eeac5094de44499bc74e98a8ba0c79"
      }
     },
     "9354d669f42f49dcafbf3de214a0e4eb": {
      "model_module": "jupyter-leaflet",
      "model_module_version": "^0.16.0",
      "model_name": "LeafletTileLayerModel",
      "state": {
       "_model_module_version": "^0.16.0",
       "_view_module_version": "^0.16.0",
       "attribution": "(C) OpenStreetMap contributors, vizualization CC-By-SA 2.0 Freemap.sk",
       "max_native_zoom": 18,
       "max_zoom": 16,
       "min_native_zoom": 0,
       "name": "FreeMapSK",
       "options": [
        "attribution",
        "bounds",
        "detect_retina",
        "max_native_zoom",
        "max_zoom",
        "min_native_zoom",
        "min_zoom",
        "no_wrap",
        "tile_size",
        "tms"
       ],
       "url": "https://a.freemap.sk/T/{z}/{x}/{y}.jpeg"
      }
     },
     "953ed990a1744c8697024eb4dd4a33dd": {
      "model_module": "jupyter-leaflet",
      "model_module_version": "^0.16.0",
      "model_name": "LeafletTileLayerModel",
      "state": {
       "_model_module_version": "^0.16.0",
       "_view_module_version": "^0.16.0",
       "attribution": "(C) OpenStreetMap contributors (C) CARTO",
       "max_native_zoom": 18,
       "max_zoom": 20,
       "min_native_zoom": 0,
       "name": "CartoDB.VoyagerOnlyLabels",
       "options": [
        "attribution",
        "bounds",
        "detect_retina",
        "max_native_zoom",
        "max_zoom",
        "min_native_zoom",
        "min_zoom",
        "no_wrap",
        "tile_size",
        "tms"
       ],
       "url": "https://a.basemaps.cartocdn.com/rastertiles/voyager_only_labels/{z}/{x}/{y}.png"
      }
     },
     "95725b9a06a24c07b28e9797e3e1c385": {
      "model_module": "jupyter-leaflet",
      "model_module_version": "^0.16.0",
      "model_name": "LeafletScaleControlModel",
      "state": {
       "_model_module_version": "^0.16.0",
       "_view_module_version": "^0.16.0",
       "imperial": true,
       "max_width": 100,
       "metric": true,
       "options": [
        "imperial",
        "max_width",
        "metric",
        "position",
        "update_when_idle"
       ],
       "position": "bottomleft",
       "update_when_idle": false
      }
     },
     "95dd1842a60141b9873f4e87952aeefe": {
      "model_module": "@jupyter-widgets/base",
      "model_module_version": "1.2.0",
      "model_name": "LayoutModel",
      "state": {}
     },
     "98d76e4e0ae4404a8911d391a9cfc2a3": {
      "model_module": "jupyter-leaflet",
      "model_module_version": "^0.16.0",
      "model_name": "LeafletTileLayerModel",
      "state": {
       "_model_module_version": "^0.16.0",
       "_view_module_version": "^0.16.0",
       "attribution": "National Library of Scotland Historic Maps",
       "max_native_zoom": 18,
       "min_native_zoom": 0,
       "name": "NLS",
       "options": [
        "attribution",
        "bounds",
        "detect_retina",
        "max_native_zoom",
        "max_zoom",
        "min_native_zoom",
        "min_zoom",
        "no_wrap",
        "tile_size",
        "tms"
       ],
       "url": "https://nls-0.tileserver.com/nls/{z}/{x}/{y}.jpg"
      }
     },
     "98d80424a385488395f8058672ae99a1": {
      "model_module": "@jupyter-widgets/controls",
      "model_module_version": "1.5.0",
      "model_name": "ToggleButtonModel",
      "state": {
       "button_style": "primary",
       "icon": "adjust",
       "layout": "IPY_MODEL_cfcf7fd12244494aaa286a11c01dd882",
       "style": "IPY_MODEL_e29e5c6d77df4b2daaa331efde3a21bc",
       "tooltip": "Planet imagery"
      }
     },
     "9a107f048335436f9274b58db225d4e9": {
      "model_module": "@jupyter-widgets/controls",
      "model_module_version": "1.5.0",
      "model_name": "ButtonModel",
      "state": {
       "description": "Remove ROIs",
       "layout": "IPY_MODEL_5d56f9d9ccc0457792274eb3d631b23d",
       "style": "IPY_MODEL_327de58e13b14844bd469f1b4dfaeb71"
      }
     },
     "9ada63df853f4d1ca6d37b0fed7cb117": {
      "model_module": "jupyter-leaflet",
      "model_module_version": "^0.16.0",
      "model_name": "LeafletTileLayerModel",
      "state": {
       "_model_module_version": "^0.16.0",
       "_view_module_version": "^0.16.0",
       "attribution": "&copy; <a href=\"http://www.gaode.com/\">Gaode.com</a>",
       "max_native_zoom": 18,
       "max_zoom": 19,
       "min_native_zoom": 0,
       "name": "Gaode.Satellite",
       "options": [
        "attribution",
        "bounds",
        "detect_retina",
        "max_native_zoom",
        "max_zoom",
        "min_native_zoom",
        "min_zoom",
        "no_wrap",
        "tile_size",
        "tms"
       ],
       "url": "http://webst01.is.autonavi.com/appmaptile?style=6&x={x}&y={y}&z={z}"
      }
     },
     "9d969da065ca47a1b7df86b82fe350a4": {
      "model_module": "@jupyter-widgets/base",
      "model_module_version": "1.2.0",
      "model_name": "LayoutModel",
      "state": {
       "height": "auto",
       "padding": "0px 0px 0px 4px",
       "width": "auto"
      }
     },
     "9e18ec081f9f49abb2ae4b4976d4f5e9": {
      "model_module": "@jupyter-widgets/base",
      "model_module_version": "1.2.0",
      "model_name": "LayoutModel",
      "state": {
       "border": "1px solid black"
      }
     },
     "9e4832e0c4c84be2b1e1a7551a0eefde": {
      "model_module": "jupyter-leaflet",
      "model_module_version": "^0.16.0",
      "model_name": "LeafletTileLayerModel",
      "state": {
       "_model_module_version": "^0.16.0",
       "_view_module_version": "^0.16.0",
       "attribution": "Map tiles by Stamen Design, CC BY 3.0 -- Map data (C) OpenStreetMap contributors",
       "max_native_zoom": 18,
       "max_zoom": 20,
       "min_native_zoom": 0,
       "name": "Stamen.TonerHybrid",
       "options": [
        "attribution",
        "bounds",
        "detect_retina",
        "max_native_zoom",
        "max_zoom",
        "min_native_zoom",
        "min_zoom",
        "no_wrap",
        "tile_size",
        "tms"
       ],
       "url": "https://stamen-tiles-a.a.ssl.fastly.net/toner-hybrid/{z}/{x}/{y}.png"
      }
     },
     "9f2c00bdaa1b4dd9bc88c0870092c540": {
      "model_module": "jupyter-leaflet",
      "model_module_version": "^0.16.0",
      "model_name": "LeafletTileLayerModel",
      "state": {
       "_model_module_version": "^0.16.0",
       "_view_module_version": "^0.16.0",
       "attribution": "Google",
       "max_native_zoom": 18,
       "max_zoom": 22,
       "min_native_zoom": 0,
       "name": "Google Terrain",
       "options": [
        "attribution",
        "bounds",
        "detect_retina",
        "max_native_zoom",
        "max_zoom",
        "min_native_zoom",
        "min_zoom",
        "no_wrap",
        "tile_size",
        "tms"
       ],
       "url": "https://mt1.google.com/vt/lyrs=p&x={x}&y={y}&z={z}"
      }
     },
     "a02c2980883e4d1a937f0533cb07a097": {
      "model_module": "@jupyter-widgets/base",
      "model_module_version": "1.2.0",
      "model_name": "LayoutModel",
      "state": {
       "height": "600px",
       "width": "100%"
      }
     },
     "a0cbc656e96e468abfab3782a6c9a2fa": {
      "model_module": "jupyter-leaflet",
      "model_module_version": "^0.16.0",
      "model_name": "LeafletTileLayerModel",
      "state": {
       "_model_module_version": "^0.16.0",
       "_view_module_version": "^0.16.0",
       "attribution": "Tiles (C) Esri -- Source: Esri, DeLorme, NAVTEQ, USGS, Intermap, iPC, NRCAN, Esri Japan, METI, Esri China (Hong Kong), Esri (Thailand), TomTom, 2012",
       "max_native_zoom": 18,
       "max_zoom": 22,
       "min_native_zoom": 0,
       "name": "Esri.WorldStreetMap",
       "options": [
        "attribution",
        "bounds",
        "detect_retina",
        "max_native_zoom",
        "max_zoom",
        "min_native_zoom",
        "min_zoom",
        "no_wrap",
        "tile_size",
        "tms"
       ],
       "url": "https://server.arcgisonline.com/ArcGIS/rest/services/World_Street_Map/MapServer/tile/{z}/{y}/{x}"
      }
     },
     "a1233209134348ba9974b02d5a4d008e": {
      "model_module": "jupyter-leaflet",
      "model_module_version": "^0.16.0",
      "model_name": "LeafletTileLayerModel",
      "state": {
       "_model_module_version": "^0.16.0",
       "_view_module_version": "^0.16.0",
       "attribution": "Map tiles by <a href=\"https://labs.strava.com/heatmap\">Strava 2021</a>",
       "max_native_zoom": 18,
       "max_zoom": 15,
       "min_native_zoom": 0,
       "name": "Strava.Water",
       "options": [
        "attribution",
        "bounds",
        "detect_retina",
        "max_native_zoom",
        "max_zoom",
        "min_native_zoom",
        "min_zoom",
        "no_wrap",
        "tile_size",
        "tms"
       ],
       "url": "https://heatmap-external-a.strava.com/tiles/water/blue/{z}/{x}/{y}.png"
      }
     },
     "a1d5bb134fa54efeb89a1fb5c6707d6a": {
      "model_module": "@jupyter-widgets/controls",
      "model_module_version": "1.5.0",
      "model_name": "HTMLModel",
      "state": {
       "layout": "IPY_MODEL_fc6e4aeb997f42e685816621b4f9aa6f",
       "style": "IPY_MODEL_0753aaed70b14bc8890bc90ca52333b0",
       "value": "<b>Pick a collection</b>        <br> C01: LandSat Collection 1         <br> C02: LandSat Collection 2  [2022/01/01 and beyond]         <br>      - Landsat 9 is only available in C02"
      }
     },
     "a257fb4265494353a048a62e9d65d453": {
      "model_module": "@jupyter-widgets/controls",
      "model_module_version": "1.5.0",
      "model_name": "ButtonModel",
      "state": {
       "description": "Remove saved ROIs",
       "layout": "IPY_MODEL_f339c581cc6f4f8583e388815f9cc199",
       "style": "IPY_MODEL_fe9bb971e56a4a00bca6bbb02447786c"
      }
     },
     "a2fed3aff9654b15ae9b9354614d8b40": {
      "model_module": "jupyter-leaflet",
      "model_module_version": "^0.16.0",
      "model_name": "LeafletTileLayerModel",
      "state": {
       "_model_module_version": "^0.16.0",
       "_view_module_version": "^0.16.0",
       "attribution": "(C) OpenStreetMap contributors",
       "max_native_zoom": 18,
       "min_native_zoom": 0,
       "name": "OpenStreetMap.BlackAndWhite",
       "options": [
        "attribution",
        "bounds",
        "detect_retina",
        "max_native_zoom",
        "max_zoom",
        "min_native_zoom",
        "min_zoom",
        "no_wrap",
        "tile_size",
        "tms"
       ],
       "url": "http://a.tiles.wmflabs.org/bw-mapnik/{z}/{x}/{y}.png"
      }
     },
     "a4527887b21642cf8d4395f4137dfe35": {
      "model_module": "jupyter-leaflet",
      "model_module_version": "^0.16.0",
      "model_name": "LeafletWMSLayerModel",
      "state": {
       "_model_module_version": "^0.16.0",
       "_view_module_version": "^0.16.0",
       "attribution": "FWS",
       "crs": {
        "custom": false,
        "name": "EPSG3857"
       },
       "format": "image/png",
       "layers": "1",
       "max_native_zoom": 18,
       "min_native_zoom": 0,
       "name": "FWS NWI Wetlands",
       "options": [
        "attribution",
        "bounds",
        "detect_retina",
        "format",
        "layers",
        "max_native_zoom",
        "max_zoom",
        "min_native_zoom",
        "min_zoom",
        "no_wrap",
        "styles",
        "tile_size",
        "tms",
        "transparent",
        "uppercase"
       ],
       "transparent": true,
       "url": "https://www.fws.gov/wetlands/arcgis/services/Wetlands/MapServer/WMSServer?"
      }
     },
     "a6e991e7ea144c1abaa9917defdc8aaf": {
      "model_module": "@jupyter-widgets/controls",
      "model_module_version": "1.5.0",
      "model_name": "DescriptionStyleModel",
      "state": {
       "description_width": ""
      }
     },
     "a775cfeae67c431d84c107b57675ee5d": {
      "model_module": "jupyter-leaflet",
      "model_module_version": "^0.16.0",
      "model_name": "LeafletTileLayerModel",
      "state": {
       "_model_module_version": "^0.16.0",
       "_view_module_version": "^0.16.0",
       "attribution": "Map tiles by Stamen Design, CC BY 3.0 -- Map data (C) OpenStreetMap contributors",
       "max_native_zoom": 18,
       "max_zoom": 20,
       "min_native_zoom": 0,
       "name": "Stamen.TopOSMRelief",
       "options": [
        "attribution",
        "bounds",
        "detect_retina",
        "max_native_zoom",
        "max_zoom",
        "min_native_zoom",
        "min_zoom",
        "no_wrap",
        "tile_size",
        "tms"
       ],
       "url": "https://stamen-tiles-a.a.ssl.fastly.net/toposm-color-relief/{z}/{x}/{y}.jpg"
      }
     },
     "a8b63ecc41624781aea24c056ccb26e8": {
      "model_module": "@jupyter-widgets/controls",
      "model_module_version": "1.5.0",
      "model_name": "AccordionModel",
      "state": {
       "_titles": {
        "0": "Shoreline Data"
       },
       "children": [
        "IPY_MODEL_2cb80705679b41b8b0df4f70272bb54e"
       ],
       "layout": "IPY_MODEL_95dd1842a60141b9873f4e87952aeefe"
      }
     },
     "aa80c4ec7704421b8b57a382a066caf9": {
      "model_module": "jupyter-leaflet",
      "model_module_version": "^0.16.0",
      "model_name": "LeafletLayersControlModel",
      "state": {
       "_model_module_version": "^0.16.0",
       "_view_module_version": "^0.16.0",
       "options": [
        "position"
       ],
       "position": "topright"
      }
     },
     "aa86b9f5f0db4674ba8624da13239812": {
      "model_module": "jupyter-leaflet",
      "model_module_version": "^0.16.0",
      "model_name": "LeafletTileLayerModel",
      "state": {
       "_model_module_version": "^0.16.0",
       "_view_module_version": "^0.16.0",
       "attribution": "Tiles (C) Esri -- Esri, DeLorme, NAVTEQ, TomTom, Intermap, iPC, USGS, FAO, NPS, NRCAN, GeoBase, Kadaster NL, Ordnance Survey, Esri Japan, METI, Esri China (Hong Kong), and the GIS User Community",
       "max_native_zoom": 18,
       "max_zoom": 22,
       "min_native_zoom": 0,
       "name": "Esri.WorldTopoMap",
       "options": [
        "attribution",
        "bounds",
        "detect_retina",
        "max_native_zoom",
        "max_zoom",
        "min_native_zoom",
        "min_zoom",
        "no_wrap",
        "tile_size",
        "tms"
       ],
       "url": "https://server.arcgisonline.com/ArcGIS/rest/services/World_Topo_Map/MapServer/tile/{z}/{y}/{x}"
      }
     },
     "ab57df0602eb4a9c8d85fff865f76436": {
      "model_module": "jupyter-leaflet",
      "model_module_version": "^0.16.0",
      "model_name": "LeafletTileLayerModel",
      "state": {
       "_model_module_version": "^0.16.0",
       "_view_module_version": "^0.16.0",
       "attribution": "&copy; <a href=\"http://www.gaode.com/\">Gaode.com</a>",
       "max_native_zoom": 18,
       "max_zoom": 19,
       "min_native_zoom": 0,
       "name": "Gaode.Normal",
       "options": [
        "attribution",
        "bounds",
        "detect_retina",
        "max_native_zoom",
        "max_zoom",
        "min_native_zoom",
        "min_zoom",
        "no_wrap",
        "tile_size",
        "tms"
       ],
       "url": "http://webrd01.is.autonavi.com/appmaptile?lang=zh_cn&size=1&scale=1&style=7&x={x}&y={y}&z={z}"
      }
     },
     "abc36a0008d04941b60ba366091971a7": {
      "model_module": "jupyter-leaflet",
      "model_module_version": "^0.16.0",
      "model_name": "LeafletWMSLayerModel",
      "state": {
       "_model_module_version": "^0.16.0",
       "_view_module_version": "^0.16.0",
       "attribution": "MRLC",
       "crs": {
        "custom": false,
        "name": "EPSG3857"
       },
       "format": "image/png",
       "layers": "NLCD_2016_Land_Cover_L48",
       "max_native_zoom": 18,
       "min_native_zoom": 0,
       "name": "NLCD 2016 CONUS Land Cover",
       "options": [
        "attribution",
        "bounds",
        "detect_retina",
        "format",
        "layers",
        "max_native_zoom",
        "max_zoom",
        "min_native_zoom",
        "min_zoom",
        "no_wrap",
        "styles",
        "tile_size",
        "tms",
        "transparent",
        "uppercase"
       ],
       "transparent": true,
       "url": "https://www.mrlc.gov/geoserver/mrlc_display/NLCD_2016_Land_Cover_L48/wms?"
      }
     },
     "ac5af71b01d94240bc5eb822203fd043": {
      "model_module": "jupyter-leaflet",
      "model_module_version": "^0.16.0",
      "model_name": "LeafletTileLayerModel",
      "state": {
       "_model_module_version": "^0.16.0",
       "_view_module_version": "^0.16.0",
       "attribution": "Imagery provided by services from the Global Imagery Browse Services (GIBS), operated by the NASA/GSFC/Earth Science Data and Information System (ESDIS) with funding provided by NASA/HQ.",
       "max_native_zoom": 18,
       "max_zoom": 9,
       "min_native_zoom": 0,
       "name": "NASAGIBS.ModisTerraBands721CR",
       "options": [
        "attribution",
        "bounds",
        "detect_retina",
        "max_native_zoom",
        "max_zoom",
        "min_native_zoom",
        "min_zoom",
        "no_wrap",
        "tile_size",
        "tms"
       ],
       "url": "https://gibs.earthdata.nasa.gov/wmts/epsg3857/best/MODIS_Terra_CorrectedReflectance_Bands721/default//GoogleMapsCompatible_Level9/{z}/{y}/{x}.jpg"
      }
     },
     "add7fda6d57c48f5a15dfd1e083d00c0": {
      "model_module": "@jupyter-widgets/base",
      "model_module_version": "1.2.0",
      "model_name": "LayoutModel",
      "state": {}
     },
     "ae31f566eac74bfc88a77e994fe7af96": {
      "model_module": "jupyter-leaflet",
      "model_module_version": "^0.16.0",
      "model_name": "LeafletTileLayerModel",
      "state": {
       "_model_module_version": "^0.16.0",
       "_view_module_version": "^0.16.0",
       "attribution": "Tiles &copy; Esri &mdash; Esri, DeLorme, NAVTEQ, TomTom, Intermap, iPC, USGS, FAO, NPS, NRCAN, GeoBase, Kadaster NL, Ordnance Survey, Esri Japan, METI, Esri China (Hong Kong), and the GIS User Community",
       "max_native_zoom": 18,
       "max_zoom": 24,
       "min_native_zoom": 0,
       "name": "Esri.ArcticOceanBase",
       "options": [
        "attribution",
        "bounds",
        "detect_retina",
        "max_native_zoom",
        "max_zoom",
        "min_native_zoom",
        "min_zoom",
        "no_wrap",
        "tile_size",
        "tms"
       ],
       "url": "http://server.arcgisonline.com/ArcGIS/rest/services/Polar/Arctic_Ocean_Base/MapServer/tile/{z}/{y}/{x}"
      }
     },
     "ae6cacdd20bf4183b447e6bd10286640": {
      "model_module": "jupyter-leaflet",
      "model_module_version": "^0.16.0",
      "model_name": "LeafletTileLayerModel",
      "state": {
       "_model_module_version": "^0.16.0",
       "_view_module_version": "^0.16.0",
       "attribution": "![](https://docs.onemap.sg/maps/images/oneMap64-01.png) New OneMap | Map data (C) contributors, Singapore Land Authority",
       "max_native_zoom": 18,
       "min_native_zoom": 0,
       "name": "OneMapSG.Default",
       "options": [
        "attribution",
        "bounds",
        "detect_retina",
        "max_native_zoom",
        "max_zoom",
        "min_native_zoom",
        "min_zoom",
        "no_wrap",
        "tile_size",
        "tms"
       ],
       "url": "https://maps-a.onemap.sg/v3/Default/{z}/{x}/{y}.png"
      }
     },
     "af55e190097b4eac9715437969f245a3": {
      "model_module": "jupyter-leaflet",
      "model_module_version": "^0.16.0",
      "model_name": "LeafletTileLayerModel",
      "state": {
       "_model_module_version": "^0.16.0",
       "_view_module_version": "^0.16.0",
       "attribution": "Map tiles by Stamen Design, CC BY 3.0 -- Map data (C) OpenStreetMap contributors",
       "max_native_zoom": 18,
       "min_native_zoom": 0,
       "name": "Stamen.TerrainBackground",
       "options": [
        "attribution",
        "bounds",
        "detect_retina",
        "max_native_zoom",
        "max_zoom",
        "min_native_zoom",
        "min_zoom",
        "no_wrap",
        "tile_size",
        "tms"
       ],
       "url": "https://stamen-tiles-a.a.ssl.fastly.net/terrain-background/{z}/{x}/{y}.png"
      }
     },
     "af766195c33149e1a5b3902fe2635d2f": {
      "model_module": "jupyter-leaflet",
      "model_module_version": "^0.16.0",
      "model_name": "LeafletTileLayerModel",
      "state": {
       "_model_module_version": "^0.16.0",
       "_view_module_version": "^0.16.0",
       "attribution": "![](https://docs.onemap.sg/maps/images/oneMap64-01.png) New OneMap | Map data (C) contributors, Singapore Land Authority",
       "max_native_zoom": 18,
       "min_native_zoom": 0,
       "name": "OneMapSG.Grey",
       "options": [
        "attribution",
        "bounds",
        "detect_retina",
        "max_native_zoom",
        "max_zoom",
        "min_native_zoom",
        "min_zoom",
        "no_wrap",
        "tile_size",
        "tms"
       ],
       "url": "https://maps-a.onemap.sg/v3/Grey/{z}/{x}/{y}.png"
      }
     },
     "b0bfd4c5b51c455fb85b375ad5eeecb5": {
      "model_module": "jupyter-leaflet",
      "model_module_version": "^0.16.0",
      "model_name": "LeafletTileLayerModel",
      "state": {
       "_model_module_version": "^0.16.0",
       "_view_module_version": "^0.16.0",
       "attribution": "Tiles courtesy of the U.S. Geological Survey",
       "max_native_zoom": 18,
       "max_zoom": 20,
       "min_native_zoom": 0,
       "name": "USGS.USImageryTopo",
       "options": [
        "attribution",
        "bounds",
        "detect_retina",
        "max_native_zoom",
        "max_zoom",
        "min_native_zoom",
        "min_zoom",
        "no_wrap",
        "tile_size",
        "tms"
       ],
       "url": "https://basemap.nationalmap.gov/arcgis/rest/services/USGSImageryTopo/MapServer/tile/{z}/{y}/{x}"
      }
     },
     "b159a56d906c400dbac5a936dd5fb7ca": {
      "model_module": "@jupyter-widgets/controls",
      "model_module_version": "1.5.0",
      "model_name": "DatePickerModel",
      "state": {
       "description": "Start Date",
       "disabled": false,
       "layout": "IPY_MODEL_cc4814b39f924c319f136edbab4eb238",
       "style": "IPY_MODEL_18a1fa362c3541ad8c3fe258b41078a6",
       "value": {
        "date": 1,
        "month": 11,
        "year": 2018
       }
      }
     },
     "b3a7fb01c6104fb99a7fa2145aa993f0": {
      "model_module": "jupyter-leaflet",
      "model_module_version": "^0.16.0",
      "model_name": "LeafletTileLayerModel",
      "state": {
       "_model_module_version": "^0.16.0",
       "_view_module_version": "^0.16.0",
       "attribution": "Imagery provided by services from the Global Imagery Browse Services (GIBS), operated by the NASA/GSFC/Earth Science Data and Information System (ESDIS) with funding provided by NASA/HQ.",
       "max_native_zoom": 18,
       "max_zoom": 5,
       "min_native_zoom": 0,
       "name": "NASAGIBS.BlueMarble3413",
       "options": [
        "attribution",
        "bounds",
        "detect_retina",
        "max_native_zoom",
        "max_zoom",
        "min_native_zoom",
        "min_zoom",
        "no_wrap",
        "tile_size",
        "tms"
       ],
       "url": "https://gibs.earthdata.nasa.gov/wmts/epsg3413/best/BlueMarble_NextGeneration/default/EPSG3413_500m/{z}/{y}/{x}.jpeg"
      }
     },
     "b3a9ffa233db4da6884a18d2a00a4920": {
      "model_module": "jupyter-leaflet",
      "model_module_version": "^0.16.0",
      "model_name": "LeafletGeoJSONModel",
      "state": {
       "_model_module_version": "^0.16.0",
       "_view_module_version": "^0.16.0",
       "data": {
        "features": [
         {
          "geometry": {
           "coordinates": [
            [
             [
              -121.499183,
              35.948766000000006
             ],
             [
              -121.499183,
              35.98511884157137
             ],
             [
              -121.45426723579402,
              35.98511884157137
             ],
             [
              -121.45426723579402,
              35.948766000000006
             ],
             [
              -121.499183,
              35.948766000000006
             ]
            ]
           ],
           "type": "Polygon"
          },
          "id": "0",
          "properties": {
           "CHLOROPHYLL": 0.745658,
           "CSU_Descriptor": "steeply sloping, straight, medium erodibility, warm temperate dry, low river discharge, moderately high wave energy, moderately tidal, euhaline-oxic-moderate to cool, clear, low chlorophyll",
           "CSU_ID": 62193,
           "Cluster": 6,
           "EMU_PHYSICAL": "Euhaline-Oxic-Moderate to Cool",
           "ERODIBILITY": "Medium",
           "GHM": 0.087836,
           "LENGTH_GEO": 807.4531709005562,
           "MAX_SLOPE": 85.808085,
           "MEAN_SIG_WAVEHEIGHT": 2.048518,
           "MasterKey": 2753667,
           "OBJECTID": 2753667,
           "OUTFLOW_DENSITY": 8671.790039,
           "OUTFLOW_DENSITY_RESCALED": 1.0484883786709782e-05,
           "REGIONAL_SINUOSITY": 1.140924,
           "RandomSort": 2294754.8667599,
           "Shape_Length": 0.007722909838959558,
           "TEMP_MOISTURE": "Warm Temperate Dry",
           "TIDAL_RANGE": 2.410373,
           "TURBIDITY": 0.024533,
           "chl_label": "low chlorophyll",
           "id": 0,
           "index_right": 6,
           "river_label": "low river discharge",
           "sinuosity_label": "straight",
           "slope_label": "steeply sloping",
           "style": {
            "color": "black",
            "fillColor": "grey",
            "fillOpacity": 0.1,
            "weight": 3
           },
           "tidal_label": "moderately tidal",
           "turbid_label": "clear",
           "wave_label": "moderately high wave energy"
          },
          "type": "Feature"
         },
         {
          "geometry": {
           "coordinates": [
            [
             [
              -121.499183,
              35.948766000000006
             ],
             [
              -121.499183,
              35.98511884157137
             ],
             [
              -121.45426723579402,
              35.98511884157137
             ],
             [
              -121.45426723579402,
              35.948766000000006
             ],
             [
              -121.499183,
              35.948766000000006
             ]
            ]
           ],
           "type": "Polygon"
          },
          "id": "0",
          "properties": {
           "CHLOROPHYLL": 0.745658,
           "CSU_Descriptor": "steeply sloping, straight, medium erodibility, warm temperate dry, low river discharge, moderately high wave energy, moderately tidal, euhaline-oxic-moderate to cool, clear, low chlorophyll",
           "CSU_ID": 62193,
           "Cluster": 6,
           "EMU_PHYSICAL": "Euhaline-Oxic-Moderate to Cool",
           "ERODIBILITY": "Medium",
           "GHM": 0.087836,
           "LENGTH_GEO": 807.4531709005562,
           "MAX_SLOPE": 85.808085,
           "MEAN_SIG_WAVEHEIGHT": 2.048518,
           "MasterKey": 2753667,
           "OBJECTID": 2753667,
           "OUTFLOW_DENSITY": 8671.790039,
           "OUTFLOW_DENSITY_RESCALED": 1.0484883786709782e-05,
           "REGIONAL_SINUOSITY": 1.140924,
           "RandomSort": 2294754.8667599,
           "Shape_Length": 0.007722909838959558,
           "TEMP_MOISTURE": "Warm Temperate Dry",
           "TIDAL_RANGE": 2.410373,
           "TURBIDITY": 0.024533,
           "chl_label": "low chlorophyll",
           "id": 1,
           "index_right": 13,
           "river_label": "low river discharge",
           "sinuosity_label": "straight",
           "slope_label": "steeply sloping",
           "style": {
            "color": "black",
            "fillColor": "grey",
            "fillOpacity": 0.1,
            "weight": 3
           },
           "tidal_label": "moderately tidal",
           "turbid_label": "clear",
           "wave_label": "moderately high wave energy"
          },
          "type": "Feature"
         },
         {
          "geometry": {
           "coordinates": [
            [
             [
              -121.499183,
              35.948766000000006
             ],
             [
              -121.499183,
              35.98511884157137
             ],
             [
              -121.45426723579402,
              35.98511884157137
             ],
             [
              -121.45426723579402,
              35.948766000000006
             ],
             [
              -121.499183,
              35.948766000000006
             ]
            ]
           ],
           "type": "Polygon"
          },
          "id": "0",
          "properties": {
           "CHLOROPHYLL": 0.745658,
           "CSU_Descriptor": "steeply sloping, straight, medium erodibility, warm temperate dry, low river discharge, moderately high wave energy, moderately tidal, euhaline-oxic-moderate to cool, clear, low chlorophyll",
           "CSU_ID": 62193,
           "Cluster": 6,
           "EMU_PHYSICAL": "Euhaline-Oxic-Moderate to Cool",
           "ERODIBILITY": "Medium",
           "GHM": 0.07846,
           "LENGTH_GEO": 806.9387475584981,
           "MAX_SLOPE": 145.37477,
           "MEAN_SIG_WAVEHEIGHT": 2.048518,
           "MasterKey": 2753668,
           "OBJECTID": 2753668,
           "OUTFLOW_DENSITY": 8671.790039,
           "OUTFLOW_DENSITY_RESCALED": 1.0484883786709782e-05,
           "REGIONAL_SINUOSITY": 1.140924,
           "RandomSort": 2889544.3674485,
           "Shape_Length": 0.007431263967270191,
           "TEMP_MOISTURE": "Warm Temperate Dry",
           "TIDAL_RANGE": 2.410373,
           "TURBIDITY": 0.024533,
           "chl_label": "low chlorophyll",
           "id": 2,
           "index_right": 5,
           "river_label": "low river discharge",
           "sinuosity_label": "straight",
           "slope_label": "steeply sloping",
           "style": {
            "color": "black",
            "fillColor": "grey",
            "fillOpacity": 0.1,
            "weight": 3
           },
           "tidal_label": "moderately tidal",
           "turbid_label": "clear",
           "wave_label": "moderately high wave energy"
          },
          "type": "Feature"
         },
         {
          "geometry": {
           "coordinates": [
            [
             [
              -121.499183,
              35.948766000000006
             ],
             [
              -121.499183,
              35.98511884157137
             ],
             [
              -121.45426723579402,
              35.98511884157137
             ],
             [
              -121.45426723579402,
              35.948766000000006
             ],
             [
              -121.499183,
              35.948766000000006
             ]
            ]
           ],
           "type": "Polygon"
          },
          "id": "0",
          "properties": {
           "CHLOROPHYLL": 0.745658,
           "CSU_Descriptor": "steeply sloping, straight, medium erodibility, warm temperate dry, low river discharge, moderately high wave energy, moderately tidal, euhaline-oxic-moderate to cool, clear, low chlorophyll",
           "CSU_ID": 62193,
           "Cluster": 6,
           "EMU_PHYSICAL": "Euhaline-Oxic-Moderate to Cool",
           "ERODIBILITY": "Medium",
           "GHM": 0.07846,
           "LENGTH_GEO": 806.9387475584981,
           "MAX_SLOPE": 145.37477,
           "MEAN_SIG_WAVEHEIGHT": 2.048518,
           "MasterKey": 2753668,
           "OBJECTID": 2753668,
           "OUTFLOW_DENSITY": 8671.790039,
           "OUTFLOW_DENSITY_RESCALED": 1.0484883786709782e-05,
           "REGIONAL_SINUOSITY": 1.140924,
           "RandomSort": 2889544.3674485,
           "Shape_Length": 0.007431263967270191,
           "TEMP_MOISTURE": "Warm Temperate Dry",
           "TIDAL_RANGE": 2.410373,
           "TURBIDITY": 0.024533,
           "chl_label": "low chlorophyll",
           "id": 3,
           "index_right": 12,
           "river_label": "low river discharge",
           "sinuosity_label": "straight",
           "slope_label": "steeply sloping",
           "style": {
            "color": "black",
            "fillColor": "grey",
            "fillOpacity": 0.1,
            "weight": 3
           },
           "tidal_label": "moderately tidal",
           "turbid_label": "clear",
           "wave_label": "moderately high wave energy"
          },
          "type": "Feature"
         },
         {
          "geometry": {
           "coordinates": [
            [
             [
              -121.499183,
              35.948766000000006
             ],
             [
              -121.499183,
              35.98511884157137
             ],
             [
              -121.45426723579402,
              35.98511884157137
             ],
             [
              -121.45426723579402,
              35.948766000000006
             ],
             [
              -121.499183,
              35.948766000000006
             ]
            ]
           ],
           "type": "Polygon"
          },
          "id": "0",
          "properties": {
           "CHLOROPHYLL": 2.417483,
           "CSU_Descriptor": "steeply sloping, straight, medium erodibility, warm temperate dry, low river discharge, moderately high wave energy, moderately tidal, euhaline-oxic-moderate to cool, clear, moderate chlorophyll",
           "CSU_ID": 70983,
           "Cluster": 6,
           "EMU_PHYSICAL": "Euhaline-Oxic-Moderate to Cool",
           "ERODIBILITY": "Medium",
           "GHM": 0.07846,
           "LENGTH_GEO": 807.8075295292983,
           "MAX_SLOPE": 101.129009,
           "MEAN_SIG_WAVEHEIGHT": 2.048518,
           "MasterKey": 2753669,
           "OBJECTID": 2753669,
           "OUTFLOW_DENSITY": 8671.790039,
           "OUTFLOW_DENSITY_RESCALED": 1.0484883786709782e-05,
           "REGIONAL_SINUOSITY": 1.140924,
           "RandomSort": 2587799.74709916,
           "Shape_Length": 0.007835060322611005,
           "TEMP_MOISTURE": "Warm Temperate Dry",
           "TIDAL_RANGE": 2.410373,
           "TURBIDITY": 0.024533,
           "chl_label": "moderate chlorophyll",
           "id": 4,
           "index_right": 4,
           "river_label": "low river discharge",
           "sinuosity_label": "straight",
           "slope_label": "steeply sloping",
           "style": {
            "color": "black",
            "fillColor": "grey",
            "fillOpacity": 0.1,
            "weight": 3
           },
           "tidal_label": "moderately tidal",
           "turbid_label": "clear",
           "wave_label": "moderately high wave energy"
          },
          "type": "Feature"
         },
         {
          "geometry": {
           "coordinates": [
            [
             [
              -121.499183,
              35.948766000000006
             ],
             [
              -121.499183,
              35.98511884157137
             ],
             [
              -121.45426723579402,
              35.98511884157137
             ],
             [
              -121.45426723579402,
              35.948766000000006
             ],
             [
              -121.499183,
              35.948766000000006
             ]
            ]
           ],
           "type": "Polygon"
          },
          "id": "0",
          "properties": {
           "CHLOROPHYLL": 2.417483,
           "CSU_Descriptor": "steeply sloping, straight, medium erodibility, warm temperate dry, low river discharge, moderately high wave energy, moderately tidal, euhaline-oxic-moderate to cool, clear, moderate chlorophyll",
           "CSU_ID": 70983,
           "Cluster": 6,
           "EMU_PHYSICAL": "Euhaline-Oxic-Moderate to Cool",
           "ERODIBILITY": "Medium",
           "GHM": 0.07846,
           "LENGTH_GEO": 807.8075295292983,
           "MAX_SLOPE": 101.129009,
           "MEAN_SIG_WAVEHEIGHT": 2.048518,
           "MasterKey": 2753669,
           "OBJECTID": 2753669,
           "OUTFLOW_DENSITY": 8671.790039,
           "OUTFLOW_DENSITY_RESCALED": 1.0484883786709782e-05,
           "REGIONAL_SINUOSITY": 1.140924,
           "RandomSort": 2587799.74709916,
           "Shape_Length": 0.007835060322611005,
           "TEMP_MOISTURE": "Warm Temperate Dry",
           "TIDAL_RANGE": 2.410373,
           "TURBIDITY": 0.024533,
           "chl_label": "moderate chlorophyll",
           "id": 5,
           "index_right": 11,
           "river_label": "low river discharge",
           "sinuosity_label": "straight",
           "slope_label": "steeply sloping",
           "style": {
            "color": "black",
            "fillColor": "grey",
            "fillOpacity": 0.1,
            "weight": 3
           },
           "tidal_label": "moderately tidal",
           "turbid_label": "clear",
           "wave_label": "moderately high wave energy"
          },
          "type": "Feature"
         },
         {
          "geometry": {
           "coordinates": [
            [
             [
              -121.499183,
              35.948766000000006
             ],
             [
              -121.499183,
              35.98511884157137
             ],
             [
              -121.45426723579402,
              35.98511884157137
             ],
             [
              -121.45426723579402,
              35.948766000000006
             ],
             [
              -121.499183,
              35.948766000000006
             ]
            ]
           ],
           "type": "Polygon"
          },
          "id": "0",
          "properties": {
           "CHLOROPHYLL": 2.417483,
           "CSU_Descriptor": "steeply sloping, straight, medium erodibility, warm temperate dry, low river discharge, moderately high wave energy, moderately tidal, euhaline-oxic-moderate to cool, clear, moderate chlorophyll",
           "CSU_ID": 70983,
           "Cluster": 6,
           "EMU_PHYSICAL": "Euhaline-Oxic-Moderate to Cool",
           "ERODIBILITY": "Medium",
           "GHM": 0.079536,
           "LENGTH_GEO": 806.9668982495567,
           "MAX_SLOPE": 112.521721,
           "MEAN_SIG_WAVEHEIGHT": 2.048518,
           "MasterKey": 2753670,
           "OBJECTID": 2753670,
           "OUTFLOW_DENSITY": 8671.790039,
           "OUTFLOW_DENSITY_RESCALED": 1.0484883786709782e-05,
           "REGIONAL_SINUOSITY": 1.264366,
           "RandomSort": 1883173.48792284,
           "Shape_Length": 0.00737837202950731,
           "TEMP_MOISTURE": "Warm Temperate Dry",
           "TIDAL_RANGE": 2.410373,
           "TURBIDITY": 0.04265,
           "chl_label": "moderate chlorophyll",
           "id": 6,
           "index_right": 3,
           "river_label": "low river discharge",
           "sinuosity_label": "straight",
           "slope_label": "steeply sloping",
           "style": {
            "color": "black",
            "fillColor": "grey",
            "fillOpacity": 0.1,
            "weight": 3
           },
           "tidal_label": "moderately tidal",
           "turbid_label": "clear",
           "wave_label": "moderately high wave energy"
          },
          "type": "Feature"
         },
         {
          "geometry": {
           "coordinates": [
            [
             [
              -121.499183,
              35.948766000000006
             ],
             [
              -121.499183,
              35.98511884157137
             ],
             [
              -121.45426723579402,
              35.98511884157137
             ],
             [
              -121.45426723579402,
              35.948766000000006
             ],
             [
              -121.499183,
              35.948766000000006
             ]
            ]
           ],
           "type": "Polygon"
          },
          "id": "0",
          "properties": {
           "CHLOROPHYLL": 2.417483,
           "CSU_Descriptor": "steeply sloping, straight, medium erodibility, warm temperate dry, low river discharge, moderately high wave energy, moderately tidal, euhaline-oxic-moderate to cool, clear, moderate chlorophyll",
           "CSU_ID": 70983,
           "Cluster": 6,
           "EMU_PHYSICAL": "Euhaline-Oxic-Moderate to Cool",
           "ERODIBILITY": "Medium",
           "GHM": 0.079536,
           "LENGTH_GEO": 806.9668982495567,
           "MAX_SLOPE": 112.521721,
           "MEAN_SIG_WAVEHEIGHT": 2.048518,
           "MasterKey": 2753670,
           "OBJECTID": 2753670,
           "OUTFLOW_DENSITY": 8671.790039,
           "OUTFLOW_DENSITY_RESCALED": 1.0484883786709782e-05,
           "REGIONAL_SINUOSITY": 1.264366,
           "RandomSort": 1883173.48792284,
           "Shape_Length": 0.00737837202950731,
           "TEMP_MOISTURE": "Warm Temperate Dry",
           "TIDAL_RANGE": 2.410373,
           "TURBIDITY": 0.04265,
           "chl_label": "moderate chlorophyll",
           "id": 7,
           "index_right": 10,
           "river_label": "low river discharge",
           "sinuosity_label": "straight",
           "slope_label": "steeply sloping",
           "style": {
            "color": "black",
            "fillColor": "grey",
            "fillOpacity": 0.1,
            "weight": 3
           },
           "tidal_label": "moderately tidal",
           "turbid_label": "clear",
           "wave_label": "moderately high wave energy"
          },
          "type": "Feature"
         },
         {
          "geometry": {
           "coordinates": [
            [
             [
              -121.499183,
              35.948766000000006
             ],
             [
              -121.499183,
              35.98511884157137
             ],
             [
              -121.45426723579402,
              35.98511884157137
             ],
             [
              -121.45426723579402,
              35.948766000000006
             ],
             [
              -121.499183,
              35.948766000000006
             ]
            ]
           ],
           "type": "Polygon"
          },
          "id": "0",
          "properties": {
           "CHLOROPHYLL": 2.417483,
           "CSU_Descriptor": "steeply sloping, straight, medium erodibility, warm temperate dry, low river discharge, moderately high wave energy, moderately tidal, euhaline-oxic-moderate to cool, clear, moderate chlorophyll",
           "CSU_ID": 70983,
           "Cluster": 6,
           "EMU_PHYSICAL": "Euhaline-Oxic-Moderate to Cool",
           "ERODIBILITY": "Medium",
           "GHM": 0.122187,
           "LENGTH_GEO": 807.6925181457625,
           "MAX_SLOPE": 169.244502,
           "MEAN_SIG_WAVEHEIGHT": 2.048518,
           "MasterKey": 2753671,
           "OBJECTID": 2753671,
           "OUTFLOW_DENSITY": 8671.790039,
           "OUTFLOW_DENSITY_RESCALED": 1.0484883786709782e-05,
           "REGIONAL_SINUOSITY": 1.264366,
           "RandomSort": 2346750.87926763,
           "Shape_Length": 0.007712317963516704,
           "TEMP_MOISTURE": "Warm Temperate Dry",
           "TIDAL_RANGE": 2.410373,
           "TURBIDITY": 0.04265,
           "chl_label": "moderate chlorophyll",
           "id": 8,
           "index_right": 2,
           "river_label": "low river discharge",
           "sinuosity_label": "straight",
           "slope_label": "steeply sloping",
           "style": {
            "color": "black",
            "fillColor": "grey",
            "fillOpacity": 0.1,
            "weight": 3
           },
           "tidal_label": "moderately tidal",
           "turbid_label": "clear",
           "wave_label": "moderately high wave energy"
          },
          "type": "Feature"
         },
         {
          "geometry": {
           "coordinates": [
            [
             [
              -121.499183,
              35.948766000000006
             ],
             [
              -121.499183,
              35.98511884157137
             ],
             [
              -121.45426723579402,
              35.98511884157137
             ],
             [
              -121.45426723579402,
              35.948766000000006
             ],
             [
              -121.499183,
              35.948766000000006
             ]
            ]
           ],
           "type": "Polygon"
          },
          "id": "0",
          "properties": {
           "CHLOROPHYLL": 2.417483,
           "CSU_Descriptor": "steeply sloping, straight, medium erodibility, warm temperate dry, low river discharge, moderately high wave energy, moderately tidal, euhaline-oxic-moderate to cool, clear, moderate chlorophyll",
           "CSU_ID": 70983,
           "Cluster": 6,
           "EMU_PHYSICAL": "Euhaline-Oxic-Moderate to Cool",
           "ERODIBILITY": "Medium",
           "GHM": 0.122187,
           "LENGTH_GEO": 807.6925181457625,
           "MAX_SLOPE": 169.244502,
           "MEAN_SIG_WAVEHEIGHT": 2.048518,
           "MasterKey": 2753671,
           "OBJECTID": 2753671,
           "OUTFLOW_DENSITY": 8671.790039,
           "OUTFLOW_DENSITY_RESCALED": 1.0484883786709782e-05,
           "REGIONAL_SINUOSITY": 1.264366,
           "RandomSort": 2346750.87926763,
           "Shape_Length": 0.007712317963516704,
           "TEMP_MOISTURE": "Warm Temperate Dry",
           "TIDAL_RANGE": 2.410373,
           "TURBIDITY": 0.04265,
           "chl_label": "moderate chlorophyll",
           "id": 9,
           "index_right": 9,
           "river_label": "low river discharge",
           "sinuosity_label": "straight",
           "slope_label": "steeply sloping",
           "style": {
            "color": "black",
            "fillColor": "grey",
            "fillOpacity": 0.1,
            "weight": 3
           },
           "tidal_label": "moderately tidal",
           "turbid_label": "clear",
           "wave_label": "moderately high wave energy"
          },
          "type": "Feature"
         },
         {
          "geometry": {
           "coordinates": [
            [
             [
              -121.499183,
              35.948766000000006
             ],
             [
              -121.499183,
              35.98511884157137
             ],
             [
              -121.45426723579402,
              35.98511884157137
             ],
             [
              -121.45426723579402,
              35.948766000000006
             ],
             [
              -121.499183,
              35.948766000000006
             ]
            ]
           ],
           "type": "Polygon"
          },
          "id": "0",
          "properties": {
           "CHLOROPHYLL": 2.417483,
           "CSU_Descriptor": "steeply sloping, straight, medium erodibility, warm temperate dry, low river discharge, moderately high wave energy, moderately tidal, euhaline-oxic-moderate to cool, clear, moderate chlorophyll",
           "CSU_ID": 70983,
           "Cluster": 6,
           "EMU_PHYSICAL": "Euhaline-Oxic-Moderate to Cool",
           "ERODIBILITY": "Medium",
           "GHM": 0.017632,
           "LENGTH_GEO": 808.378891753725,
           "MAX_SLOPE": 73.403643,
           "MEAN_SIG_WAVEHEIGHT": 2.048518,
           "MasterKey": 2753672,
           "OBJECTID": 2753672,
           "OUTFLOW_DENSITY": 8671.790039,
           "OUTFLOW_DENSITY_RESCALED": 1.0484883786709782e-05,
           "REGIONAL_SINUOSITY": 1.264366,
           "RandomSort": 1325819.97657637,
           "Shape_Length": 0.00801083212152467,
           "TEMP_MOISTURE": "Warm Temperate Dry",
           "TIDAL_RANGE": 2.410373,
           "TURBIDITY": 0.04265,
           "chl_label": "moderate chlorophyll",
           "id": 10,
           "index_right": 1,
           "river_label": "low river discharge",
           "sinuosity_label": "straight",
           "slope_label": "steeply sloping",
           "style": {
            "color": "black",
            "fillColor": "grey",
            "fillOpacity": 0.1,
            "weight": 3
           },
           "tidal_label": "moderately tidal",
           "turbid_label": "clear",
           "wave_label": "moderately high wave energy"
          },
          "type": "Feature"
         },
         {
          "geometry": {
           "coordinates": [
            [
             [
              -121.499183,
              35.948766000000006
             ],
             [
              -121.499183,
              35.98511884157137
             ],
             [
              -121.45426723579402,
              35.98511884157137
             ],
             [
              -121.45426723579402,
              35.948766000000006
             ],
             [
              -121.499183,
              35.948766000000006
             ]
            ]
           ],
           "type": "Polygon"
          },
          "id": "0",
          "properties": {
           "CHLOROPHYLL": 2.417483,
           "CSU_Descriptor": "steeply sloping, straight, medium erodibility, warm temperate dry, low river discharge, moderately high wave energy, moderately tidal, euhaline-oxic-moderate to cool, clear, moderate chlorophyll",
           "CSU_ID": 70983,
           "Cluster": 6,
           "EMU_PHYSICAL": "Euhaline-Oxic-Moderate to Cool",
           "ERODIBILITY": "Medium",
           "GHM": 0.017632,
           "LENGTH_GEO": 808.378891753725,
           "MAX_SLOPE": 73.403643,
           "MEAN_SIG_WAVEHEIGHT": 2.048518,
           "MasterKey": 2753672,
           "OBJECTID": 2753672,
           "OUTFLOW_DENSITY": 8671.790039,
           "OUTFLOW_DENSITY_RESCALED": 1.0484883786709782e-05,
           "REGIONAL_SINUOSITY": 1.264366,
           "RandomSort": 1325819.97657637,
           "Shape_Length": 0.00801083212152467,
           "TEMP_MOISTURE": "Warm Temperate Dry",
           "TIDAL_RANGE": 2.410373,
           "TURBIDITY": 0.04265,
           "chl_label": "moderate chlorophyll",
           "id": 11,
           "index_right": 8,
           "river_label": "low river discharge",
           "sinuosity_label": "straight",
           "slope_label": "steeply sloping",
           "style": {
            "color": "black",
            "fillColor": "grey",
            "fillOpacity": 0.1,
            "weight": 3
           },
           "tidal_label": "moderately tidal",
           "turbid_label": "clear",
           "wave_label": "moderately high wave energy"
          },
          "type": "Feature"
         },
         {
          "geometry": {
           "coordinates": [
            [
             [
              -121.499183,
              35.948766000000006
             ],
             [
              -121.499183,
              35.98511884157137
             ],
             [
              -121.45426723579402,
              35.98511884157137
             ],
             [
              -121.45426723579402,
              35.948766000000006
             ],
             [
              -121.499183,
              35.948766000000006
             ]
            ]
           ],
           "type": "Polygon"
          },
          "id": "0",
          "properties": {
           "CHLOROPHYLL": 0.473221,
           "CSU_Descriptor": "flat, straight, high erodibility, warm temperate dry, low river discharge, moderately high wave energy, moderately tidal, euhaline-oxic-moderate to cool, clear, low chlorophyll",
           "CSU_ID": 9338,
           "Cluster": 6,
           "EMU_PHYSICAL": "Euhaline-Oxic-Moderate to Cool",
           "ERODIBILITY": "High",
           "GHM": 0.017632,
           "LENGTH_GEO": 807.7668384156195,
           "MAX_SLOPE": 3.529753,
           "MEAN_SIG_WAVEHEIGHT": 2.048518,
           "MasterKey": 2753673,
           "OBJECTID": 2753673,
           "OUTFLOW_DENSITY": 8671.790039,
           "OUTFLOW_DENSITY_RESCALED": 1.0484883786709782e-05,
           "REGIONAL_SINUOSITY": 1.264366,
           "RandomSort": 1022958.74682668,
           "Shape_Length": 0.007686713549196647,
           "TEMP_MOISTURE": "Warm Temperate Dry",
           "TIDAL_RANGE": 2.410373,
           "TURBIDITY": 0.04265,
           "chl_label": "low chlorophyll",
           "id": 12,
           "index_right": 0,
           "river_label": "low river discharge",
           "sinuosity_label": "straight",
           "slope_label": "flat",
           "style": {
            "color": "black",
            "fillColor": "grey",
            "fillOpacity": 0.1,
            "weight": 3
           },
           "tidal_label": "moderately tidal",
           "turbid_label": "clear",
           "wave_label": "moderately high wave energy"
          },
          "type": "Feature"
         },
         {
          "geometry": {
           "coordinates": [
            [
             [
              -121.499183,
              35.948766000000006
             ],
             [
              -121.499183,
              35.98511884157137
             ],
             [
              -121.45426723579402,
              35.98511884157137
             ],
             [
              -121.45426723579402,
              35.948766000000006
             ],
             [
              -121.499183,
              35.948766000000006
             ]
            ]
           ],
           "type": "Polygon"
          },
          "id": "0",
          "properties": {
           "CHLOROPHYLL": 0.473221,
           "CSU_Descriptor": "flat, straight, high erodibility, warm temperate dry, low river discharge, moderately high wave energy, moderately tidal, euhaline-oxic-moderate to cool, clear, low chlorophyll",
           "CSU_ID": 9338,
           "Cluster": 6,
           "EMU_PHYSICAL": "Euhaline-Oxic-Moderate to Cool",
           "ERODIBILITY": "High",
           "GHM": 0.017632,
           "LENGTH_GEO": 807.7668384156195,
           "MAX_SLOPE": 3.529753,
           "MEAN_SIG_WAVEHEIGHT": 2.048518,
           "MasterKey": 2753673,
           "OBJECTID": 2753673,
           "OUTFLOW_DENSITY": 8671.790039,
           "OUTFLOW_DENSITY_RESCALED": 1.0484883786709782e-05,
           "REGIONAL_SINUOSITY": 1.264366,
           "RandomSort": 1022958.74682668,
           "Shape_Length": 0.007686713549196647,
           "TEMP_MOISTURE": "Warm Temperate Dry",
           "TIDAL_RANGE": 2.410373,
           "TURBIDITY": 0.04265,
           "chl_label": "low chlorophyll",
           "id": 13,
           "index_right": 7,
           "river_label": "low river discharge",
           "sinuosity_label": "straight",
           "slope_label": "flat",
           "style": {
            "color": "black",
            "fillColor": "grey",
            "fillOpacity": 0.1,
            "weight": 3
           },
           "tidal_label": "moderately tidal",
           "turbid_label": "clear",
           "wave_label": "moderately high wave energy"
          },
          "type": "Feature"
         }
        ],
        "type": "FeatureCollection"
       },
       "hover_style": {
        "color": "crimson",
        "fillColor": "red"
       },
       "name": "GeoJSON data"
      }
     },
     "b42fcbd490684ce788dff49602c44ac5": {
      "model_module": "@jupyter-widgets/controls",
      "model_module_version": "1.5.0",
      "model_name": "ButtonModel",
      "state": {
       "description": "Remove coastline",
       "layout": "IPY_MODEL_350702e039144a3097e04a68a7d95fb1",
       "style": "IPY_MODEL_4418a01ca79a4fdd9c0608c1888e3aac"
      }
     },
     "b52f65355cc24352b4cada75084d0f7d": {
      "model_module": "jupyter-leaflet",
      "model_module_version": "^0.16.0",
      "model_name": "LeafletTileLayerModel",
      "state": {
       "_model_module_version": "^0.16.0",
       "_view_module_version": "^0.16.0",
       "attribution": "(C) OpenStreetMap contributors",
       "max_native_zoom": 18,
       "max_zoom": 19,
       "min_native_zoom": 0,
       "name": "OpenStreetMap.Mapnik",
       "options": [
        "attribution",
        "bounds",
        "detect_retina",
        "max_native_zoom",
        "max_zoom",
        "min_native_zoom",
        "min_zoom",
        "no_wrap",
        "tile_size",
        "tms"
       ],
       "url": "https://a.tile.openstreetmap.org/{z}/{x}/{y}.png"
      }
     },
     "b576d690e41b43359bf67aca61a23663": {
      "model_module": "@jupyter-widgets/base",
      "model_module_version": "1.2.0",
      "model_name": "LayoutModel",
      "state": {}
     },
     "b7e2b22579e9490883792a99e046d861": {
      "model_module": "jupyter-leaflet",
      "model_module_version": "^0.16.0",
      "model_name": "LeafletTileLayerModel",
      "state": {
       "_model_module_version": "^0.16.0",
       "_view_module_version": "^0.16.0",
       "attribution": "Tiles (C) Esri -- Source: Esri",
       "max_native_zoom": 18,
       "max_zoom": 13,
       "min_native_zoom": 0,
       "name": "Esri.WorldShadedRelief",
       "options": [
        "attribution",
        "bounds",
        "detect_retina",
        "max_native_zoom",
        "max_zoom",
        "min_native_zoom",
        "min_zoom",
        "no_wrap",
        "tile_size",
        "tms"
       ],
       "url": "https://server.arcgisonline.com/ArcGIS/rest/services/World_Shaded_Relief/MapServer/tile/{z}/{y}/{x}"
      }
     },
     "b841605f988146ed88dfa2a91a24f506": {
      "model_module": "@jupyter-widgets/base",
      "model_module_version": "1.2.0",
      "model_name": "LayoutModel",
      "state": {}
     },
     "b914f2293ab142f69ef88de9a6c25d42": {
      "model_module": "@jupyter-widgets/controls",
      "model_module_version": "1.5.0",
      "model_name": "HTMLModel",
      "state": {
       "layout": "IPY_MODEL_85be29fdd9854e49b97904dc9dd71435",
       "style": "IPY_MODEL_69ce4bfc1e6d4452b0a6bf56be11f68d",
       "value": "<b>Pick multiple satellites by holding the control key:</b>         <br> - images prior to 2022/01/01 will be downloaded from Collection 1         <br> - images after 2022/01/01 will be automatically downloaded from Collection 2         <br> C01: LandSat Collection 1 : All dates before 2022/01/01        <br> C02: LandSat Collection 2 : All dates after 2022/01/01         <br> - Landsat 9 is only available in C02"
      }
     },
     "ba477ccf2c9a405b9a3d22bd5c3e7ce3": {
      "model_module": "@jupyter-widgets/base",
      "model_module_version": "1.2.0",
      "model_name": "LayoutModel",
      "state": {}
     },
     "bce1d792cdad4197a4183eeaa4cbf83f": {
      "model_module": "@jupyter-widgets/base",
      "model_module_version": "1.2.0",
      "model_name": "LayoutModel",
      "state": {
       "height": "auto",
       "padding": "0px 0px 0px 4px",
       "width": "auto"
      }
     },
     "bce5b306feb04a1182d3d714c09a3572": {
      "model_module": "jupyter-leaflet",
      "model_module_version": "^0.16.0",
      "model_name": "LeafletTileLayerModel",
      "state": {
       "_model_module_version": "^0.16.0",
       "_view_module_version": "^0.16.0",
       "attribution": "Map tiles by Stamen Design, CC BY 3.0 -- Map data (C) OpenStreetMap contributors",
       "max_native_zoom": 18,
       "max_zoom": 20,
       "min_native_zoom": 0,
       "name": "Stamen.Toner",
       "options": [
        "attribution",
        "bounds",
        "detect_retina",
        "max_native_zoom",
        "max_zoom",
        "min_native_zoom",
        "min_zoom",
        "no_wrap",
        "tile_size",
        "tms"
       ],
       "url": "https://stamen-tiles-a.a.ssl.fastly.net/toner/{z}/{x}/{y}.png"
      }
     },
     "bd55e0828c2346adbbee5b3bd6b9faa2": {
      "model_module": "jupyter-leaflet",
      "model_module_version": "^0.16.0",
      "model_name": "LeafletTileLayerModel",
      "state": {
       "_model_module_version": "^0.16.0",
       "_view_module_version": "^0.16.0",
       "attribution": "Tiles &copy; Esri &mdash; Esri, DeLorme, NAVTEQ, TomTom, Intermap, iPC, USGS, FAO, NPS, NRCAN, GeoBase, Kadaster NL, Ordnance Survey, Esri Japan, METI, Esri China (Hong Kong), and the GIS User Community",
       "max_native_zoom": 18,
       "max_zoom": 24,
       "min_native_zoom": 0,
       "name": "Esri.ArcticOceanReference",
       "options": [
        "attribution",
        "bounds",
        "detect_retina",
        "max_native_zoom",
        "max_zoom",
        "min_native_zoom",
        "min_zoom",
        "no_wrap",
        "tile_size",
        "tms"
       ],
       "url": "http://server.arcgisonline.com/ArcGIS/rest/services/Polar/Arctic_Ocean_Reference/MapServer/tile/{z}/{y}/{x}"
      }
     },
     "be7dbd7b00274c44ad8aa6e9726705db": {
      "model_module": "@jupyter-widgets/base",
      "model_module_version": "1.2.0",
      "model_name": "LayoutModel",
      "state": {
       "height": "auto",
       "padding": "0px 0px 0px 4px",
       "width": "auto"
      }
     },
     "bef63f3fd9b4405284851070a4694769": {
      "model_module": "jupyter-leaflet",
      "model_module_version": "^0.16.0",
      "model_name": "LeafletTileLayerModel",
      "state": {
       "_model_module_version": "^0.16.0",
       "_view_module_version": "^0.16.0",
       "attribution": "Justice Map",
       "max_native_zoom": 18,
       "max_zoom": 22,
       "min_native_zoom": 0,
       "name": "JusticeMap.income",
       "options": [
        "attribution",
        "bounds",
        "detect_retina",
        "max_native_zoom",
        "max_zoom",
        "min_native_zoom",
        "min_zoom",
        "no_wrap",
        "tile_size",
        "tms"
       ],
       "url": "https://www.justicemap.org/tile/county/income/{z}/{x}/{y}.png"
      }
     },
     "c0d48d4c59dd4df7bdd789209d5a691d": {
      "model_module": "jupyter-leaflet",
      "model_module_version": "^0.16.0",
      "model_name": "LeafletTileLayerModel",
      "state": {
       "_model_module_version": "^0.16.0",
       "_view_module_version": "^0.16.0",
       "attribution": "Imagery provided by services from the Global Imagery Browse Services (GIBS), operated by the NASA/GSFC/Earth Science Data and Information System (ESDIS) with funding provided by NASA/HQ.",
       "max_native_zoom": 18,
       "max_zoom": 9,
       "min_native_zoom": 0,
       "name": "NASAGIBS.ModisTerraBands367CR",
       "options": [
        "attribution",
        "bounds",
        "detect_retina",
        "max_native_zoom",
        "max_zoom",
        "min_native_zoom",
        "min_zoom",
        "no_wrap",
        "tile_size",
        "tms"
       ],
       "url": "https://map1.vis.earthdata.nasa.gov/wmts-webmerc/MODIS_Terra_CorrectedReflectance_Bands367/default//GoogleMapsCompatible_Level9/{z}/{y}/{x}.jpg"
      }
     },
     "c14f6e111a884d4f83c4aec0f1a31808": {
      "model_module": "jupyter-leaflet",
      "model_module_version": "^0.16.0",
      "model_name": "LeafletWidgetControlModel",
      "state": {
       "_model_module": "jupyter-leaflet",
       "_model_module_version": "^0.16.0",
       "_view_count": null,
       "_view_module": "jupyter-leaflet",
       "_view_module_version": "^0.16.0",
       "options": [
        "position",
        "transparent_bg"
       ],
       "position": "topright",
       "widget": "IPY_MODEL_a8b63ecc41624781aea24c056ccb26e8"
      }
     },
     "c210c35766b44962b1d07819e5e148c9": {
      "model_module": "jupyter-leaflet",
      "model_module_version": "^0.16.0",
      "model_name": "LeafletWMSLayerModel",
      "state": {
       "_model_module_version": "^0.16.0",
       "_view_module_version": "^0.16.0",
       "attribution": "FWS",
       "crs": {
        "custom": false,
        "name": "EPSG3857"
       },
       "format": "image/png",
       "layers": "0",
       "max_native_zoom": 18,
       "min_native_zoom": 0,
       "name": "FWS NWI Wetlands Raster",
       "options": [
        "attribution",
        "bounds",
        "detect_retina",
        "format",
        "layers",
        "max_native_zoom",
        "max_zoom",
        "min_native_zoom",
        "min_zoom",
        "no_wrap",
        "styles",
        "tile_size",
        "tms",
        "transparent",
        "uppercase"
       ],
       "transparent": true,
       "url": "https://www.fws.gov/wetlands/arcgis/services/Wetlands_Raster/ImageServer/WMSServer?"
      }
     },
     "c24af640afcf482e96f3a0f62e138e82": {
      "model_module": "jupyter-leaflet",
      "model_module_version": "^0.16.0",
      "model_name": "LeafletTileLayerModel",
      "state": {
       "_model_module_version": "^0.16.0",
       "_view_module_version": "^0.16.0",
       "attribution": "(C) OpenStreetMap contributors (C) CARTO",
       "max_native_zoom": 18,
       "max_zoom": 20,
       "min_native_zoom": 0,
       "name": "CartoDB.Positron",
       "options": [
        "attribution",
        "bounds",
        "detect_retina",
        "max_native_zoom",
        "max_zoom",
        "min_native_zoom",
        "min_zoom",
        "no_wrap",
        "tile_size",
        "tms"
       ],
       "url": "https://a.basemaps.cartocdn.com/light_all/{z}/{x}/{y}.png"
      }
     },
     "c291347cb7984fa19ca2018da400bcd0": {
      "model_module": "@jupyter-widgets/controls",
      "model_module_version": "1.5.0",
      "model_name": "VBoxModel",
      "state": {
       "children": [
        "IPY_MODEL_b914f2293ab142f69ef88de9a6c25d42",
        "IPY_MODEL_8f9bdb0921e74d09b153e1796d399bb5"
       ],
       "layout": "IPY_MODEL_1a2d3af0f35d49ff8fffbb3906a6f684"
      }
     },
     "c2e9c78e4b8d4131b14ef4452fcd1685": {
      "model_module": "jupyter-leaflet",
      "model_module_version": "^0.16.0",
      "model_name": "LeafletTileLayerModel",
      "state": {
       "_model_module_version": "^0.16.0",
       "_view_module_version": "^0.16.0",
       "attribution": "Tiles (C) Esri -- Source: USGS, Esri, TANA, DeLorme, and NPS",
       "max_native_zoom": 18,
       "max_zoom": 13,
       "min_native_zoom": 0,
       "name": "Esri.WorldTerrain",
       "options": [
        "attribution",
        "bounds",
        "detect_retina",
        "max_native_zoom",
        "max_zoom",
        "min_native_zoom",
        "min_zoom",
        "no_wrap",
        "tile_size",
        "tms"
       ],
       "url": "https://server.arcgisonline.com/ArcGIS/rest/services/World_Terrain_Base/MapServer/tile/{z}/{y}/{x}"
      }
     },
     "c3188b7108bb4469a8d13bfd6ff441bd": {
      "model_module": "jupyter-leaflet",
      "model_module_version": "^0.16.0",
      "model_name": "LeafletGeoJSONModel",
      "state": {
       "_model_module_version": "^0.16.0",
       "_view_module_version": "^0.16.0",
       "data": {
        "features": [
         {
          "geometry": {
           "coordinates": [
            [
             [
              -121.499183,
              35.948766000000006
             ],
             [
              -121.499183,
              35.98511884157137
             ],
             [
              -121.45426723579402,
              35.98511884157137
             ],
             [
              -121.45426723579402,
              35.948766000000006
             ],
             [
              -121.499183,
              35.948766000000006
             ]
            ]
           ],
           "type": "Polygon"
          },
          "id": "0",
          "properties": {
           "CHLOROPHYLL": 0.473221,
           "CSU_Descriptor": "flat, straight, high erodibility, warm temperate dry, low river discharge, moderately high wave energy, moderately tidal, euhaline-oxic-moderate to cool, clear, low chlorophyll",
           "CSU_ID": 9338,
           "Cluster": 6,
           "EMU_PHYSICAL": "Euhaline-Oxic-Moderate to Cool",
           "ERODIBILITY": "High",
           "GHM": 0.017632,
           "LENGTH_GEO": 807.7668384156195,
           "MAX_SLOPE": 3.529753,
           "MEAN_SIG_WAVEHEIGHT": 2.048518,
           "MasterKey": 2753673,
           "OBJECTID": 2753673,
           "OUTFLOW_DENSITY": 8671.790039,
           "OUTFLOW_DENSITY_RESCALED": 1.0484883786709782e-05,
           "REGIONAL_SINUOSITY": 1.264366,
           "RandomSort": 1022958.74682668,
           "Shape_Length": 0.007686713549196647,
           "TEMP_MOISTURE": "Warm Temperate Dry",
           "TIDAL_RANGE": 2.410373,
           "TURBIDITY": 0.04265,
           "chl_label": "low chlorophyll",
           "id": 13,
           "index_right": 7,
           "river_label": "low river discharge",
           "sinuosity_label": "straight",
           "slope_label": "flat",
           "style": {
            "color": "blue",
            "fillColor": "grey",
            "fillOpacity": 0.1,
            "weight": 3
           },
           "tidal_label": "moderately tidal",
           "turbid_label": "clear",
           "wave_label": "moderately high wave energy"
          },
          "type": "Feature"
         }
        ],
        "type": "FeatureCollection"
       },
       "hover_style": {
        "color": "aqua",
        "fillColor": "blue"
       },
       "name": "Selected ROIs"
      }
     },
     "c3389f6668104cfebac0b4775c4e004d": {
      "model_module": "jupyter-leaflet",
      "model_module_version": "^0.16.0",
      "model_name": "LeafletTileLayerModel",
      "state": {
       "_model_module_version": "^0.16.0",
       "_view_module_version": "^0.16.0",
       "attribution": "Tiles (C) Esri -- National Geographic, Esri, DeLorme, NAVTEQ, UNEP-WCMC, USGS, NASA, ESA, METI, NRCAN, GEBCO, NOAA, iPC",
       "max_native_zoom": 18,
       "max_zoom": 16,
       "min_native_zoom": 0,
       "name": "Esri.NatGeoWorldMap",
       "options": [
        "attribution",
        "bounds",
        "detect_retina",
        "max_native_zoom",
        "max_zoom",
        "min_native_zoom",
        "min_zoom",
        "no_wrap",
        "tile_size",
        "tms"
       ],
       "url": "https://server.arcgisonline.com/ArcGIS/rest/services/NatGeo_World_Map/MapServer/tile/{z}/{y}/{x}"
      }
     },
     "c3e85b3e77ac44ed9a55713f55ae2d44": {
      "model_module": "jupyter-leaflet",
      "model_module_version": "^0.16.0",
      "model_name": "LeafletTileLayerModel",
      "state": {
       "_model_module_version": "^0.16.0",
       "_view_module_version": "^0.16.0",
       "attribution": "Map data: (C) OpenStreetMap contributors & ODbL, (C) www.opensnowmap.org CC-BY-SA",
       "max_native_zoom": 18,
       "min_native_zoom": 0,
       "name": "OpenSnowMap.pistes",
       "options": [
        "attribution",
        "bounds",
        "detect_retina",
        "max_native_zoom",
        "max_zoom",
        "min_native_zoom",
        "min_zoom",
        "no_wrap",
        "tile_size",
        "tms"
       ],
       "url": "https://tiles.opensnowmap.org/pistes/{z}/{x}/{y}.png"
      }
     },
     "c4953bbcdee9477f80866cfed0242918": {
      "model_module": "@jupyter-widgets/controls",
      "model_module_version": "1.5.0",
      "model_name": "HBoxModel",
      "state": {
       "children": [
        "IPY_MODEL_36236418606b4b7d80b802a2f4ff79b4",
        "IPY_MODEL_56589ad48a014000902dc6771ea2ba45"
       ],
       "layout": "IPY_MODEL_370de43ea0244982ad202ea873f5b0ab"
      }
     },
     "c49c7ce900c745649b0763ac04dcc78e": {
      "model_module": "jupyter-leaflet",
      "model_module_version": "^0.16.0",
      "model_name": "LeafletTileLayerModel",
      "state": {
       "_model_module_version": "^0.16.0",
       "_view_module_version": "^0.16.0",
       "attribution": "(C) OpenStreetMap contributors (C) CARTO",
       "max_native_zoom": 18,
       "max_zoom": 20,
       "min_native_zoom": 0,
       "name": "CartoDB.DarkMatterOnlyLabels",
       "options": [
        "attribution",
        "bounds",
        "detect_retina",
        "max_native_zoom",
        "max_zoom",
        "min_native_zoom",
        "min_zoom",
        "no_wrap",
        "tile_size",
        "tms"
       ],
       "url": "https://a.basemaps.cartocdn.com/dark_only_labels/{z}/{x}/{y}.png"
      }
     },
     "c4abfd983fdb4767bed45c1f4b92ad71": {
      "model_module": "jupyter-leaflet",
      "model_module_version": "^0.16.0",
      "model_name": "LeafletMapStyleModel",
      "state": {
       "_model_module_version": "^0.16.0"
      }
     },
     "c4af06fb66534c1c9ee8c04ec83e2d01": {
      "model_module": "jupyter-leaflet",
      "model_module_version": "^0.16.0",
      "model_name": "LeafletTileLayerModel",
      "state": {
       "_model_module_version": "^0.16.0",
       "_view_module_version": "^0.16.0",
       "attribution": "Justice Map",
       "max_native_zoom": 18,
       "max_zoom": 22,
       "min_native_zoom": 0,
       "name": "JusticeMap.plurality",
       "options": [
        "attribution",
        "bounds",
        "detect_retina",
        "max_native_zoom",
        "max_zoom",
        "min_native_zoom",
        "min_zoom",
        "no_wrap",
        "tile_size",
        "tms"
       ],
       "url": "https://www.justicemap.org/tile/county/plural/{z}/{x}/{y}.png"
      }
     },
     "c53d3368e25d41859544e62b8ff18d4b": {
      "model_module": "jupyter-leaflet",
      "model_module_version": "^0.16.0",
      "model_name": "LeafletTileLayerModel",
      "state": {
       "_model_module_version": "^0.16.0",
       "_view_module_version": "^0.16.0",
       "attribution": "Tiles (C) Esri -- Source: US National Park Service",
       "max_native_zoom": 18,
       "max_zoom": 8,
       "min_native_zoom": 0,
       "name": "Esri.WorldPhysical",
       "options": [
        "attribution",
        "bounds",
        "detect_retina",
        "max_native_zoom",
        "max_zoom",
        "min_native_zoom",
        "min_zoom",
        "no_wrap",
        "tile_size",
        "tms"
       ],
       "url": "https://server.arcgisonline.com/ArcGIS/rest/services/World_Physical_Map/MapServer/tile/{z}/{y}/{x}"
      }
     },
     "c7c94d66d4cf46518cd86bf2f5c5b2e9": {
      "model_module": "jupyter-leaflet",
      "model_module_version": "^0.16.0",
      "model_name": "LeafletTileLayerModel",
      "state": {
       "_model_module_version": "^0.16.0",
       "_view_module_version": "^0.16.0",
       "attribution": "Google",
       "max_native_zoom": 18,
       "max_zoom": 22,
       "min_native_zoom": 0,
       "name": "Google Satellite",
       "options": [
        "attribution",
        "bounds",
        "detect_retina",
        "max_native_zoom",
        "max_zoom",
        "min_native_zoom",
        "min_zoom",
        "no_wrap",
        "tile_size",
        "tms"
       ],
       "url": "https://mt1.google.com/vt/lyrs=y&x={x}&y={y}&z={z}"
      }
     },
     "c7caa3c1bafe43e38e09a40aa337bb7a": {
      "model_module": "@jupyter-widgets/base",
      "model_module_version": "1.2.0",
      "model_name": "LayoutModel",
      "state": {
       "height": "auto",
       "padding": "0px 0px 0px 4px",
       "width": "auto"
      }
     },
     "c9751680b0e744619abdf94b7eb1a1f1": {
      "model_module": "jupyter-leaflet",
      "model_module_version": "^0.16.0",
      "model_name": "LeafletTileLayerModel",
      "state": {
       "_model_module_version": "^0.16.0",
       "_view_module_version": "^0.16.0",
       "attribution": "© swisstopo",
       "max_native_zoom": 18,
       "max_zoom": 19,
       "min_native_zoom": 0,
       "name": "SwissFederalGeoportal.SWISSIMAGE",
       "options": [
        "attribution",
        "bounds",
        "detect_retina",
        "max_native_zoom",
        "max_zoom",
        "min_native_zoom",
        "min_zoom",
        "no_wrap",
        "tile_size",
        "tms"
       ],
       "url": "https://wmts.geo.admin.ch/1.0.0/ch.swisstopo.swissimage/default/current/3857/{z}/{x}/{y}.jpeg"
      }
     },
     "c9b22133c67240de9d81791ee7004e71": {
      "model_module": "@jupyter-widgets/controls",
      "model_module_version": "1.5.0",
      "model_name": "ToggleButtonModel",
      "state": {
       "button_style": "primary",
       "icon": "search",
       "layout": "IPY_MODEL_f33c6dce1e8a4c5f8c0ab73a412dd4ab",
       "style": "IPY_MODEL_d0d80605eb924bc7bd68034089b10d68",
       "tooltip": "Search XYZ tile services"
      }
     },
     "c9eeac5094de44499bc74e98a8ba0c79": {
      "model_module": "@jupyter-widgets/controls",
      "model_module_version": "1.5.0",
      "model_name": "DescriptionStyleModel",
      "state": {
       "description_width": ""
      }
     },
     "ca013410969741f1bd2cbb4cb76a2290": {
      "model_module": "jupyter-leaflet",
      "model_module_version": "^0.16.0",
      "model_name": "LeafletTileLayerModel",
      "state": {
       "_model_module_version": "^0.16.0",
       "_view_module_version": "^0.16.0",
       "attribution": "Map tiles by <a href=\"https://labs.strava.com/heatmap\">Strava 2021</a>",
       "max_native_zoom": 18,
       "max_zoom": 15,
       "min_native_zoom": 0,
       "name": "Strava.Ride",
       "options": [
        "attribution",
        "bounds",
        "detect_retina",
        "max_native_zoom",
        "max_zoom",
        "min_native_zoom",
        "min_zoom",
        "no_wrap",
        "tile_size",
        "tms"
       ],
       "url": "https://heatmap-external-a.strava.com/tiles/ride/hot/{z}/{x}/{y}.png"
      }
     },
     "cb0d63853bfa4643ba670bb819430b2f": {
      "model_module": "jupyter-leaflet",
      "model_module_version": "^0.16.0",
      "model_name": "LeafletTileLayerModel",
      "state": {
       "_model_module_version": "^0.16.0",
       "_view_module_version": "^0.16.0",
       "attribution": "Map tiles by Stamen Design, CC BY 3.0 -- Map data (C) OpenStreetMap contributors",
       "max_native_zoom": 18,
       "max_zoom": 20,
       "min_native_zoom": 0,
       "name": "Stamen.TonerLines",
       "options": [
        "attribution",
        "bounds",
        "detect_retina",
        "max_native_zoom",
        "max_zoom",
        "min_native_zoom",
        "min_zoom",
        "no_wrap",
        "tile_size",
        "tms"
       ],
       "url": "https://stamen-tiles-a.a.ssl.fastly.net/toner-lines/{z}/{x}/{y}.png"
      }
     },
     "cc4814b39f924c319f136edbab4eb238": {
      "model_module": "@jupyter-widgets/base",
      "model_module_version": "1.2.0",
      "model_name": "LayoutModel",
      "state": {}
     },
     "cc9fe3b53fa34a4095e8d38d1c802a37": {
      "model_module": "jupyter-leaflet",
      "model_module_version": "^0.16.0",
      "model_name": "LeafletTileLayerModel",
      "state": {
       "_model_module_version": "^0.16.0",
       "_view_module_version": "^0.16.0",
       "attribution": "(C) OpenStreetMap contributors (C) CARTO",
       "max_native_zoom": 18,
       "max_zoom": 20,
       "min_native_zoom": 0,
       "name": "CartoDB.Voyager",
       "options": [
        "attribution",
        "bounds",
        "detect_retina",
        "max_native_zoom",
        "max_zoom",
        "min_native_zoom",
        "min_zoom",
        "no_wrap",
        "tile_size",
        "tms"
       ],
       "url": "https://a.basemaps.cartocdn.com/rastertiles/voyager/{z}/{x}/{y}.png"
      }
     },
     "cca4a2e61ddd4320951ad2250be6f7c4": {
      "model_module": "jupyter-leaflet",
      "model_module_version": "^0.16.0",
      "model_name": "LeafletTileLayerModel",
      "state": {
       "_model_module_version": "^0.16.0",
       "_view_module_version": "^0.16.0",
       "attribution": "Justice Map",
       "max_native_zoom": 18,
       "max_zoom": 22,
       "min_native_zoom": 0,
       "name": "JusticeMap.asian",
       "options": [
        "attribution",
        "bounds",
        "detect_retina",
        "max_native_zoom",
        "max_zoom",
        "min_native_zoom",
        "min_zoom",
        "no_wrap",
        "tile_size",
        "tms"
       ],
       "url": "https://www.justicemap.org/tile/county/asian/{z}/{x}/{y}.png"
      }
     },
     "cd4e6fefaaea4f5196a1ed57b11e1762": {
      "model_module": "@jupyter-widgets/controls",
      "model_module_version": "1.5.0",
      "model_name": "ButtonStyleModel",
      "state": {}
     },
     "cd74f57040f948b58dc0f96b50833cfc": {
      "model_module": "@jupyter-widgets/controls",
      "model_module_version": "1.5.0",
      "model_name": "DescriptionStyleModel",
      "state": {
       "description_width": ""
      }
     },
     "cde6db87f8074307af59956ef6796b69": {
      "model_module": "@jupyter-widgets/controls",
      "model_module_version": "1.5.0",
      "model_name": "ToggleButtonModel",
      "state": {
       "button_style": "primary",
       "icon": "folder-open",
       "layout": "IPY_MODEL_bce1d792cdad4197a4183eeaa4cbf83f",
       "style": "IPY_MODEL_6b929e037b6742828bb0e685754abd8f",
       "tooltip": "Open local vector/raster data"
      }
     },
     "ce371b6444214310ac3e1c90b5460c5a": {
      "model_module": "jupyter-leaflet",
      "model_module_version": "^0.16.0",
      "model_name": "LeafletTileLayerModel",
      "state": {
       "_model_module_version": "^0.16.0",
       "_view_module_version": "^0.16.0",
       "attribution": "Imagery provided by services from the Global Imagery Browse Services (GIBS), operated by the NASA/GSFC/Earth Science Data and Information System (ESDIS) with funding provided by NASA/HQ.",
       "max_native_zoom": 18,
       "max_zoom": 12,
       "min_native_zoom": 0,
       "name": "NASAGIBS.ASTER_GDEM_Greyscale_Shaded_Relief",
       "options": [
        "attribution",
        "bounds",
        "detect_retina",
        "max_native_zoom",
        "max_zoom",
        "min_native_zoom",
        "min_zoom",
        "no_wrap",
        "tile_size",
        "tms"
       ],
       "url": "https://gibs.earthdata.nasa.gov/wmts/epsg3857/best/ASTER_GDEM_Greyscale_Shaded_Relief/default/GoogleMapsCompatible_Level12/{z}/{y}/{x}.jpg"
      }
     },
     "ced3646e08dc4da2bf9fcf49e6f2c685": {
      "model_module": "@jupyter-widgets/base",
      "model_module_version": "1.2.0",
      "model_name": "LayoutModel",
      "state": {}
     },
     "cfcf7fd12244494aaa286a11c01dd882": {
      "model_module": "@jupyter-widgets/base",
      "model_module_version": "1.2.0",
      "model_name": "LayoutModel",
      "state": {
       "height": "auto",
       "padding": "0px 0px 0px 4px",
       "width": "auto"
      }
     },
     "d0d80605eb924bc7bd68034089b10d68": {
      "model_module": "@jupyter-widgets/controls",
      "model_module_version": "1.5.0",
      "model_name": "DescriptionStyleModel",
      "state": {
       "description_width": ""
      }
     },
     "d19063f6a5d844b08b9d73884763810c": {
      "model_module": "@jupyter-widgets/base",
      "model_module_version": "1.2.0",
      "model_name": "LayoutModel",
      "state": {
       "height": "auto",
       "padding": "0px 0px 0px 4px",
       "width": "auto"
      }
     },
     "d1d8e84dfc324e4ab468ce96714f6665": {
      "model_module": "jupyter-leaflet",
      "model_module_version": "^0.16.0",
      "model_name": "LeafletTileLayerModel",
      "state": {
       "_model_module_version": "^0.16.0",
       "_view_module_version": "^0.16.0",
       "attribution": "Tiles courtesy of the U.S. Geological Survey",
       "max_native_zoom": 18,
       "max_zoom": 20,
       "min_native_zoom": 0,
       "name": "USGS.USImagery",
       "options": [
        "attribution",
        "bounds",
        "detect_retina",
        "max_native_zoom",
        "max_zoom",
        "min_native_zoom",
        "min_zoom",
        "no_wrap",
        "tile_size",
        "tms"
       ],
       "url": "https://basemap.nationalmap.gov/arcgis/rest/services/USGSImageryOnly/MapServer/tile/{z}/{y}/{x}"
      }
     },
     "d71b84ec3eb94c739e14f15b0d945210": {
      "model_module": "@jupyter-widgets/controls",
      "model_module_version": "1.5.0",
      "model_name": "DescriptionStyleModel",
      "state": {
       "description_width": ""
      }
     },
     "d75717ff8b13452cb371ae3eda0808ca": {
      "model_module": "@jupyter-widgets/base",
      "model_module_version": "1.2.0",
      "model_name": "LayoutModel",
      "state": {
       "height": "auto",
       "padding": "0px 0px 0px 4px",
       "width": "auto"
      }
     },
     "d826f4bf6cf3452ea19f599091cd7f92": {
      "model_module": "jupyter-leaflet",
      "model_module_version": "^0.16.0",
      "model_name": "LeafletTileLayerModel",
      "state": {
       "_model_module_version": "^0.16.0",
       "_view_module_version": "^0.16.0",
       "attribution": "Google",
       "max_native_zoom": 18,
       "max_zoom": 22,
       "min_native_zoom": 0,
       "name": "Google Maps",
       "options": [
        "attribution",
        "bounds",
        "detect_retina",
        "max_native_zoom",
        "max_zoom",
        "min_native_zoom",
        "min_zoom",
        "no_wrap",
        "tile_size",
        "tms"
       ],
       "url": "https://mt1.google.com/vt/lyrs=m&x={x}&y={y}&z={z}"
      }
     },
     "d949b1ef094d42f88e975c0ab491e8ea": {
      "model_module": "jupyter-leaflet",
      "model_module_version": "^0.16.0",
      "model_name": "LeafletWidgetControlModel",
      "state": {
       "_model_module": "jupyter-leaflet",
       "_model_module_version": "^0.16.0",
       "_view_count": null,
       "_view_module": "jupyter-leaflet",
       "_view_module_version": "^0.16.0",
       "options": [
        "position",
        "transparent_bg"
       ],
       "position": "topright",
       "widget": "IPY_MODEL_49c8fc4295164dc89768d90626c2fa22"
      }
     },
     "da41f8c7a8fd499bb1dbd67b73aaa17c": {
      "model_module": "jupyter-leaflet",
      "model_module_version": "^0.16.0",
      "model_name": "LeafletTileLayerModel",
      "state": {
       "_model_module_version": "^0.16.0",
       "_view_module_version": "^0.16.0",
       "attribution": "Tiles (C) Esri -- Sources: GEBCO, NOAA, CHS, OSU, UNH, CSUMB, National Geographic, DeLorme, NAVTEQ, and Esri",
       "max_native_zoom": 18,
       "max_zoom": 13,
       "min_native_zoom": 0,
       "name": "Esri.OceanBasemap",
       "options": [
        "attribution",
        "bounds",
        "detect_retina",
        "max_native_zoom",
        "max_zoom",
        "min_native_zoom",
        "min_zoom",
        "no_wrap",
        "tile_size",
        "tms"
       ],
       "url": "https://server.arcgisonline.com/ArcGIS/rest/services/Ocean_Basemap/MapServer/tile/{z}/{y}/{x}"
      }
     },
     "da5fd47a82b74c81af26b83283c4ab77": {
      "model_module": "@jupyter-widgets/base",
      "model_module_version": "1.2.0",
      "model_name": "LayoutModel",
      "state": {}
     },
     "dcbfe851cd6841699e46a960421e80e5": {
      "model_module": "@jupyter-widgets/base",
      "model_module_version": "1.2.0",
      "model_name": "LayoutModel",
      "state": {
       "height": "auto",
       "padding": "0px 0px 0px 4px",
       "width": "auto"
      }
     },
     "dd7c9321354e4864904ae933b14238e3": {
      "model_module": "jupyter-leaflet",
      "model_module_version": "^0.16.0",
      "model_name": "LeafletTileLayerModel",
      "state": {
       "_model_module_version": "^0.16.0",
       "_view_module_version": "^0.16.0",
       "attribution": "Map tiles by Stamen Design, CC BY 3.0 -- Map data (C) OpenStreetMap contributors",
       "max_native_zoom": 18,
       "max_zoom": 20,
       "min_native_zoom": 0,
       "name": "Stamen.TonerLite",
       "options": [
        "attribution",
        "bounds",
        "detect_retina",
        "max_native_zoom",
        "max_zoom",
        "min_native_zoom",
        "min_zoom",
        "no_wrap",
        "tile_size",
        "tms"
       ],
       "url": "https://stamen-tiles-a.a.ssl.fastly.net/toner-lite/{z}/{x}/{y}.png"
      }
     },
     "ddd495ff6a5a4795adea90b46dbdb6b7": {
      "model_module": "@jupyter-widgets/controls",
      "model_module_version": "1.5.0",
      "model_name": "ToggleButtonModel",
      "state": {
       "button_style": "primary",
       "icon": "search-plus",
       "layout": "IPY_MODEL_be7dbd7b00274c44ad8aa6e9726705db",
       "style": "IPY_MODEL_ef95a842c2b443f9998463e21f51e4b2",
       "tooltip": "Search features in GeoJSON layer"
      }
     },
     "def4fad1a076428b8e465571b1b5ee7b": {
      "model_module": "jupyter-leaflet",
      "model_module_version": "^0.16.0",
      "model_name": "LeafletTileLayerModel",
      "state": {
       "_model_module_version": "^0.16.0",
       "_view_module_version": "^0.16.0",
       "attribution": "© swisstopo",
       "max_native_zoom": 18,
       "min_native_zoom": 0,
       "name": "SwissFederalGeoportal.JourneyThroughTime",
       "options": [
        "attribution",
        "bounds",
        "detect_retina",
        "max_native_zoom",
        "max_zoom",
        "min_native_zoom",
        "min_zoom",
        "no_wrap",
        "tile_size",
        "tms"
       ],
       "url": "https://wmts.geo.admin.ch/1.0.0/ch.swisstopo.zeitreihen/default/18641231/3857/{z}/{x}/{y}.png"
      }
     },
     "df09bb7437104feca81c4b90d7f69b94": {
      "model_module": "jupyter-leaflet",
      "model_module_version": "^0.16.0",
      "model_name": "LeafletTileLayerModel",
      "state": {
       "_model_module_version": "^0.16.0",
       "_view_module_version": "^0.16.0",
       "attribution": "Justice Map",
       "max_native_zoom": 18,
       "max_zoom": 22,
       "min_native_zoom": 0,
       "name": "JusticeMap.white",
       "options": [
        "attribution",
        "bounds",
        "detect_retina",
        "max_native_zoom",
        "max_zoom",
        "min_native_zoom",
        "min_zoom",
        "no_wrap",
        "tile_size",
        "tms"
       ],
       "url": "https://www.justicemap.org/tile/county/white/{z}/{x}/{y}.png"
      }
     },
     "e036cb6bb71642fc9fa3955214944c4d": {
      "model_module": "@jupyter-widgets/controls",
      "model_module_version": "1.5.0",
      "model_name": "ToggleButtonModel",
      "state": {
       "button_style": "primary",
       "icon": "question",
       "layout": "IPY_MODEL_f373fd8edae64d078a1d2a835ecd8a4e",
       "style": "IPY_MODEL_f4f713b7f2dd407e8cc318c5ebfe959c",
       "tooltip": "Get help"
      }
     },
     "e10102c30212461ab54840a02ccc04db": {
      "model_module": "jupyter-leaflet",
      "model_module_version": "^0.16.0",
      "model_name": "LeafletTileLayerModel",
      "state": {
       "_model_module_version": "^0.16.0",
       "_view_module_version": "^0.16.0",
       "attribution": "Imagery provided by services from the Global Imagery Browse Services (GIBS), operated by the NASA/GSFC/Earth Science Data and Information System (ESDIS) with funding provided by NASA/HQ.",
       "max_native_zoom": 18,
       "max_zoom": 8,
       "min_native_zoom": 0,
       "name": "NASAGIBS.ModisTerraSnowCover",
       "options": [
        "attribution",
        "bounds",
        "detect_retina",
        "max_native_zoom",
        "max_zoom",
        "min_native_zoom",
        "min_zoom",
        "no_wrap",
        "tile_size",
        "tms"
       ],
       "url": "https://map1.vis.earthdata.nasa.gov/wmts-webmerc/MODIS_Terra_NDSI_Snow_Cover/default//GoogleMapsCompatible_Level8/{z}/{y}/{x}.png"
      }
     },
     "e12121909c6e4f6d8c141f2012a6f00b": {
      "model_module": "@jupyter-widgets/controls",
      "model_module_version": "1.5.0",
      "model_name": "ButtonModel",
      "state": {
       "description": "Remove all",
       "layout": "IPY_MODEL_add7fda6d57c48f5a15dfd1e083d00c0",
       "style": "IPY_MODEL_6be02ee243d147a79e98798610068399"
      }
     },
     "e18f966e3114462285e2f7d7e32ce940": {
      "model_module": "jupyter-leaflet",
      "model_module_version": "^0.16.0",
      "model_name": "LeafletTileLayerModel",
      "state": {
       "_model_module_version": "^0.16.0",
       "_view_module_version": "^0.16.0",
       "attribution": "&copy; <a href=\"https://www.openstreetmap.org/copyright\">OpenStreetMap</a> contributors",
       "base": true,
       "max_native_zoom": 18,
       "max_zoom": 19,
       "min_native_zoom": 0,
       "min_zoom": 1,
       "name": "OpenStreetMap",
       "options": [
        "attribution",
        "bounds",
        "detect_retina",
        "max_native_zoom",
        "max_zoom",
        "min_native_zoom",
        "min_zoom",
        "no_wrap",
        "tile_size",
        "tms"
       ],
       "url": "https://a.tile.openstreetmap.org/{z}/{x}/{y}.png"
      }
     },
     "e22a92e984bf4bd89727aa6d265b43e4": {
      "model_module": "jupyter-leaflet",
      "model_module_version": "^0.16.0",
      "model_name": "LeafletWMSLayerModel",
      "state": {
       "_model_module_version": "^0.16.0",
       "_view_module_version": "^0.16.0",
       "attribution": "MRLC",
       "crs": {
        "custom": false,
        "name": "EPSG3857"
       },
       "format": "image/png",
       "layers": "NLCD_2006_Land_Cover_L48",
       "max_native_zoom": 18,
       "min_native_zoom": 0,
       "name": "NLCD 2006 CONUS Land Cover",
       "options": [
        "attribution",
        "bounds",
        "detect_retina",
        "format",
        "layers",
        "max_native_zoom",
        "max_zoom",
        "min_native_zoom",
        "min_zoom",
        "no_wrap",
        "styles",
        "tile_size",
        "tms",
        "transparent",
        "uppercase"
       ],
       "transparent": true,
       "url": "https://www.mrlc.gov/geoserver/mrlc_display/NLCD_2006_Land_Cover_L48/wms?"
      }
     },
     "e29e5c6d77df4b2daaa331efde3a21bc": {
      "model_module": "@jupyter-widgets/controls",
      "model_module_version": "1.5.0",
      "model_name": "DescriptionStyleModel",
      "state": {
       "description_width": ""
      }
     },
     "e35e3862569748208f1c61ef8ee62ca4": {
      "model_module": "@jupyter-widgets/controls",
      "model_module_version": "1.5.0",
      "model_name": "VBoxModel",
      "state": {
       "children": [
        "IPY_MODEL_4a8d1f587a8b4ac2ac7ceae9e33f53f2"
       ],
       "layout": "IPY_MODEL_ced3646e08dc4da2bf9fcf49e6f2c685"
      }
     },
     "e39857edfc53472b902af01d5ef08ef3": {
      "model_module": "@jupyter-widgets/base",
      "model_module_version": "1.2.0",
      "model_name": "LayoutModel",
      "state": {}
     },
     "e598d99e1d034d6ab18e221e767cbc0d": {
      "model_module": "jupyter-leaflet",
      "model_module_version": "^0.16.0",
      "model_name": "LeafletTileLayerModel",
      "state": {
       "_model_module_version": "^0.16.0",
       "_view_module_version": "^0.16.0",
       "attribution": "Justice Map",
       "max_native_zoom": 18,
       "max_zoom": 22,
       "min_native_zoom": 0,
       "name": "JusticeMap.nonWhite",
       "options": [
        "attribution",
        "bounds",
        "detect_retina",
        "max_native_zoom",
        "max_zoom",
        "min_native_zoom",
        "min_zoom",
        "no_wrap",
        "tile_size",
        "tms"
       ],
       "url": "https://www.justicemap.org/tile/county/nonwhite/{z}/{x}/{y}.png"
      }
     },
     "ebcc48ad32144a48adae42c62d76fb0b": {
      "model_module": "jupyter-leaflet",
      "model_module_version": "^0.16.0",
      "model_name": "LeafletTileLayerModel",
      "state": {
       "_model_module_version": "^0.16.0",
       "_view_module_version": "^0.16.0",
       "attribution": "Map data: (C) OpenStreetMap contributors | Map style: (C) waymarkedtrails.org (CC-BY-SA)",
       "max_native_zoom": 18,
       "min_native_zoom": 0,
       "name": "WaymarkedTrails.skating",
       "options": [
        "attribution",
        "bounds",
        "detect_retina",
        "max_native_zoom",
        "max_zoom",
        "min_native_zoom",
        "min_zoom",
        "no_wrap",
        "tile_size",
        "tms"
       ],
       "url": "https://tile.waymarkedtrails.org/skating/{z}/{x}/{y}.png"
      }
     },
     "ec9d1b1a93c2432492278b24481a7204": {
      "model_module": "jupyter-leaflet",
      "model_module_version": "^0.16.0",
      "model_name": "LeafletTileLayerModel",
      "state": {
       "_model_module_version": "^0.16.0",
       "_view_module_version": "^0.16.0",
       "attribution": "Geoportail France",
       "max_native_zoom": 18,
       "max_zoom": 20,
       "min_native_zoom": 0,
       "name": "GeoportailFrance.parcels",
       "options": [
        "attribution",
        "bounds",
        "detect_retina",
        "max_native_zoom",
        "max_zoom",
        "min_native_zoom",
        "min_zoom",
        "no_wrap",
        "tile_size",
        "tms"
       ],
       "url": "https://wxs.ign.fr/choisirgeoportail/geoportail/wmts?REQUEST=GetTile&SERVICE=WMTS&VERSION=1.0.0&STYLE=PCI vecteur&TILEMATRIXSET=PM&FORMAT=image/png&LAYER=CADASTRALPARCELS.PARCELLAIRE_EXPRESS&TILEMATRIX={z}&TILEROW={y}&TILECOL={x}"
      }
     },
     "ece49bdd60e04e559894130ce2720156": {
      "model_module": "jupyter-leaflet",
      "model_module_version": "^0.16.0",
      "model_name": "LeafletTileLayerModel",
      "state": {
       "_model_module_version": "^0.16.0",
       "_view_module_version": "^0.16.0",
       "attribution": "Justice Map",
       "max_native_zoom": 18,
       "max_zoom": 22,
       "min_native_zoom": 0,
       "name": "JusticeMap.multi",
       "options": [
        "attribution",
        "bounds",
        "detect_retina",
        "max_native_zoom",
        "max_zoom",
        "min_native_zoom",
        "min_zoom",
        "no_wrap",
        "tile_size",
        "tms"
       ],
       "url": "https://www.justicemap.org/tile/county/multi/{z}/{x}/{y}.png"
      }
     },
     "ed6077aee40b4083ade588f44925837a": {
      "model_module": "@jupyter-widgets/controls",
      "model_module_version": "1.5.0",
      "model_name": "ButtonModel",
      "state": {
       "description": "Remove transects",
       "layout": "IPY_MODEL_2e978624409c4d3f8faae4ddeadcd4c2",
       "style": "IPY_MODEL_cd4e6fefaaea4f5196a1ed57b11e1762"
      }
     },
     "ed8c561525a74d00b15c04c242a0f48d": {
      "model_module": "@jupyter-widgets/controls",
      "model_module_version": "1.5.0",
      "model_name": "ButtonModel",
      "state": {
       "description": "Load Transects",
       "layout": "IPY_MODEL_03ea25b2573c49b6bfce3274b6219356",
       "style": "IPY_MODEL_443ceaeeee4a4ba6bb5c15a816998799"
      }
     },
     "eefc97c185ce4a05a0e9aa12fa636f04": {
      "model_module": "jupyter-leaflet",
      "model_module_version": "^0.16.0",
      "model_name": "LeafletWMSLayerModel",
      "state": {
       "_model_module_version": "^0.16.0",
       "_view_module_version": "^0.16.0",
       "attribution": "USGS",
       "crs": {
        "custom": false,
        "name": "EPSG3857"
       },
       "format": "image/png",
       "layers": "33DEPElevation:Hillshade Elevation Tinted",
       "max_native_zoom": 18,
       "min_native_zoom": 0,
       "name": "USGS 3DEP Elevation",
       "options": [
        "attribution",
        "bounds",
        "detect_retina",
        "format",
        "layers",
        "max_native_zoom",
        "max_zoom",
        "min_native_zoom",
        "min_zoom",
        "no_wrap",
        "styles",
        "tile_size",
        "tms",
        "transparent",
        "uppercase"
       ],
       "transparent": true,
       "url": "https://elevation.nationalmap.gov/arcgis/services/3DEPElevation/ImageServer/WMSServer?"
      }
     },
     "ef95a842c2b443f9998463e21f51e4b2": {
      "model_module": "@jupyter-widgets/controls",
      "model_module_version": "1.5.0",
      "model_name": "DescriptionStyleModel",
      "state": {
       "description_width": ""
      }
     },
     "f0dfbf26cc0f448b98235b43645688cd": {
      "model_module": "jupyter-leaflet",
      "model_module_version": "^0.16.0",
      "model_name": "LeafletTileLayerModel",
      "state": {
       "_model_module_version": "^0.16.0",
       "_view_module_version": "^0.16.0",
       "attribution": "Map tiles by <a href=\"https://labs.strava.com/heatmap\">Strava 2021</a>",
       "max_native_zoom": 18,
       "max_zoom": 15,
       "min_native_zoom": 0,
       "name": "Strava.All",
       "options": [
        "attribution",
        "bounds",
        "detect_retina",
        "max_native_zoom",
        "max_zoom",
        "min_native_zoom",
        "min_zoom",
        "no_wrap",
        "tile_size",
        "tms"
       ],
       "url": "https://heatmap-external-a.strava.com/tiles/all/hot/{z}/{x}/{y}.png"
      }
     },
     "f14beb06be364d85beb7d0b7b2afdaa0": {
      "model_module": "jupyter-leaflet",
      "model_module_version": "^0.16.0",
      "model_name": "LeafletTileLayerModel",
      "state": {
       "_model_module_version": "^0.16.0",
       "_view_module_version": "^0.16.0",
       "attribution": "Imagery provided by services from the Global Imagery Browse Services (GIBS), operated by the NASA/GSFC/Earth Science Data and Information System (ESDIS) with funding provided by NASA/HQ.",
       "max_native_zoom": 18,
       "max_zoom": 8,
       "min_native_zoom": 0,
       "name": "NASAGIBS.BlueMarble",
       "options": [
        "attribution",
        "bounds",
        "detect_retina",
        "max_native_zoom",
        "max_zoom",
        "min_native_zoom",
        "min_zoom",
        "no_wrap",
        "tile_size",
        "tms"
       ],
       "url": "https://gibs.earthdata.nasa.gov/wmts/epsg3857/best/BlueMarble_NextGeneration/default/EPSG3857_500m/{z}/{y}/{x}.jpeg"
      }
     },
     "f19c3dbbf28f400f91030a9f5fdc0824": {
      "model_module": "@jupyter-widgets/controls",
      "model_module_version": "1.5.0",
      "model_name": "DescriptionStyleModel",
      "state": {
       "description_width": ""
      }
     },
     "f339c581cc6f4f8583e388815f9cc199": {
      "model_module": "@jupyter-widgets/base",
      "model_module_version": "1.2.0",
      "model_name": "LayoutModel",
      "state": {}
     },
     "f33c6dce1e8a4c5f8c0ab73a412dd4ab": {
      "model_module": "@jupyter-widgets/base",
      "model_module_version": "1.2.0",
      "model_name": "LayoutModel",
      "state": {
       "height": "auto",
       "padding": "0px 0px 0px 4px",
       "width": "auto"
      }
     },
     "f36c4d46e23540249e76cc2d3cdc8811": {
      "model_module": "jupyter-leaflet",
      "model_module_version": "^0.16.0",
      "model_name": "LeafletTileLayerModel",
      "state": {
       "_model_module_version": "^0.16.0",
       "_view_module_version": "^0.16.0",
       "attribution": "Datenquelle: basemap.at",
       "max_native_zoom": 18,
       "max_zoom": 19,
       "min_native_zoom": 0,
       "name": "BasemapAT.surface",
       "options": [
        "attribution",
        "bounds",
        "detect_retina",
        "max_native_zoom",
        "max_zoom",
        "min_native_zoom",
        "min_zoom",
        "no_wrap",
        "tile_size",
        "tms"
       ],
       "url": "https://maps.wien.gv.at/basemap/bmapoberflaeche/grau/google3857/{z}/{y}/{x}.jpeg"
      }
     },
     "f373fd8edae64d078a1d2a835ecd8a4e": {
      "model_module": "@jupyter-widgets/base",
      "model_module_version": "1.2.0",
      "model_name": "LayoutModel",
      "state": {
       "height": "auto",
       "padding": "0px 0px 0px 4px",
       "width": "auto"
      }
     },
     "f3ab1559f92a453fbf405ca78146ec7b": {
      "model_module": "jupyter-leaflet",
      "model_module_version": "^0.16.0",
      "model_name": "LeafletTileLayerModel",
      "state": {
       "_model_module_version": "^0.16.0",
       "_view_module_version": "^0.16.0",
       "attribution": "Imagery provided by services from the Global Imagery Browse Services (GIBS), operated by the NASA/GSFC/Earth Science Data and Information System (ESDIS) with funding provided by NASA/HQ.",
       "max_native_zoom": 18,
       "max_zoom": 9,
       "min_native_zoom": 0,
       "name": "NASAGIBS.ModisTerraTrueColorCR",
       "options": [
        "attribution",
        "bounds",
        "detect_retina",
        "max_native_zoom",
        "max_zoom",
        "min_native_zoom",
        "min_zoom",
        "no_wrap",
        "tile_size",
        "tms"
       ],
       "url": "https://map1.vis.earthdata.nasa.gov/wmts-webmerc/MODIS_Terra_CorrectedReflectance_TrueColor/default//GoogleMapsCompatible_Level9/{z}/{y}/{x}.jpg"
      }
     },
     "f4f713b7f2dd407e8cc318c5ebfe959c": {
      "model_module": "@jupyter-widgets/controls",
      "model_module_version": "1.5.0",
      "model_name": "DescriptionStyleModel",
      "state": {
       "description_width": ""
      }
     },
     "f505078a3a9b417c9381cc8719f8d9b0": {
      "model_module": "jupyter-leaflet",
      "model_module_version": "^0.16.0",
      "model_name": "LeafletTileLayerModel",
      "state": {
       "_model_module_version": "^0.16.0",
       "_view_module_version": "^0.16.0",
       "attribution": "Map data: (C) OpenStreetMap contributors | Map style: (C) waymarkedtrails.org (CC-BY-SA)",
       "max_native_zoom": 18,
       "min_native_zoom": 0,
       "name": "WaymarkedTrails.hiking",
       "options": [
        "attribution",
        "bounds",
        "detect_retina",
        "max_native_zoom",
        "max_zoom",
        "min_native_zoom",
        "min_zoom",
        "no_wrap",
        "tile_size",
        "tms"
       ],
       "url": "https://tile.waymarkedtrails.org/hiking/{z}/{x}/{y}.png"
      }
     },
     "f53aaeeef6454370a9fcc643058dbd4d": {
      "model_module": "jupyter-leaflet",
      "model_module_version": "^0.16.0",
      "model_name": "LeafletTileLayerModel",
      "state": {
       "_model_module_version": "^0.16.0",
       "_view_module_version": "^0.16.0",
       "attribution": "Tiles courtesy of the U.S. Geological Survey",
       "max_native_zoom": 18,
       "max_zoom": 20,
       "min_native_zoom": 0,
       "name": "USGS.USTopo",
       "options": [
        "attribution",
        "bounds",
        "detect_retina",
        "max_native_zoom",
        "max_zoom",
        "min_native_zoom",
        "min_zoom",
        "no_wrap",
        "tile_size",
        "tms"
       ],
       "url": "https://basemap.nationalmap.gov/arcgis/rest/services/USGSTopo/MapServer/tile/{z}/{y}/{x}"
      }
     },
     "f595c601a24a4abb87a5ce52ecf1f9a1": {
      "model_module": "jupyter-leaflet",
      "model_module_version": "^0.16.0",
      "model_name": "LeafletWMSLayerModel",
      "state": {
       "_model_module_version": "^0.16.0",
       "_view_module_version": "^0.16.0",
       "attribution": "ESA",
       "crs": {
        "custom": false,
        "name": "EPSG3857"
       },
       "format": "image/png",
       "layers": "WORLDCOVER_2020_S2_FCC",
       "max_native_zoom": 18,
       "min_native_zoom": 0,
       "name": "ESA Worldcover 2020 S2 FCC",
       "options": [
        "attribution",
        "bounds",
        "detect_retina",
        "format",
        "layers",
        "max_native_zoom",
        "max_zoom",
        "min_native_zoom",
        "min_zoom",
        "no_wrap",
        "styles",
        "tile_size",
        "tms",
        "transparent",
        "uppercase"
       ],
       "transparent": true,
       "url": "https://services.terrascope.be/wms/v2"
      }
     },
     "f6e654aa8b8b40648c5e78c2fcbed4a1": {
      "model_module": "@jupyter-widgets/controls",
      "model_module_version": "1.5.0",
      "model_name": "ToggleButtonModel",
      "state": {
       "button_style": "primary",
       "icon": "download",
       "layout": "IPY_MODEL_29bccae221554071aead42697947ed28",
       "style": "IPY_MODEL_70cd846b50d4492ba1c18caef583cdfb",
       "tooltip": "Download OSM data"
      }
     },
     "f7fd69a1d8904d3a9f630fd892014e88": {
      "model_module": "@jupyter-widgets/base",
      "model_module_version": "1.2.0",
      "model_name": "LayoutModel",
      "state": {
       "grid_gap": "1px 1px",
       "grid_template_columns": "32px 32px 32px ",
       "grid_template_rows": "32px 32px 32px 32px 32px 32px ",
       "padding": "5px",
       "width": "109px"
      }
     },
     "fba569d5adf94b51bb98a56f0d628046": {
      "model_module": "jupyter-leaflet",
      "model_module_version": "^0.16.0",
      "model_name": "LeafletTileLayerModel",
      "state": {
       "_model_module_version": "^0.16.0",
       "_view_module_version": "^0.16.0",
       "attribution": "Datenquelle: basemap.at",
       "max_native_zoom": 18,
       "max_zoom": 20,
       "min_native_zoom": 0,
       "name": "BasemapAT.orthofoto",
       "options": [
        "attribution",
        "bounds",
        "detect_retina",
        "max_native_zoom",
        "max_zoom",
        "min_native_zoom",
        "min_zoom",
        "no_wrap",
        "tile_size",
        "tms"
       ],
       "url": "https://maps.wien.gv.at/basemap/bmaporthofoto30cm/normal/google3857/{z}/{y}/{x}.jpeg"
      }
     },
     "fc2e4ba69f0b4ca6994be80672445a0f": {
      "model_module": "@jupyter-widgets/controls",
      "model_module_version": "1.5.0",
      "model_name": "ToggleButtonModel",
      "state": {
       "button_style": "primary",
       "icon": "fast-forward",
       "layout": "IPY_MODEL_898f388c3d444f899cd1d9de4568ccf3",
       "style": "IPY_MODEL_0c63963870c14f5eb56b578f69cae470",
       "tooltip": "Activate the time slider"
      }
     },
     "fc6e4aeb997f42e685816621b4f9aa6f": {
      "model_module": "@jupyter-widgets/base",
      "model_module_version": "1.2.0",
      "model_name": "LayoutModel",
      "state": {
       "padding": "10px"
      }
     },
     "fd1664c1aef142d5b6251d2fe1657370": {
      "model_module": "jupyter-leaflet",
      "model_module_version": "^0.16.0",
      "model_name": "LeafletWMSLayerModel",
      "state": {
       "_model_module_version": "^0.16.0",
       "_view_module_version": "^0.16.0",
       "attribution": "USGS",
       "crs": {
        "custom": false,
        "name": "EPSG3857"
       },
       "format": "image/png",
       "layers": "USGSNAIPImagery:NaturalColor",
       "max_native_zoom": 18,
       "min_native_zoom": 0,
       "name": "USGS NAIP Imagery",
       "options": [
        "attribution",
        "bounds",
        "detect_retina",
        "format",
        "layers",
        "max_native_zoom",
        "max_zoom",
        "min_native_zoom",
        "min_zoom",
        "no_wrap",
        "styles",
        "tile_size",
        "tms",
        "transparent",
        "uppercase"
       ],
       "transparent": true,
       "url": "https://imagery.nationalmap.gov/arcgis/services/USGSNAIPImagery/ImageServer/WMSServer?"
      }
     },
     "fdc047c3e586421bae1b76826771033f": {
      "model_module": "@jupyter-widgets/base",
      "model_module_version": "1.2.0",
      "model_name": "LayoutModel",
      "state": {
       "height": "auto",
       "padding": "0px 0px 0px 4px",
       "width": "auto"
      }
     },
     "fdf9cf1321a14646adb7c0434c02a84f": {
      "model_module": "jupyter-leaflet",
      "model_module_version": "^0.16.0",
      "model_name": "LeafletTileLayerModel",
      "state": {
       "_model_module_version": "^0.16.0",
       "_view_module_version": "^0.16.0",
       "attribution": "(C) OpenStreetMap contributors (C) CARTO",
       "max_native_zoom": 18,
       "max_zoom": 20,
       "min_native_zoom": 0,
       "name": "CartoDB.DarkMatterNoLabels",
       "options": [
        "attribution",
        "bounds",
        "detect_retina",
        "max_native_zoom",
        "max_zoom",
        "min_native_zoom",
        "min_zoom",
        "no_wrap",
        "tile_size",
        "tms"
       ],
       "url": "https://a.basemaps.cartocdn.com/dark_nolabels/{z}/{x}/{y}.png"
      }
     },
     "fe56ada29e334141b3e16b0b9a9fb15c": {
      "model_module": "jupyter-leaflet",
      "model_module_version": "^0.16.0",
      "model_name": "LeafletTileLayerModel",
      "state": {
       "_model_module_version": "^0.16.0",
       "_view_module_version": "^0.16.0",
       "attribution": "(C) OpenStreetMap contributors (C) CARTO",
       "max_native_zoom": 18,
       "max_zoom": 20,
       "min_native_zoom": 0,
       "name": "CartoDB.PositronNoLabels",
       "options": [
        "attribution",
        "bounds",
        "detect_retina",
        "max_native_zoom",
        "max_zoom",
        "min_native_zoom",
        "min_zoom",
        "no_wrap",
        "tile_size",
        "tms"
       ],
       "url": "https://a.basemaps.cartocdn.com/light_nolabels/{z}/{x}/{y}.png"
      }
     },
     "fe57dfe23ab5496a9f70384d866ae53a": {
      "model_module": "jupyter-leaflet",
      "model_module_version": "^0.16.0",
      "model_name": "LeafletTileLayerModel",
      "state": {
       "_model_module_version": "^0.16.0",
       "_view_module_version": "^0.16.0",
       "attribution": "CyclOSM | Map data: (C) OpenStreetMap contributors",
       "max_native_zoom": 18,
       "max_zoom": 20,
       "min_native_zoom": 0,
       "name": "CyclOSM",
       "options": [
        "attribution",
        "bounds",
        "detect_retina",
        "max_native_zoom",
        "max_zoom",
        "min_native_zoom",
        "min_zoom",
        "no_wrap",
        "tile_size",
        "tms"
       ],
       "url": "https://a.tile-cyclosm.openstreetmap.fr/cyclosm/{z}/{x}/{y}.png"
      }
     },
     "fe9bb971e56a4a00bca6bbb02447786c": {
      "model_module": "@jupyter-widgets/controls",
      "model_module_version": "1.5.0",
      "model_name": "ButtonStyleModel",
      "state": {}
     }
    },
    "version_major": 2,
    "version_minor": 0
   }
  }
 },
 "nbformat": 4,
 "nbformat_minor": 4
}
